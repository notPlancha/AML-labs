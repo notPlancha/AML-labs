{
  "cells": [
    {
      "cell_type": "markdown",
      "metadata": {
        "id": "view-in-github",
        "colab_type": "text"
      },
      "source": [
        "<a href=\"https://colab.research.google.com/github/aeau/MAU-AML-labs/blob/develop/2-language-models-lab/2-text-classifier-colab.ipynb\" target=\"_parent\"><img src=\"https://colab.research.google.com/assets/colab-badge.svg\" alt=\"Open In Colab\"/></a>"
      ]
    },
    {
      "cell_type": "markdown",
      "metadata": {
        "id": "L8LQKGuJuUF7"
      },
      "source": [
        "## Text Classification ##\n",
        "\n",
        "This notebook is based on this Pytorch tutorial: https://pytorch.org/tutorials/intermediate/char_rnn_classification_tutorial\n",
        "        \n",
        "In this notebook, we will train a network to learn how to classify the country of a name. In this example, we will tokenize per character rather than per word"
      ]
    },
    {
      "cell_type": "code",
      "execution_count": 39,
      "metadata": {
        "id": "ZvHJ9C9YuUF9"
      },
      "outputs": [],
      "source": [
        "from __future__ import unicode_literals, print_function, division\n",
        "from io import open\n",
        "import glob\n",
        "import os\n",
        "import unicodedata\n",
        "import string\n",
        "import random\n",
        "import time\n",
        "import math\n",
        "\n",
        "import torch\n",
        "import torch.nn as nn\n",
        "import torch.optim as optim\n",
        "from torch.optim import lr_scheduler\n",
        "\n",
        "import matplotlib.pyplot as plt\n",
        "import matplotlib.ticker as ticker"
      ]
    },
    {
      "cell_type": "code",
      "execution_count": 40,
      "metadata": {
        "id": "P0W-mTB_uUF9"
      },
      "outputs": [],
      "source": [
        "device = torch.device(\"cuda\" if torch.cuda.is_available() else \"cpu\")\n",
        "# device = \"cpu\""
      ]
    },
    {
      "cell_type": "code",
      "source": [
        "from google.colab import drive\n",
        "drive.mount('/content/drive')"
      ],
      "metadata": {
        "id": "g-jqpBAGuv-Z",
        "outputId": "fab8694f-c189-4e9b-8ddb-bcc01b49c4a9",
        "colab": {
          "base_uri": "https://localhost:8080/"
        }
      },
      "execution_count": 69,
      "outputs": [
        {
          "output_type": "stream",
          "name": "stdout",
          "text": [
            "Drive already mounted at /content/drive; to attempt to forcibly remount, call drive.mount(\"/content/drive\", force_remount=True).\n"
          ]
        }
      ]
    },
    {
      "cell_type": "code",
      "source": [
        "#Change directories to point to your data!\n",
        "data_path = '/content/drive/MyDrive/Work/PHD/courses-AML/data_aml'\n",
        "specfic_path = '/content/drive/MyDrive/Work/PHD/courses-AML/data_aml/lm-data.zip'\n",
        "#!ls \"$root_dir\"\n",
        "root_dir = \"/content/data\"\n",
        "data_dir = root_dir + \"/lm-data/names\"\n",
        "\n",
        "\n",
        "!unzip '/content/drive/MyDrive/Work/PHD/courses-AML/data_aml/lm-data.zip' -d \"$root_dir\""
      ],
      "metadata": {
        "id": "_iihhLl6vIwp",
        "outputId": "add55976-2398-4d10-b913-e0dcadd00f22",
        "colab": {
          "base_uri": "https://localhost:8080/"
        }
      },
      "execution_count": 4,
      "outputs": [
        {
          "output_type": "stream",
          "name": "stdout",
          "text": [
            "Archive:  /content/drive/MyDrive/Work/PHD/courses-AML/data_aml/lm-data.zip\n",
            "   creating: /content/data/lm-data/\n",
            "  inflating: /content/data/lm-data/spa-eng.zip  \n",
            "  inflating: /content/data/__MACOSX/lm-data/._spa-eng.zip  \n",
            "   creating: /content/data/lm-data/names/\n",
            "  inflating: /content/data/__MACOSX/lm-data/._names  \n",
            "  inflating: /content/data/lm-data/.DS_Store  \n",
            "  inflating: /content/data/__MACOSX/lm-data/._.DS_Store  \n",
            "  inflating: /content/data/lm-data/eng-fra.txt  \n",
            "  inflating: /content/data/__MACOSX/lm-data/._eng-fra.txt  \n",
            "  inflating: /content/data/lm-data/eng-swe.txt  \n",
            "  inflating: /content/data/__MACOSX/lm-data/._eng-swe.txt  \n",
            "  inflating: /content/data/lm-data/_about.txt  \n",
            "  inflating: /content/data/__MACOSX/lm-data/.__about.txt  \n",
            "  inflating: /content/data/lm-data/swe-eng.zip  \n",
            "  inflating: /content/data/__MACOSX/lm-data/._swe-eng.zip  \n",
            "   creating: /content/data/lm-data/book-summaries/\n",
            "  inflating: /content/data/__MACOSX/lm-data/._book-summaries  \n",
            "  inflating: /content/data/lm-data/names/Czech.txt  \n",
            "  inflating: /content/data/lm-data/names/German.txt  \n",
            "  inflating: /content/data/lm-data/names/Arabic.txt  \n",
            "  inflating: /content/data/lm-data/names/Japanese.txt  \n",
            "  inflating: /content/data/lm-data/names/Chinese.txt  \n",
            "  inflating: /content/data/lm-data/names/Vietnamese.txt  \n",
            "  inflating: /content/data/lm-data/names/Russian.txt  \n",
            "  inflating: /content/data/lm-data/names/French.txt  \n",
            "  inflating: /content/data/lm-data/names/Irish.txt  \n",
            "  inflating: /content/data/lm-data/names/English.txt  \n",
            "  inflating: /content/data/lm-data/names/Spanish.txt  \n",
            "  inflating: /content/data/lm-data/names/Greek.txt  \n",
            "  inflating: /content/data/lm-data/names/Italian.txt  \n",
            "  inflating: /content/data/lm-data/names/Portuguese.txt  \n",
            "  inflating: /content/data/lm-data/names/Scottish.txt  \n",
            "  inflating: /content/data/lm-data/names/Dutch.txt  \n",
            "  inflating: /content/data/lm-data/names/Korean.txt  \n",
            "  inflating: /content/data/lm-data/names/Polish.txt  \n",
            "   creating: /content/data/lm-data/book-summaries/booksummaries_public/\n",
            "  inflating: /content/data/lm-data/book-summaries/booksummaries.tar.gz  \n",
            "   creating: /content/data/lm-data/book-summaries/booksummaries_public/booksummaries/\n",
            "  inflating: /content/data/lm-data/book-summaries/booksummaries_public/booksummaries/README  \n",
            "  inflating: /content/data/lm-data/book-summaries/booksummaries_public/booksummaries/booksummaries.txt  \n"
          ]
        }
      ]
    },
    {
      "cell_type": "code",
      "execution_count": 41,
      "metadata": {
        "id": "Bgf97XnluUF-",
        "outputId": "58d0bd4f-1fee-4d1c-94d1-a722572a76c2",
        "colab": {
          "base_uri": "https://localhost:8080/"
        }
      },
      "outputs": [
        {
          "output_type": "stream",
          "name": "stdout",
          "text": [
            "57\n",
            "Slusarski\n"
          ]
        }
      ],
      "source": [
        "# Vocabulary\n",
        "all_letters = string.ascii_letters + \" .,;'\"\n",
        "n_letters = len(all_letters)\n",
        "\n",
        "print(n_letters)\n",
        "\n",
        "# Turn a Unicode string to plain ASCII, thanks to https://stackoverflow.com/a/518232/2809427\n",
        "def unicodeToAscii(s):\n",
        "    return ''.join(\n",
        "        c for c in unicodedata.normalize('NFD', s)\n",
        "        if unicodedata.category(c) != 'Mn'\n",
        "        and c in all_letters\n",
        "    )\n",
        "\n",
        "print(unicodeToAscii('Ślusàrski'))"
      ]
    },
    {
      "cell_type": "code",
      "execution_count": 42,
      "metadata": {
        "id": "92gHaPfOuUF_",
        "outputId": "fabce61f-de96-4e66-d1fc-466dc2abe9db",
        "colab": {
          "base_uri": "https://localhost:8080/"
        }
      },
      "outputs": [
        {
          "output_type": "stream",
          "name": "stdout",
          "text": [
            "['/content/data/lm-data/names/Spanish.txt', '/content/data/lm-data/names/Japanese.txt', '/content/data/lm-data/names/Portuguese.txt', '/content/data/lm-data/names/Arabic.txt', '/content/data/lm-data/names/Polish.txt', '/content/data/lm-data/names/Russian.txt', '/content/data/lm-data/names/Czech.txt', '/content/data/lm-data/names/Dutch.txt', '/content/data/lm-data/names/Vietnamese.txt', '/content/data/lm-data/names/Irish.txt', '/content/data/lm-data/names/Scottish.txt', '/content/data/lm-data/names/English.txt', '/content/data/lm-data/names/Greek.txt', '/content/data/lm-data/names/Italian.txt', '/content/data/lm-data/names/German.txt', '/content/data/lm-data/names/French.txt', '/content/data/lm-data/names/Chinese.txt', '/content/data/lm-data/names/Korean.txt']\n",
            "18\n"
          ]
        }
      ],
      "source": [
        "def findFiles(path): return glob.glob(path)\n",
        "\n",
        "print(findFiles(data_dir + '/*.txt'))\n",
        "\n",
        "# Build the category_lines dictionary, a list of names per language\n",
        "category_lines = {}\n",
        "all_categories = []\n",
        "\n",
        "# Read a file and split into lines\n",
        "def readLines(filename):\n",
        "    lines = open(filename, encoding='utf-8').read().strip().split('\\n')\n",
        "    return [unicodeToAscii(line) for line in lines]\n",
        "\n",
        "for filename in findFiles(data_dir + '/*.txt'):\n",
        "    category = os.path.splitext(os.path.basename(filename))[0]\n",
        "    all_categories.append(category)\n",
        "    lines = readLines(filename)\n",
        "    category_lines[category] = lines\n",
        "\n",
        "n_categories = len(all_categories)\n",
        "print(n_categories) # Classes\n",
        "# print(category_lines)"
      ]
    },
    {
      "cell_type": "code",
      "execution_count": 44,
      "metadata": {
        "id": "ow4ebeBSuUF_",
        "outputId": "45ba9551-69b2-49e2-f73d-67a1bc53b818",
        "colab": {
          "base_uri": "https://localhost:8080/"
        }
      },
      "outputs": [
        {
          "output_type": "stream",
          "name": "stdout",
          "text": [
            "['Adamidis', 'Adamou', 'Agelakos', 'Akrivopoulos', 'Alexandropoulos']\n",
            "['Abana', 'Abano', 'Abarca', 'Abaroa', 'Abascal', 'Abasolo', 'Abel', 'Abello', 'Aberquero', 'Abreu', 'Acosta', 'Agramunt', 'Aiza', 'Alamilla', 'Albert', 'Albuquerque', 'Aldana', 'Alfaro', 'Alvarado', 'Alvarez', 'Alves', 'Amador', 'Andreu', 'Antunez', 'Aqua', 'Aquino', 'Araujo', 'Araullo', 'Araya', 'Arce', 'Arechavaleta', 'Arena', 'Aritza', 'Armando', 'Arreola', 'Arriola', 'Asis', 'Asturias', 'Avana', 'Azarola', 'Banderas', 'Barros', 'Basurto', 'Bautista', 'Bello', 'Belmonte', 'Bengochea', 'Benitez', 'Bermudez', 'Blanco', 'Blanxart', 'Bolivar', 'Bonaventura', 'Bosque', 'Bustillo', 'Busto', 'Bustos', 'Cabello', 'Cabrera', 'Campo', 'Campos', 'Capello', 'Cardona', 'Caro', 'Casales', 'Castell', 'Castellano', 'Castillion', 'Castillo', 'Castro', 'Chavarria', 'Chavez', 'Colon', 'Costa', 'Crespo', 'Cruz', 'Cuellar', 'Cuevas', \"D'cruz\", \"D'cruze\", 'De la cruz', 'De la fuente', 'Del bosque', 'De leon', 'Delgado', 'Del olmo', 'De santigo', 'Diaz', 'Dominguez', 'Duarte', 'Durante', 'Echevarria', 'Echeverria', 'Elizondo', 'Escamilla', 'Escarcega', 'Escarra', 'Esparza', 'Espina', 'Espino', 'Espinosa', 'Espinoza', 'Estevez', 'Etxebarria', 'Etxeberria', 'Felix', 'Fernandez', 'Ferrer', 'Fierro', 'Flores', 'Fonseca', 'Franco', 'Fuentes', 'Gallego', 'Gallo', 'Garcia', 'Garrastazu', 'Garza', 'Gaspar', 'Gebara', 'Gomez', 'Gonzales', 'Gonzalez', 'Grec', 'Guadarrama', 'Guerra', 'Guerrero', 'Gutierrez', 'Gutierrez', 'Hernandez', 'Herrera', 'Herrero', 'Hierro', 'Holguin', 'Huerta', 'Ibanez', 'Ibarra', 'Iniguez', 'Iturburua', 'Jaso', 'Jasso', 'Jimenez', 'Jorda', 'Juarez', 'Lobo', 'Lopez', 'Losa', 'Loyola', 'Machado', 'Macias', 'Maradona', 'Maria', 'Marino', 'Marquez', 'Martell', 'Marti', 'Martinez', 'Martinez', 'Mas', 'Mata', 'Mateu', 'Medina', 'Melendez', 'Mendez', 'Mendoza', 'Menendez', 'Merlo', 'Michel', 'Mingo', 'Moles', 'Molina', 'Montero', 'Morales', 'Moralez', 'Moreno', 'Narvaez', 'Nieves', 'Noguerra', 'Nunez', 'Obando', 'Ochoa', 'Ojeda', 'Ola', 'Oleastro', 'Olguin', 'Oliver', 'Olmos', 'Oquendo', 'Orellana', 'Oriol', 'Ortega', 'Ortiz', 'Palomo', 'Paredes', 'Pavia', 'Pelaez', 'Pena', 'Perez', 'Perez', 'Petit', 'Picasso', 'Porra', 'Porras', 'Prieto', 'Puerta', 'Puga', 'Puig', 'Quinones', 'Quintana', 'Quiros', 'Ramirez', 'Ramos', 'Rana', 'Rendon', 'Rey', 'Reyes', 'Rios', 'Rivera', 'Rivero', 'Robledo', 'Robles', 'Rocha', 'Rodriguez', 'Rodriquez', 'Roig', 'Rojas', 'Rojo', 'Roldan', 'Roma', 'Roma', 'Romero', 'Rosa', 'Rosales', 'Rubio', 'Ruiz', 'Sala', 'Salamanca', 'Salazar', 'Salcedo', 'Salinas', 'Sanchez', 'Sandoval', 'San nicolas', 'Santana', 'Santiago', 'Santillian', 'Santos', 'Sastre', 'Sepulveda', 'Sierra', 'Silva', 'Soler', 'Solo', 'Solos', 'Soto', 'Suarez', 'Suero', 'Tapia', 'Terrazas', 'Tomas', 'Torres', 'Tos', 'Tosell', 'Toset', 'Travieso', 'Trujillo', 'Ubina', 'Urbina', 'Urena', 'Valdez', 'Valencia', 'Varela', 'Vargas', 'Vasquez', 'Vazquez', 'Vega', 'Vela', 'Vela', 'Velazquez', 'Ventura', 'Vicario', 'Vilaro', 'Villa', 'Villalobos', 'Villanueva', 'Villaverde', 'Viola', 'Viteri', 'Vivas', 'Vives', 'Ybarra', 'Zabala', 'Zambrano', 'Zamorano', 'Zapatero', 'Zavala', 'Zubizarreta', 'Zuniga']\n"
          ]
        }
      ],
      "source": [
        "print(category_lines['Greek'][:5])\n",
        "print(category_lines['Spanish'])"
      ]
    },
    {
      "cell_type": "markdown",
      "metadata": {
        "id": "DsC2K5HNuUF_"
      },
      "source": [
        "### Make everything into one-hot vector ###\n",
        "\n",
        "For it to be used (transform into a tensor). Here we are doing a character-based one-hot vector"
      ]
    },
    {
      "cell_type": "code",
      "execution_count": 47,
      "metadata": {
        "id": "DxTCIJJ_uUGA",
        "outputId": "e91245b4-60e8-4226-d455-f7c512c597c4",
        "colab": {
          "base_uri": "https://localhost:8080/"
        }
      },
      "outputs": [
        {
          "output_type": "stream",
          "name": "stdout",
          "text": [
            "tensor([[0., 0., 0., 0., 0., 0., 0., 0., 0., 0., 0., 0., 0., 0., 0., 0., 0., 0.,\n",
            "         0., 0., 0., 0., 0., 0., 0., 0., 0., 0., 0., 0., 0., 0., 0., 0., 0., 1.,\n",
            "         0., 0., 0., 0., 0., 0., 0., 0., 0., 0., 0., 0., 0., 0., 0., 0., 0., 0.,\n",
            "         0., 0., 0.]])\n",
            "tensor([[0., 0., 0., 0., 0., 0., 0., 0., 0., 0., 0., 0., 0., 0., 1., 0., 0., 0.,\n",
            "         0., 0., 0., 0., 0., 0., 0., 0., 0., 0., 0., 0., 0., 0., 0., 0., 0., 0.,\n",
            "         0., 0., 0., 0., 0., 0., 0., 0., 0., 0., 0., 0., 0., 0., 0., 0., 0., 0.,\n",
            "         0., 0., 0.]])\n",
            "torch.Size([5, 1, 57])\n"
          ]
        }
      ],
      "source": [
        "# Find letter index from all_letters, e.g. \"a\" = 0\n",
        "def letterToIndex(letter):\n",
        "    return all_letters.find(letter)\n",
        "\n",
        "# Just for demonstration, turn a letter into a <1 x n_letters> Tensor\n",
        "def letterToTensor(letter):\n",
        "    tensor = torch.zeros(1, n_letters)\n",
        "    tensor[0][letterToIndex(letter)] = 1\n",
        "    return tensor\n",
        "\n",
        "# Turn a line into a <line_length x 1 x n_letters>,\n",
        "# or an array of one-hot letter vectors\n",
        "def lineToTensor(line):\n",
        "    tensor = torch.zeros(len(line), 1, n_letters)\n",
        "    for li, letter in enumerate(line):\n",
        "        tensor[li][0][letterToIndex(letter)] = 1\n",
        "    return tensor\n",
        "\n",
        "print(letterToTensor('J'))\n",
        "print(letterToTensor('o'))\n",
        "print(lineToTensor('Jones').size())"
      ]
    },
    {
      "cell_type": "code",
      "execution_count": 48,
      "metadata": {
        "id": "DVFbr4OhuUGA"
      },
      "outputs": [],
      "source": [
        "class RNN(nn.Module):\n",
        "    def __init__(self, input_size, hidden_size, output_size):\n",
        "        super(RNN, self).__init__()\n",
        "\n",
        "        self.hidden_size = hidden_size\n",
        "\n",
        "        self.hidden_comp = nn.Linear(input_size + hidden_size, hidden_size)\n",
        "        self.output_comp = nn.Linear(input_size + hidden_size, hidden_size)\n",
        "        self.output2output = nn.Linear(hidden_size, output_size)\n",
        "        self.tanh_act = nn.Tanh()\n",
        "        self.lsoftmax = nn.LogSoftmax(dim=1)\n",
        "\n",
        "    def forward(self, x, hidden):\n",
        "#         print(x.shape)\n",
        "        \n",
        "        combined = torch.cat((x, hidden), 1)\n",
        "        hidden = self.hidden_comp(combined)\n",
        "        hidden = self.tanh_act(hidden)\n",
        "#         print(hidden.shape)\n",
        "        \n",
        "        output = self.output_comp(combined)\n",
        "        output = self.tanh_act(output)\n",
        "#         print(output.shape)\n",
        "        output = self.output2output(output)\n",
        "        output = self.lsoftmax(output)\n",
        "#         print(output.shape)\n",
        "        \n",
        "        return output, hidden\n",
        "\n",
        "    def initHidden(self):\n",
        "        return torch.zeros(1, self.hidden_size)\n",
        "\n",
        "n_hidden = 128\n",
        "rnn = RNN(n_letters, n_hidden, n_categories)"
      ]
    },
    {
      "cell_type": "markdown",
      "metadata": {
        "id": "RYv3BheauUGB"
      },
      "source": [
        "To run a step of this network we need to pass an input (in our case, the Tensor for the current letter) and a previous hidden state (which we initialize as zeros at first). We’ll get back the output (probability of each language) and a next hidden state (which we keep for the next step)."
      ]
    },
    {
      "cell_type": "code",
      "execution_count": 50,
      "metadata": {
        "id": "EMZ2mbjuuUGB",
        "outputId": "701b13e6-b3da-4f07-bfe5-787df171b31c",
        "colab": {
          "base_uri": "https://localhost:8080/"
        }
      },
      "outputs": [
        {
          "output_type": "stream",
          "name": "stdout",
          "text": [
            "torch.Size([1, 57])\n",
            "torch.Size([1, 128])\n",
            "tensor([15])\n",
            "tensor([[15, 16,  2]])\n"
          ]
        }
      ],
      "source": [
        "x = letterToTensor('A')\n",
        "print(x.shape)\n",
        "hidden =torch.zeros(1, n_hidden)\n",
        "hidden = rnn.initHidden()\n",
        "print(hidden.shape)\n",
        "\n",
        "output, next_hidden = rnn(x, hidden)\n",
        "print(output.argmax(-1))\n",
        "print(output.topk(3).indices)"
      ]
    },
    {
      "cell_type": "code",
      "execution_count": 51,
      "metadata": {
        "id": "Pb05odt2uUGB",
        "outputId": "350026ac-e6bd-4fa1-b41c-f1bf3d85a253",
        "colab": {
          "base_uri": "https://localhost:8080/"
        }
      },
      "outputs": [
        {
          "output_type": "stream",
          "name": "stdout",
          "text": [
            "tensor([1])\n"
          ]
        }
      ],
      "source": [
        "x = lineToTensor('Alberto')\n",
        "hidden = torch.zeros(1, n_hidden)\n",
        "\n",
        "output, next_hidden = rnn(x[0], hidden)\n",
        "output, next_hidden = rnn(x[1], next_hidden)\n",
        "output, next_hidden = rnn(x[2], next_hidden)\n",
        "output, next_hidden = rnn(x[3], next_hidden)\n",
        "output, next_hidden = rnn(x[4], next_hidden)\n",
        "output, next_hidden = rnn(x[5], next_hidden)\n",
        "output, next_hidden = rnn(x[6], next_hidden)\n",
        "print(output.argmax(-1))"
      ]
    },
    {
      "cell_type": "markdown",
      "metadata": {
        "id": "7ZH4fIXmuUGC"
      },
      "source": [
        "## Preparing for training! ##"
      ]
    },
    {
      "cell_type": "code",
      "execution_count": 52,
      "metadata": {
        "id": "aHhkw2PfuUGC",
        "outputId": "d3f86a06-a01e-4e09-aa27-464b0286313b",
        "colab": {
          "base_uri": "https://localhost:8080/"
        }
      },
      "outputs": [
        {
          "output_type": "stream",
          "name": "stdout",
          "text": [
            "('Japanese', 1)\n"
          ]
        }
      ],
      "source": [
        "# Helper function to get the actual category from the best\n",
        "\n",
        "def categoryFromOutput(output):\n",
        "    top_n, top_i = output.topk(1)\n",
        "    category_i = top_i[0].item()\n",
        "    return all_categories[category_i], category_i\n",
        "\n",
        "print(categoryFromOutput(output))"
      ]
    },
    {
      "cell_type": "markdown",
      "metadata": {
        "id": "wcJkVs-0uUGC"
      },
      "source": [
        "### Quick way to get training example (Src = Name, Trg = Language) ###"
      ]
    },
    {
      "cell_type": "code",
      "execution_count": 54,
      "metadata": {
        "id": "2C8qeLDPuUGC",
        "outputId": "204efac2-8d20-4c1b-b187-0d86f50d7cf1",
        "colab": {
          "base_uri": "https://localhost:8080/"
        }
      },
      "outputs": [
        {
          "output_type": "stream",
          "name": "stdout",
          "text": [
            "category = Scottish / line = Mckenzie\n",
            "category = French / line = Allard\n",
            "category = English / line = Downes\n",
            "category = Dutch / line = Klerks\n",
            "category = Dutch / line = Laren\n",
            "category = Japanese / line = Teshima\n",
            "category = German / line = Wetzel\n",
            "category = French / line = Babineaux\n",
            "category = Chinese / line = Juan\n",
            "category = Chinese / line = Fan\n"
          ]
        }
      ],
      "source": [
        "def randomChoice(l):\n",
        "    return l[random.randint(0, len(l) - 1)]\n",
        "\n",
        "def randomTrainingExample():\n",
        "    category = randomChoice(all_categories)\n",
        "    line = randomChoice(category_lines[category])\n",
        "    category_tensor = torch.tensor([all_categories.index(category)], dtype=torch.long)\n",
        "    line_tensor = lineToTensor(line)\n",
        "    return category, line, category_tensor, line_tensor\n",
        "\n",
        "for i in range(10):\n",
        "    category, line, category_tensor, line_tensor = randomTrainingExample()\n",
        "    print('category =', category, '/ line =', line)"
      ]
    },
    {
      "cell_type": "code",
      "execution_count": 55,
      "metadata": {
        "id": "SNiUZiPzuUGC"
      },
      "outputs": [],
      "source": [
        "def timeSince(since):\n",
        "    now = time.time()\n",
        "    s = now - since\n",
        "    m = math.floor(s / 60)\n",
        "    s -= m * 60\n",
        "    return '%dm %ds' % (m, s)\n"
      ]
    },
    {
      "cell_type": "markdown",
      "metadata": {
        "id": "u8anePKNuUGD"
      },
      "source": [
        "## Train now!!! ##"
      ]
    },
    {
      "cell_type": "code",
      "execution_count": 57,
      "metadata": {
        "id": "sn6VaoZluUGD"
      },
      "outputs": [],
      "source": [
        "def train(category_tensor, line_tensor, optim, criterion, model):\n",
        "    \n",
        "    model.train()\n",
        "    hidden = model.initHidden()\n",
        "    model.zero_grad()\n",
        "    \n",
        "    category_tensor = category_tensor.to(device)\n",
        "    line_tensor = line_tensor.to(device)\n",
        "\n",
        "    # Iterate through the whole line!\n",
        "    for i in range(line_tensor.size()[0]):\n",
        "        hidden = hidden.to(device)\n",
        "        output, hidden = model(line_tensor[i], hidden)\n",
        "\n",
        "    loss = criterion(output, category_tensor)\n",
        "    \n",
        "    # zero the parameter gradients\n",
        "    optim.zero_grad()\n",
        "    loss.backward()\n",
        "    optim.step()\n",
        "\n",
        "    return output, loss.item()"
      ]
    },
    {
      "cell_type": "markdown",
      "metadata": {
        "id": "PvFb32TruUGD"
      },
      "source": [
        "#### Train with the RNN from scrath ####"
      ]
    },
    {
      "cell_type": "code",
      "execution_count": 58,
      "metadata": {
        "id": "hJsjzrjRuUGD",
        "outputId": "a0f08b5f-a09b-4fab-9ed3-125e95f82d14",
        "colab": {
          "base_uri": "https://localhost:8080/"
        }
      },
      "outputs": [
        {
          "output_type": "stream",
          "name": "stdout",
          "text": [
            "5000 50% (0m 8s) 2.3201 Kwei / Korean ✗ (Chinese)\n",
            "10000 100% (0m 17s) 5.2702 Lis / Korean ✗ (Polish)\n"
          ]
        }
      ],
      "source": [
        "criterion = nn.NLLLoss() # Because we are using Log_softmax\n",
        "learning_rate = 0.005 # If you set this too high, it might explode. If too low, it might not learn\n",
        "N_HIDDEN = 128\n",
        "\n",
        "model_basic = RNN(n_letters, N_HIDDEN, n_categories) #Vocab_size, hidden size, output classes\n",
        "model_basic = model_basic.to(device)\n",
        "optimizer = optim.SGD(model_basic.parameters(), lr=learning_rate)\n",
        "\n",
        "n_iters = 10000\n",
        "print_every = 5000\n",
        "plot_every = 1000\n",
        "\n",
        "# Keep track of losses for plotting\n",
        "current_loss = 0\n",
        "all_losses = []\n",
        "\n",
        "start = time.time()\n",
        "\n",
        "for iter in range(1, n_iters + 1):\n",
        "    category, line, category_tensor, line_tensor = randomTrainingExample()\n",
        "    output, loss = train(category_tensor, line_tensor, optimizer, criterion, model_basic)\n",
        "    current_loss += loss\n",
        "\n",
        "    # Print iter number, loss, name and guess\n",
        "    if iter % print_every == 0:\n",
        "        guess, guess_i = categoryFromOutput(output)\n",
        "        correct = '✓' if guess == category else '✗ (%s)' % category\n",
        "        print('%d %d%% (%s) %.4f %s / %s %s' % (iter, iter / n_iters * 100, timeSince(start), loss, line, guess, correct))\n",
        "\n",
        "    # Add current loss avg to list of losses\n",
        "    if iter % plot_every == 0:\n",
        "        all_losses.append(current_loss / plot_every)\n",
        "        current_loss = 0"
      ]
    },
    {
      "cell_type": "code",
      "execution_count": 59,
      "metadata": {
        "id": "Cht6CoG8uUGD",
        "outputId": "bfa47d5e-5876-4d33-e6e8-484dd2288193",
        "colab": {
          "base_uri": "https://localhost:8080/",
          "height": 283
        }
      },
      "outputs": [
        {
          "output_type": "execute_result",
          "data": {
            "text/plain": [
              "[<matplotlib.lines.Line2D at 0x7f810b8a1490>]"
            ]
          },
          "metadata": {},
          "execution_count": 59
        },
        {
          "output_type": "display_data",
          "data": {
            "text/plain": [
              "<Figure size 432x288 with 1 Axes>"
            ],
            "image/png": "[encoded data removed]"
          },
          "metadata": {
            "needs_background": "light"
          }
        }
      ],
      "source": [
        "# PLOT THE RESULT\n",
        "\n",
        "import matplotlib.pyplot as plt\n",
        "import matplotlib.ticker as ticker\n",
        "\n",
        "plt.figure()\n",
        "plt.plot(all_losses)"
      ]
    },
    {
      "cell_type": "markdown",
      "metadata": {
        "id": "kg7esg4muUGD"
      },
      "source": [
        "## Evaluate the results with a confusion matrix! ##"
      ]
    },
    {
      "cell_type": "code",
      "execution_count": 60,
      "metadata": {
        "id": "uzKItQSsuUGD",
        "outputId": "d7355588-5337-4df1-cd03-8bb6ebd84f51",
        "colab": {
          "base_uri": "https://localhost:8080/",
          "height": 320
        }
      },
      "outputs": [
        {
          "output_type": "display_data",
          "data": {
            "text/plain": [
              "<Figure size 432x288 with 2 Axes>"
            ],
            "image/png": "[encoded data removed]"
          },
          "metadata": {
            "needs_background": "light"
          }
        }
      ],
      "source": [
        "# Keep track of correct guesses in a confusion matrix\n",
        "confusion = torch.zeros(n_categories, n_categories)\n",
        "n_confusion = 10000\n",
        "\n",
        "# Just return an output given a line\n",
        "def evaluate(line_tensor, model):\n",
        "    model.eval()\n",
        "    hidden = model.initHidden()\n",
        "    line_tensor = line_tensor.to(device)\n",
        "\n",
        "    for i in range(line_tensor.size()[0]):\n",
        "        hidden = hidden.to(device)\n",
        "        output, hidden = model(line_tensor[i], hidden)\n",
        "\n",
        "    return output\n",
        "\n",
        "# Go through a bunch of examples and record which are correctly guessed\n",
        "for i in range(n_confusion):\n",
        "    category, line, category_tensor, line_tensor = randomTrainingExample()\n",
        "    output = evaluate(line_tensor, model_basic)\n",
        "    guess, guess_i = categoryFromOutput(output)\n",
        "    category_i = all_categories.index(category)\n",
        "    confusion[category_i][guess_i] += 1\n",
        "\n",
        "# Normalize by dividing every row by its sum\n",
        "for i in range(n_categories):\n",
        "    confusion[i] = confusion[i] / confusion[i].sum()\n",
        "\n",
        "# Set up plot\n",
        "fig = plt.figure()\n",
        "ax = fig.add_subplot(111)\n",
        "cax = ax.matshow(confusion.numpy())\n",
        "fig.colorbar(cax)\n",
        "\n",
        "# Set up axes\n",
        "ax.set_xticklabels([''] + all_categories, rotation=90)\n",
        "ax.set_yticklabels([''] + all_categories)\n",
        "\n",
        "# Force label at every tick\n",
        "ax.xaxis.set_major_locator(ticker.MultipleLocator(1))\n",
        "ax.yaxis.set_major_locator(ticker.MultipleLocator(1))\n",
        "\n",
        "# sphinx_gallery_thumbnail_number = 2\n",
        "plt.show()"
      ]
    },
    {
      "cell_type": "markdown",
      "metadata": {
        "id": "kmsE1es5uUGE"
      },
      "source": [
        "## Now we can try predicting our own things! ##"
      ]
    },
    {
      "cell_type": "code",
      "execution_count": 61,
      "metadata": {
        "id": "riBQ2g2iuUGE",
        "outputId": "25a7ac8c-a90f-4d09-cd32-9373d9dec480",
        "colab": {
          "base_uri": "https://localhost:8080/"
        }
      },
      "outputs": [
        {
          "output_type": "stream",
          "name": "stdout",
          "text": [
            "\n",
            "> Dovesky\n",
            "(-1.66) Russian\n",
            "(-1.90) Polish\n",
            "(-2.03) Irish\n",
            "\n",
            "> Jackson\n",
            "(-1.56) Irish\n",
            "(-1.81) Scottish\n",
            "(-1.91) Russian\n",
            "\n",
            "> Satoshi\n",
            "(-1.64) Italian\n",
            "(-1.97) Polish\n",
            "(-1.98) Japanese\n",
            "\n",
            "> Alberto\n",
            "(-1.68) Italian\n",
            "(-2.04) Portuguese\n",
            "(-2.10) Spanish\n"
          ]
        }
      ],
      "source": [
        "def predict(input_line, n_predictions=3):\n",
        "    print('\\n> %s' % input_line)\n",
        "    with torch.no_grad():\n",
        "        output = evaluate(lineToTensor(input_line), model_basic)\n",
        "\n",
        "        # Get top N categories\n",
        "        topv, topi = output.topk(n_predictions, 1, True)\n",
        "        predictions = []\n",
        "\n",
        "        for i in range(n_predictions):\n",
        "            value = topv[0][i].item()\n",
        "            category_index = topi[0][i].item()\n",
        "            print('(%.2f) %s' % (value, all_categories[category_index]))\n",
        "            predictions.append([value, all_categories[category_index]])\n",
        "\n",
        "predict('Dovesky')\n",
        "predict('Jackson')\n",
        "predict('Satoshi')\n",
        "predict('Alberto')"
      ]
    },
    {
      "cell_type": "markdown",
      "metadata": {
        "id": "xwp5RUYAuUGE"
      },
      "source": [
        "### So now lets shift to using the RNN Module from Pytorch ###"
      ]
    },
    {
      "cell_type": "code",
      "execution_count": 62,
      "metadata": {
        "id": "hTRGi1tvuUGE",
        "outputId": "384d256f-7e6f-4c64-8512-bdab61dc3099",
        "colab": {
          "base_uri": "https://localhost:8080/"
        }
      },
      "outputs": [
        {
          "output_type": "stream",
          "name": "stdout",
          "text": [
            "category = Irish / line = O'Gorman\n",
            "category = Spanish / line = De leon\n",
            "category = Vietnamese / line = Do\n",
            "category = Portuguese / line = Cardozo\n",
            "category = Polish / line = Koziol\n",
            "category = Chinese / line = Chaim\n",
            "category = Spanish / line = Oriol\n",
            "category = Russian / line = Jadryshnikov\n",
            "category = Czech / line = Ponec\n",
            "category = Scottish / line = Hamilton\n"
          ]
        }
      ],
      "source": [
        "def categoryToTensor(category):\n",
        "#     tensor = torch.zeros([1, 1], dtype=torch.long)\n",
        "#     tensor[0][0] = all_categories.index(category)\n",
        "    tensor = torch.zeros([1, len(all_categories)], dtype=torch.long)\n",
        "    tensor[0][all_categories.index(category)] = 1\n",
        "    return tensor\n",
        "\n",
        "def randomChoice(l):\n",
        "    return l[random.randint(0, len(l) - 1)]\n",
        "\n",
        "def randomTrainingExample():\n",
        "    category = randomChoice(all_categories)\n",
        "    line = randomChoice(category_lines[category])\n",
        "    category_tensor = categoryToTensor(category)\n",
        "    line_tensor = lineToTensor(line)\n",
        "    return category, line, category_tensor, line_tensor\n",
        "\n",
        "for i in range(10):\n",
        "    category, line, category_tensor, line_tensor = randomTrainingExample()\n",
        "    print('category =', category, '/ line =', line)\n",
        "#     print(category_tensor.shape)"
      ]
    },
    {
      "cell_type": "code",
      "execution_count": 63,
      "metadata": {
        "id": "aV7pI3_CuUGE"
      },
      "outputs": [],
      "source": [
        "class RNNPytorch(nn.Module):\n",
        "    def __init__(self, input_size, hidden_size, output_size):\n",
        "        super(RNNPytorch, self).__init__()\n",
        "\n",
        "        self.hidden_size = hidden_size\n",
        "        \n",
        "        self.rnn = nn.RNN(input_size, hidden_size, num_layers=1, batch_first=True) # 1 is num_layers\n",
        "        self.fc = nn.Linear(hidden_size, output_size)\n",
        "        self.lsoftmax = nn.LogSoftmax(dim=1)\n",
        "\n",
        "    def forward(self, x, hidden):\n",
        "\n",
        "        hidden, output = self.rnn(x, hidden)\n",
        "\n",
        "        output = output.contiguous().view(-1, self.hidden_size)\n",
        "        output = self.fc(output)\n",
        "        output = self.lsoftmax(output)\n",
        "        \n",
        "        return output, hidden\n",
        "\n",
        "    def initHidden(self, batch_size):\n",
        "        return torch.zeros(1, 1, self.hidden_size)"
      ]
    },
    {
      "cell_type": "code",
      "execution_count": 64,
      "metadata": {
        "id": "ym7RVeKHuUGE"
      },
      "outputs": [],
      "source": [
        "def train_pytorch_model(category_tensor, line_tensor, optim, criterion, model):\n",
        "    \n",
        "    model.train()\n",
        "    hidden = model.initHidden(line_tensor.shape[1])\n",
        "    model.zero_grad()\n",
        "    line_tensor = line_tensor.permute(1, 0, 2)\n",
        "#     print(line_tensor.shape)\n",
        "    \n",
        "#     print(category_tensor.shape)\n",
        "    category_tensor = category_tensor.to(device)\n",
        "    line_tensor = line_tensor.to(device)\n",
        "    \n",
        "    # Iterate through the whole line!\n",
        "    hidden = hidden.to(device)\n",
        "    output, hidden = model(line_tensor, hidden)\n",
        "\n",
        "    loss = criterion(output, torch.topk(category_tensor, 1).indices.view(-1))\n",
        "    \n",
        "    # zero the parameter gradients\n",
        "    optim.zero_grad()\n",
        "    loss.backward()\n",
        "    optim.step()\n",
        "\n",
        "    return output, loss.item()"
      ]
    },
    {
      "cell_type": "markdown",
      "metadata": {
        "id": "VAfzhojnuUGE"
      },
      "source": [
        "#### Train from the RNN using pytorch approach ####"
      ]
    },
    {
      "cell_type": "code",
      "execution_count": 65,
      "metadata": {
        "id": "EfKG1mWXuUGE",
        "outputId": "818c9dbd-577c-49f4-ae1d-5e06f43c412b",
        "colab": {
          "base_uri": "https://localhost:8080/"
        }
      },
      "outputs": [
        {
          "output_type": "stream",
          "name": "stdout",
          "text": [
            "5000 5% (0m 6s) 2.9949 Bran / Chinese ✗ (Irish)\n",
            "10000 10% (0m 13s) 1.1129 Mosconi / Italian ✓\n",
            "15000 15% (0m 19s) 1.5127 Truong / Korean ✗ (Vietnamese)\n",
            "20000 20% (0m 26s) 1.1294 Ho / Vietnamese ✓\n",
            "25000 25% (0m 33s) 3.9603 Wornhor / Scottish ✗ (German)\n",
            "30000 30% (0m 40s) 1.2015 Kim / Korean ✓\n",
            "35000 35% (0m 46s) 2.4278 Amato / Japanese ✗ (Italian)\n",
            "40000 40% (0m 53s) 1.4174 Shaw / Korean ✗ (Chinese)\n",
            "45000 45% (0m 59s) 0.0204 Shiroyama / Japanese ✓\n",
            "50000 50% (1m 6s) 0.0722 Nakahara / Japanese ✓\n",
            "55000 55% (1m 12s) 3.6488 Boutros / Portuguese ✗ (Arabic)\n",
            "60000 60% (1m 19s) 0.9673 Peatain / French ✗ (Irish)\n",
            "65000 65% (1m 26s) 0.9108 Alldridge / English ✓\n",
            "70000 70% (1m 33s) 3.0558 Rheem / Chinese ✗ (Korean)\n",
            "75000 75% (1m 39s) 0.2855 Pokhlebkin / Russian ✓\n",
            "80000 80% (1m 46s) 0.2756 Nguyen / Vietnamese ✓\n",
            "85000 85% (1m 53s) 0.1464 Kalakos / Greek ✓\n",
            "90000 90% (2m 0s) 0.5290 Fung / Chinese ✓\n",
            "95000 95% (2m 6s) 0.3938 Dubhan / Irish ✓\n",
            "100000 100% (2m 13s) 0.3336 Houttum / Dutch ✓\n"
          ]
        }
      ],
      "source": [
        "criterion = nn.NLLLoss() # Because we are using Log_softmax\n",
        "learning_rate = 0.005 # If you set this too high, it might explode. If too low, it might not learn\n",
        "N_HIDDEN = 128\n",
        "\n",
        "model_pytorch = RNNPytorch(n_letters, N_HIDDEN, n_categories) #Vocab_size, hidden size, output classes\n",
        "model_pytorch = model_pytorch.to(device)\n",
        "optimizer = optim.SGD(model_pytorch.parameters(), lr=learning_rate)\n",
        "\n",
        "n_iters = 100000\n",
        "print_every = 5000\n",
        "plot_every = 1000\n",
        "\n",
        "# Keep track of losses for plotting\n",
        "current_loss = 0\n",
        "all_losses = []\n",
        "\n",
        "start = time.time()\n",
        "\n",
        "for iter in range(1, n_iters + 1):\n",
        "    category, line, category_tensor, line_tensor = randomTrainingExample()\n",
        "    output, loss = train_pytorch_model(category_tensor, line_tensor, optimizer, criterion, model_pytorch)\n",
        "    current_loss += loss\n",
        "    # Print iter number, loss, name and guess\n",
        "    if iter % print_every == 0:\n",
        "        guess, guess_i = categoryFromOutput(output)\n",
        "        correct = '✓' if guess == category else '✗ (%s)' % category\n",
        "        print('%d %d%% (%s) %.4f %s / %s %s' % (iter, iter / n_iters * 100, timeSince(start), loss, line, guess, correct))\n",
        "\n",
        "    # Add current loss avg to list of losses\n",
        "    if iter % plot_every == 0:\n",
        "        all_losses.append(current_loss / plot_every)\n",
        "        current_loss = 0"
      ]
    },
    {
      "cell_type": "code",
      "execution_count": 66,
      "metadata": {
        "id": "eFAsPtDCuUGE",
        "outputId": "a85ac13d-d8cb-4348-8d71-e4bdd1b195fb",
        "colab": {
          "base_uri": "https://localhost:8080/",
          "height": 283
        }
      },
      "outputs": [
        {
          "output_type": "execute_result",
          "data": {
            "text/plain": [
              "[<matplotlib.lines.Line2D at 0x7f80fffcd890>]"
            ]
          },
          "metadata": {},
          "execution_count": 66
        },
        {
          "output_type": "display_data",
          "data": {
            "text/plain": [
              "<Figure size 432x288 with 1 Axes>"
            ],
            "image/png": "[encoded data removed]"
          },
          "metadata": {
            "needs_background": "light"
          }
        }
      ],
      "source": [
        "# PLOT THE RESULT\n",
        "\n",
        "import matplotlib.pyplot as plt\n",
        "import matplotlib.ticker as ticker\n",
        "\n",
        "plt.figure()\n",
        "plt.plot(all_losses)"
      ]
    },
    {
      "cell_type": "code",
      "execution_count": 67,
      "metadata": {
        "id": "_qw4fy_AuUGF"
      },
      "outputs": [],
      "source": [
        "# Just return an output given a line\n",
        "def evaluate(line_tensor, model):\n",
        "    model.eval()\n",
        "    hidden = model.initHidden(line_tensor.shape[1])\n",
        "    hidden = hidden.to(device)\n",
        "\n",
        "    line_tensor = line_tensor.permute(1, 0, 2)\n",
        "    line_tensor = line_tensor.to(device)\n",
        "    output, hidden = model(line_tensor, hidden)\n",
        "    \n",
        "    return output"
      ]
    },
    {
      "cell_type": "code",
      "execution_count": 68,
      "metadata": {
        "id": "bqd3cYAVuUGF",
        "outputId": "0d6832a5-51f9-4507-fe0a-68e08866c905",
        "colab": {
          "base_uri": "https://localhost:8080/"
        }
      },
      "outputs": [
        {
          "output_type": "stream",
          "name": "stdout",
          "text": [
            "\n",
            "> Dovesky\n",
            "(-0.39) Russian\n",
            "(-2.20) Irish\n",
            "(-2.34) Czech\n",
            "\n",
            "> Jackson\n",
            "(-0.50) Scottish\n",
            "(-1.83) English\n",
            "(-2.30) Dutch\n",
            "\n",
            "> Satoshi\n",
            "(-0.12) Japanese\n",
            "(-2.75) Arabic\n",
            "(-3.28) Polish\n",
            "\n",
            "> Alberto\n",
            "(-0.97) Portuguese\n",
            "(-1.17) Spanish\n",
            "(-1.43) Italian\n"
          ]
        }
      ],
      "source": [
        "def predict(input_line, n_predictions=3):\n",
        "    print('\\n> %s' % input_line)\n",
        "    with torch.no_grad():\n",
        "        output = evaluate(lineToTensor(input_line), model_pytorch)\n",
        "\n",
        "        # Get top N categories\n",
        "        topv, topi = output.topk(n_predictions, 1, True)\n",
        "        predictions = []\n",
        "\n",
        "        for i in range(n_predictions):\n",
        "            value = topv[0][i].item()\n",
        "            category_index = topi[0][i].item()\n",
        "            print('(%.2f) %s' % (value, all_categories[category_index]))\n",
        "            predictions.append([value, all_categories[category_index]])\n",
        "\n",
        "predict('Dovesky')\n",
        "predict('Jackson')\n",
        "predict('Satoshi')\n",
        "predict('Alberto')"
      ]
    },
    {
      "cell_type": "code",
      "execution_count": null,
      "metadata": {
        "id": "x6dicpKmuUGF"
      },
      "outputs": [],
      "source": [
        ""
      ]
    },
    {
      "cell_type": "markdown",
      "metadata": {
        "id": "hoLQzvvxuUGF"
      },
      "source": [
        "## Now one of your assigments is to adapt/expand this text classifier! ##\n",
        "\n",
        "- Adapt the task to another similar task\n",
        "- Use LSTMs or GRU to compare with both Vanilla RNN approaches\n",
        "\n",
        "You can keep it at character-level or you can extend it to word-level (the vocabulary will change)\n",
        "\n",
        "Try with different datasets with a similar Input/Output system:\n",
        "- Book or character name -> writer\n",
        "- Game's titles -> company or genre\n",
        "- Any word -> language\n",
        "- Whatever you can think it can be classified"
      ]
    },
    {
      "cell_type": "code",
      "execution_count": null,
      "metadata": {
        "id": "QGMcpOVxuUGF"
      },
      "outputs": [],
      "source": [
        ""
      ]
    }
  ],
  "metadata": {
    "kernelspec": {
      "display_name": "Python [conda env:pDL] *",
      "language": "python",
      "name": "conda-env-pDL-py"
    },
    "language_info": {
      "codemirror_mode": {
        "name": "ipython",
        "version": 3
      },
      "file_extension": ".py",
      "mimetype": "text/x-python",
      "name": "python",
      "nbconvert_exporter": "python",
      "pygments_lexer": "ipython3",
      "version": "3.8.2"
    },
    "colab": {
      "name": "2-text-classifier.ipynb",
      "provenance": [],
      "include_colab_link": true
    }
  },
  "nbformat": 4,
  "nbformat_minor": 0
}
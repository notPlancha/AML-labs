{
  "cells": [
    {
      "cell_type": "markdown",
      "metadata": {
        "id": "view-in-github",
        "colab_type": "text"
      },
      "source": [
        "<a href=\"https://colab.research.google.com/github/aeau/MAU-AML-labs/blob/develop/2-language-models-lab/1-word2vec.ipynb\" target=\"_parent\"><img src=\"https://colab.research.google.com/assets/colab-badge.svg\" alt=\"Open In Colab\"/></a>"
      ]
    },
    {
      "cell_type": "markdown",
      "metadata": {
        "id": "Fez8Xvai8m1-"
      },
      "source": [
        "## Word2Vec ## \n",
        "\n",
        "In this notebook we will go through the step by step creation of the Continouous Bag Of Words (CBOW).\n",
        "CBOW is an embedded model that makes use of a \"fake task\" -> [within short window, predict the current word] to extract a vector that shows the relationship between words."
      ]
    },
    {
      "cell_type": "markdown",
      "metadata": {
        "id": "fbE2VQIg8m1_"
      },
      "source": [
        "### Continuous Bag Of Words ###\n",
        "\n",
        "Adapted from Robert Guthrie"
      ]
    },
    {
      "cell_type": "code",
      "execution_count": 35,
      "metadata": {
        "id": "0I3vNQO08m1_"
      },
      "outputs": [],
      "source": [
        "import math\n",
        "import torch\n",
        "import torch.nn as nn\n",
        "import torch.nn.functional as F\n",
        "import torch.optim as optim\n",
        "import torch.linalg"
      ]
    },
    {
      "cell_type": "code",
      "execution_count": 36,
      "metadata": {
        "id": "DkUNluPk8m2A"
      },
      "outputs": [],
      "source": [
        "device = torch.device(\"cuda\" if torch.cuda.is_available() else \"cpu\")\n",
        "# device = \"cpu\""
      ]
    },
    {
      "cell_type": "code",
      "execution_count": 37,
      "metadata": {
        "id": "paQLEgue8m2A",
        "outputId": "0dfc4338-241b-4fcc-8bb5-7b4f6816e141",
        "colab": {
          "base_uri": "https://localhost:8080/"
        }
      },
      "outputs": [
        {
          "output_type": "stream",
          "name": "stdout",
          "text": [
            "152\n",
            "106\n"
          ]
        }
      ],
      "source": [
        "# CBOW is a window view; we are trying to infer the word in the middle.\n",
        "CONTEXT_SIZE = 2  # 2 words to the left, 2 to the right\n",
        "\n",
        "raw_text= \"\"\"Long Short-Term Memory (LSTM) is a recurrent neural network (RNN) architecture that has been designed\n",
        "to address the vanishing and exploding gradient problems of conventional RNNs. Unlike feedforward neural networks,\n",
        "RNNs have cyclic connections making them powerful for modeling sequences. \n",
        "They have been successfully used for sequence labeling and sequence prediction tasks,\n",
        "such as handwriting recognition, language modeling, phonetic labeling of acoustic frames. However, in contrast to the deep neural\n",
        "networks, the use of RNNs in speech recognition has been limited to phone recognition in small scale tasks. \n",
        "In this paper, we present novel LSTM based RNN architectures which make more effective\n",
        "use of model parameters to train acoustic models for large vocabulary speech recognition. \n",
        "We train and compare LSTM, RNN and DNN models at various numbers of parameters and configurations.\n",
        "We show that LSTM models converge quickly and give state of the art speech recognition performance for relatively small sized models.\"\"\".split()\n",
        "\n",
        "# By deriving a set from \"raw_text\", we deduplicate the array\n",
        "vocab = set(raw_text)\n",
        "vocab_size = len(vocab)\n",
        "\n",
        "# Basic Tokenizer\n",
        "word_to_ix = {word: i for i, word in enumerate(vocab)}\n",
        "\n",
        "print(len(raw_text))\n",
        "print(vocab_size)"
      ]
    },
    {
      "cell_type": "code",
      "source": [
        "print(vocab)"
      ],
      "metadata": {
        "id": "C-rsTImCHnOv",
        "outputId": "9e1612a5-3d3c-4269-9e29-a36d6483f34a",
        "colab": {
          "base_uri": "https://localhost:8080/"
        }
      },
      "execution_count": 38,
      "outputs": [
        {
          "output_type": "stream",
          "name": "stdout",
          "text": [
            "{'models.', 'designed', 'relatively', 'quickly', 'limited', 'network', 'make', 'sequences.', 'RNN', 'parameters', 'the', 'prediction', 'based', 'model', 'deep', 'such', 'neural', 'Long', 'address', 'at', 'architectures', 'vocabulary', 'that', 'LSTM,', 'acoustic', 'has', 'frames.', 'In', 'feedforward', 'scale', 'conventional', 'handwriting', 'paper,', 'various', 'give', 'Unlike', 'novel', 'sequence', 'LSTM', 'They', 'networks,', 'speech', 'sized', 'is', 'more', 'large', 'phone', 'used', 'recognition,', 'train', 'tasks,', 'We', 'performance', 'Short-Term', 'small', 'which', 'and', 'vanishing', 'recurrent', 'have', 'a', 'them', 'language', 'modeling', 'converge', 'of', 'effective', 'recognition', 'for', 'gradient', 'connections', 'state', 'problems', 'phonetic', 'contrast', 'However,', 'use', '(LSTM)', 'DNN', 'configurations.', 'compare', 'architecture', 'in', 'as', 'modeling,', 'been', 'labeling', 'recognition.', 'models', 'art', 'tasks.', 'we', 'powerful', 'present', 'numbers', 'RNNs', 'successfully', 'cyclic', 'show', 'to', 'Memory', '(RNN)', 'making', 'exploding', 'RNNs.', 'this'}\n"
          ]
        }
      ]
    },
    {
      "cell_type": "code",
      "source": [
        "# list out keys and values separately\n",
        "key_list = list(word_to_ix.keys())\n",
        "val_list = list(word_to_ix.values())"
      ],
      "metadata": {
        "id": "5kQDk9vzG7eb"
      },
      "execution_count": 39,
      "outputs": []
    },
    {
      "cell_type": "code",
      "execution_count": 41,
      "metadata": {
        "id": "qWsOK8z98m2B",
        "outputId": "a9a8579b-0f2f-47b8-8bc8-8993b685a130",
        "colab": {
          "base_uri": "https://localhost:8080/"
        }
      },
      "outputs": [
        {
          "output_type": "stream",
          "name": "stdout",
          "text": [
            "[(['Long', 'Short-Term', '(LSTM)', 'is'], 'Memory'), (['Short-Term', 'Memory', 'is', 'a'], '(LSTM)'), (['Memory', '(LSTM)', 'a', 'recurrent'], 'is'), (['(LSTM)', 'is', 'recurrent', 'neural'], 'a'), (['is', 'a', 'neural', 'network'], 'recurrent')]\n"
          ]
        }
      ],
      "source": [
        "# Now lets create a \"dataset\"\n",
        "data = []\n",
        "for i in range(CONTEXT_SIZE, len(raw_text) - CONTEXT_SIZE):\n",
        "    context = []\n",
        "    for j in range(CONTEXT_SIZE, 0, -1):\n",
        "        context.append(raw_text[i - j])\n",
        "\n",
        "    for j in range(1, CONTEXT_SIZE + 1):\n",
        "        context.append(raw_text[i + j])\n",
        "        \n",
        "    target = raw_text[i]\n",
        "    data.append((context, target))\n",
        "print(data[:5])\n"
      ]
    },
    {
      "cell_type": "markdown",
      "metadata": {
        "id": "OInm50Ew8m2C"
      },
      "source": [
        "### Create the CBOW Model (as we have seen already other ANN) ###\n",
        "\n",
        "We have to extend from nn.Module as all the other ANN"
      ]
    },
    {
      "cell_type": "code",
      "execution_count": 43,
      "metadata": {
        "id": "DqE-4MLS8m2C"
      },
      "outputs": [],
      "source": [
        "class CBOW(nn.Module):\n",
        "\n",
        "    def __init__(self, vocab_size, embed_dim, context, hidden_size):\n",
        "        super(CBOW, self).__init__()\n",
        "        self.embedding = nn.Embedding(vocab_size, embed_dim)\n",
        "        self.linear = nn.Sequential(\n",
        "            nn.Linear(context*embed_dim, hidden_size),\n",
        "            nn.ReLU(),\n",
        "            nn.Linear(hidden_size, vocab_size),\n",
        "            nn.LogSoftmax(dim = -1)\n",
        "        )\n",
        "        \n",
        "    def forward(self, inputs):\n",
        "#         print(inputs.shape)\n",
        "#         print(inputs)\n",
        "        out = self.embedding(inputs)\n",
        "#         print(out.shape)\n",
        "        out = out.view(1, -1)\n",
        "#         print(out.shape)\n",
        "        out = self.linear(out)\n",
        "#         print(out.shape)\n",
        "        return out\n",
        "    \n",
        "    # This is what we are actually interested on\n",
        "    def get_word_vector(self, word):\n",
        "        out = self.embedding(word)\n",
        "        return out\n"
      ]
    },
    {
      "cell_type": "markdown",
      "metadata": {
        "id": "_qcDsrK-8m2C"
      },
      "source": [
        "#### Lets break it down! ####"
      ]
    },
    {
      "cell_type": "code",
      "execution_count": 49,
      "metadata": {
        "id": "Vu3G3end8m2D",
        "outputId": "bc08176a-ad22-4ca1-cbf4-4ba29a43b81c",
        "colab": {
          "base_uri": "https://localhost:8080/"
        }
      },
      "outputs": [
        {
          "output_type": "stream",
          "name": "stdout",
          "text": [
            "tensor([[ 14,  10,  79,  60],\n",
            "        [  5,  51, 100,  38],\n",
            "        [ 53,   7,  99,  99],\n",
            "        [ 81,  26,  83,  16],\n",
            "        [ 56,  87,  77,   8],\n",
            "        [ 25,  26,   9,  40]])\n"
          ]
        }
      ],
      "source": [
        "VOCAB_SIZE = len(vocab)\n",
        "EMBEDD_DIM = 10\n",
        "BATCH_SIZE = 6\n",
        "FULL_CONTEXT_SIZE = CONTEXT_SIZE * 2\n",
        "HIDDEN_SIZE = 256\n",
        "\n",
        "example_tensor = torch.randint(0, VOCAB_SIZE, [BATCH_SIZE, FULL_CONTEXT_SIZE])\n",
        "print(example_tensor)"
      ]
    },
    {
      "cell_type": "code",
      "execution_count": 50,
      "metadata": {
        "id": "nAfVgWkz8m2D",
        "outputId": "dffb6a60-e406-401c-f559-394329f748e8",
        "colab": {
          "base_uri": "https://localhost:8080/"
        }
      },
      "outputs": [
        {
          "output_type": "stream",
          "name": "stdout",
          "text": [
            "torch.Size([6, 4])\n",
            "torch.Size([6, 4, 10])\n",
            "torch.Size([6, 40])\n"
          ]
        }
      ],
      "source": [
        "CBOW_embedding = nn.Embedding(VOCAB_SIZE, EMBEDD_DIM)\n",
        "print(example_tensor.shape)\n",
        "example_result = CBOW_embedding(example_tensor)\n",
        "# Now we have a representation of the words in a vector of EMBEDD_DIM Dimensions\n",
        "print(example_result.shape)\n",
        "# example_result = torch.flatten(example_result, start_dim=1)\n",
        "example_result = example_result.view(BATCH_SIZE, -1)\n",
        "print(example_result.shape)"
      ]
    },
    {
      "cell_type": "code",
      "execution_count": 51,
      "metadata": {
        "id": "MywkuGh98m2D",
        "outputId": "a88c3b5c-1d5a-462a-e95d-7bea3c215670",
        "colab": {
          "base_uri": "https://localhost:8080/"
        }
      },
      "outputs": [
        {
          "output_type": "stream",
          "name": "stdout",
          "text": [
            "input shape:  40\n",
            "output shape:  256\n",
            "torch.Size([6, 256])\n"
          ]
        }
      ],
      "source": [
        "print(\"input shape: \", EMBEDD_DIM * FULL_CONTEXT_SIZE)\n",
        "print(\"output shape: \", HIDDEN_SIZE)\n",
        "CBOW_hidden = nn.Linear(EMBEDD_DIM * FULL_CONTEXT_SIZE, HIDDEN_SIZE)\n",
        "CBOW_hidden_relu = nn.ReLU()\n",
        "example_result = CBOW_hidden(example_result)\n",
        "example_result = CBOW_hidden_relu(example_result)\n",
        "print(example_result.shape)"
      ]
    },
    {
      "cell_type": "code",
      "execution_count": 52,
      "metadata": {
        "id": "LlkTr0xS8m2E",
        "outputId": "bd3d7c93-53fa-418a-e142-ba24f518a449",
        "colab": {
          "base_uri": "https://localhost:8080/"
        }
      },
      "outputs": [
        {
          "output_type": "stream",
          "name": "stdout",
          "text": [
            "torch.Size([6, 106])\n"
          ]
        }
      ],
      "source": [
        "CBOW_output = nn.Linear(HIDDEN_SIZE, VOCAB_SIZE)\n",
        "CBOW_output_soft = nn.LogSoftmax(dim = -1)\n",
        "example_result = CBOW_output(example_result)\n",
        "example_result = CBOW_output_soft(example_result)\n",
        "print(example_result.shape)"
      ]
    },
    {
      "cell_type": "code",
      "execution_count": 53,
      "metadata": {
        "id": "acMFNDBt8m2E",
        "outputId": "07ee7493-5852-4192-e9e4-b109ceba160e",
        "colab": {
          "base_uri": "https://localhost:8080/"
        }
      },
      "outputs": [
        {
          "output_type": "stream",
          "name": "stdout",
          "text": [
            "tensor(72)\n",
            "problems\n",
            "tensor([-4.8033, -4.1789, -4.7501, -4.4437, -4.9349, -4.4947, -4.5962, -4.6865,\n",
            "        -4.2706, -5.0489, -4.7150, -4.2689, -4.6101, -5.0909, -4.4317, -4.7043,\n",
            "        -4.6071, -4.2357, -4.1776, -4.7040, -4.6179, -4.6839, -4.6393, -5.0006,\n",
            "        -4.8680, -5.0305, -4.7531, -4.9513, -4.5972, -4.5174, -4.9613, -4.6879,\n",
            "        -4.8597, -4.8316, -4.7603, -4.8704, -4.5004, -4.6067, -4.7328, -4.6842,\n",
            "        -4.6653, -4.7083, -4.8235, -4.8406, -4.7145, -4.7999, -4.7908, -4.7445,\n",
            "        -4.5184, -4.6010, -4.5165, -4.5942, -4.3015, -4.5594, -5.0058, -4.4460,\n",
            "        -4.9035, -4.6203, -4.7098, -4.5688, -4.6414, -5.0183, -4.7159, -4.3759,\n",
            "        -4.8426, -4.7740, -4.5387, -4.7615, -4.5280, -4.9196, -4.9910, -4.6441,\n",
            "        -4.1577, -4.3915, -5.4968, -4.6118, -4.5293, -4.3066, -4.8217, -4.9757,\n",
            "        -4.3309, -4.7029, -4.2933, -4.7853, -4.5820, -4.9092, -4.3813, -4.4539,\n",
            "        -4.9692, -4.8581, -4.8920, -4.7891, -5.0422, -4.6386, -4.3683, -4.7666,\n",
            "        -4.5939, -4.9889, -4.8746, -4.4488, -5.1050, -4.6205, -4.6269, -5.1791,\n",
            "        -4.9100, -4.8529], grad_fn=<SelectBackward0>)\n",
            "tensor(8)\n",
            "RNN\n",
            "tensor([-4.6292, -4.4632, -4.7416, -4.4892, -4.9794, -4.7004, -4.4726, -4.4465,\n",
            "        -4.1041, -4.8545, -4.6262, -4.5143, -4.3811, -4.7558, -4.6445, -4.9592,\n",
            "        -4.4210, -4.5899, -4.8388, -4.3348, -4.6125, -4.7997, -4.8607, -5.0209,\n",
            "        -5.1786, -4.7326, -4.5911, -4.9335, -4.6545, -4.4850, -4.8105, -4.7859,\n",
            "        -4.4912, -5.2572, -5.0295, -4.7430, -4.7218, -4.7864, -4.7260, -4.8423,\n",
            "        -4.7007, -4.6801, -4.8024, -4.7342, -4.7210, -4.4548, -4.8010, -4.9253,\n",
            "        -4.4807, -4.9401, -4.5675, -4.6670, -4.7226, -4.5186, -4.8599, -4.7237,\n",
            "        -4.8072, -5.0914, -4.6700, -4.5032, -4.7468, -5.2979, -4.7613, -4.3471,\n",
            "        -4.4429, -4.9345, -4.5249, -4.7605, -4.8111, -4.9365, -4.5703, -4.7290,\n",
            "        -4.3677, -4.3760, -5.0980, -4.1874, -4.5200, -4.5247, -4.4296, -4.8219,\n",
            "        -4.4342, -5.0913, -4.5477, -4.5980, -4.5329, -5.1320, -4.2345, -4.4668,\n",
            "        -4.7853, -4.8009, -4.7060, -4.7916, -4.7284, -4.7733, -4.4908, -4.6402,\n",
            "        -4.5281, -4.4245, -4.5984, -4.6792, -4.9494, -4.8927, -4.7034, -4.6424,\n",
            "        -4.5579, -4.6034], grad_fn=<SelectBackward0>)\n"
          ]
        }
      ],
      "source": [
        "print(example_result[0].argmax(-1))\n",
        "print(key_list[val_list.index(example_result[0].argmax(-1))])\n",
        "print(example_result[0])\n",
        "print(example_result[1].argmax(-1))\n",
        "print(key_list[val_list.index(example_result[1].argmax(-1))])\n",
        "print(example_result[1])\n",
        "# print(example_result[2].argmax(-1))\n",
        "# print(example_result[3].argmax(-1))\n",
        "# print(example_result[4].argmax(-1))"
      ]
    },
    {
      "cell_type": "markdown",
      "metadata": {
        "id": "IRxVpEgb8m2E"
      },
      "source": [
        "## Back to the notebook ##"
      ]
    },
    {
      "cell_type": "code",
      "execution_count": 54,
      "metadata": {
        "id": "vyrLdEqd8m2E",
        "outputId": "3ecdf2b8-791f-412d-8d49-b8bd3557cf24",
        "colab": {
          "base_uri": "https://localhost:8080/"
        }
      },
      "outputs": [
        {
          "output_type": "stream",
          "name": "stdout",
          "text": [
            "['Long', 'Short-Term', '(LSTM)', 'is']\n"
          ]
        },
        {
          "output_type": "execute_result",
          "data": {
            "text/plain": [
              "tensor([17, 53, 77, 43])"
            ]
          },
          "metadata": {},
          "execution_count": 54
        }
      ],
      "source": [
        "# Simple helper method to transform the context to the expected int vector - tensor\n",
        "\n",
        "def make_context_vector(context, word_to_ix, debug=False):\n",
        "    if debug:\n",
        "      print(context)\n",
        "    idxs = [word_to_ix[w] for w in context]\n",
        "    return torch.tensor(idxs, dtype=torch.long)\n",
        "\n",
        "make_context_vector(data[0][0], word_to_ix, debug=True)"
      ]
    },
    {
      "cell_type": "code",
      "execution_count": 55,
      "metadata": {
        "id": "8POK-54g8m2F"
      },
      "outputs": [],
      "source": [
        "def train(model, epochs, data, optimizer, loss_fn):\n",
        "    model.train()\n",
        "    losses = []\n",
        "    for epoch in range(epochs):\n",
        "        total_loss = 0\n",
        "        for context, target in data:\n",
        "\n",
        "            # Prepare inputs and targets \n",
        "            context_idxs = make_context_vector(context, word_to_ix)\n",
        "            context_idxs = context_idxs.to(device)\n",
        "            target_id = make_context_vector([target], word_to_ix)\n",
        "            target_id = target_id.to(device)\n",
        "\n",
        "            # Do not accumulate \n",
        "            model.zero_grad()\n",
        "\n",
        "            # Step 3. Run the forward pass\n",
        "            log_probs = model(context_idxs)\n",
        "    #         break\n",
        "\n",
        "            # Step 4. Compute your loss function.\n",
        "            loss = loss_fn(log_probs, target_id)\n",
        "\n",
        "    #         loss = loss_function(log_probs, torch.tensor([word_to_ix[target]], dtype=torch.long))\n",
        "\n",
        "            # Step 5. Do the backward pass and update the gradient\n",
        "            loss.backward()\n",
        "            optimizer.step()\n",
        "\n",
        "            # Get the Python number from a 1-element Tensor by calling tensor.item()\n",
        "            total_loss += loss.item()\n",
        "        losses.append(total_loss)\n",
        "    return losses\n",
        "    "
      ]
    },
    {
      "cell_type": "code",
      "execution_count": 56,
      "metadata": {
        "id": "Eah8kryt8m2F",
        "outputId": "821459e1-7554-42dd-aca2-d9866587b1c1",
        "colab": {
          "base_uri": "https://localhost:8080/"
        }
      },
      "outputs": [
        {
          "output_type": "stream",
          "name": "stdout",
          "text": [
            "[695.8721408843994, 688.4224910736084, 681.0870337486267, 673.8598070144653, 666.7323791980743, 659.6977827548981, 652.7519869804382, 645.8902723789215, 639.1074109077454, 632.3980779647827, 625.7590072154999, 619.1865000724792, 612.6766057014465, 606.224250793457, 599.8256285190582, 593.4723887443542, 587.1625649929047, 580.8921282291412, 574.6608099937439, 568.4589643478394, 562.2875165939331, 556.1384534835815, 550.0095571279526, 543.8945552110672, 537.7902361154556, 531.6990878582001, 525.6131232976913, 519.5326136350632, 513.4545558691025, 507.3737608194351, 501.29139947891235, 495.20449340343475, 489.1113768815994, 483.0120348930359, 476.90717166662216, 470.79561322927475, 464.67776387929916, 458.5497826933861, 452.4149109721184, 446.2718482017517, 440.12113070487976, 433.9601615667343, 427.79011195898056, 421.6097915172577, 415.4242233633995, 409.2307227253914, 403.03252267837524, 396.83162090182304, 390.6302180290222, 384.42394638061523, 378.2179191708565, 372.016351044178, 365.8149747848511, 359.6216541528702, 353.4361252784729, 347.26314786076546, 341.1061581671238, 334.96263283491135, 328.84102326631546, 322.7332854568958, 316.6527982056141, 310.5967760682106, 304.570405125618, 298.57351019978523, 292.60703656077385, 286.68274150788784, 280.79453217983246, 274.94962710142136, 269.1484957933426, 263.3935462087393, 257.6891911625862, 252.03652124106884, 246.4379933476448, 240.89808475971222, 235.41653609275818, 229.99682798981667, 224.64490504562855, 219.35847075283527, 214.14244297146797, 209.00064377486706, 203.93417961895466, 198.94125097990036, 194.0286107212305, 189.19215962290764, 184.43939574062824, 179.76871764659882, 175.18559934198856, 170.68864703178406, 166.27736996114254, 161.95473002642393, 157.72176625579596, 153.5776302292943, 149.52296689152718, 145.56042563915253, 141.68553847819567, 137.90333984792233, 134.211779050529, 130.6086521819234, 127.09455639123917, 123.67158167809248]\n"
          ]
        }
      ],
      "source": [
        "VOCAB_SIZE = len(vocab)\n",
        "EMBEDD_DIM = 10\n",
        "BATCH_SIZE = 6\n",
        "FULL_CONTEXT_SIZE = CONTEXT_SIZE * 2\n",
        "HIDDEN_SIZE = 256\n",
        "\n",
        "loss_function = nn.NLLLoss() # Because we are using Log_softmax\n",
        "model = CBOW(vocab_size, EMBEDD_DIM, FULL_CONTEXT_SIZE, HIDDEN_SIZE)\n",
        "model = model.to(device)\n",
        "optimizer = optim.SGD(model.parameters(), lr=0.001)\n",
        "\n",
        "losses = train(model, 100, data, optimizer, loss_function)\n",
        "model.eval()\n",
        "\n",
        "print(losses)  # The loss decreased every iteration over the training data!"
      ]
    },
    {
      "cell_type": "code",
      "execution_count": 57,
      "metadata": {
        "id": "Zd3Gm2aR8m2F"
      },
      "outputs": [],
      "source": [
        "# list out keys and values separately\n",
        "key_list = list(word_to_ix.keys())\n",
        "val_list = list(word_to_ix.values())"
      ]
    },
    {
      "cell_type": "code",
      "execution_count": 58,
      "metadata": {
        "id": "d7Wd5nhQ8m2F"
      },
      "outputs": [],
      "source": [
        "def similarity_cbow(word_1, word_2):\n",
        "    \n",
        "    # test word similarity\n",
        "    print(word_1)\n",
        "    print(word_2)\n",
        "    w1_id = torch.tensor(word_to_ix[word_1], dtype=torch.long)\n",
        "    w2_id = torch.tensor(word_to_ix[word_2], dtype=torch.long)\n",
        "    w1_id = w1_id.to(device)\n",
        "    w2_id = w2_id.to(device)\n",
        "    \n",
        "    word_1_vec = model.get_word_vector(w1_id)\n",
        "    word_2_vec = model.get_word_vector(w2_id)\n",
        "    \n",
        "    # The norm of a vector (1D-matrix) is the square root of the sum of all the squared values within the vector.\n",
        "    print(math.sqrt(torch.square(word_1_vec).sum()))    \n",
        "    print(torch.linalg.norm(word_1_vec))\n",
        "    print(torch.linalg.norm(word_2_vec))\n",
        "    print(word_1_vec.dot(word_2_vec))\n",
        "    \n",
        "    word_distance = torch.linalg.norm(word_1_vec - word_2_vec)\n",
        "    print(\"Distance between '{}' & '{}' : {:0.4f}\".format(word_1, word_2, word_distance))\n",
        "    word_similarity = (word_1_vec.dot(word_2_vec) / (torch.linalg.norm(word_1_vec) * torch.linalg.norm(word_2_vec)))\n",
        "    print(\"Similarity between '{}' & '{}' : {:0.4f}\".format(word_1, word_2, word_similarity))\n"
      ]
    },
    {
      "cell_type": "code",
      "execution_count": 59,
      "metadata": {
        "id": "RjRCXG6M8m2G",
        "outputId": "11f68147-4cf4-4f5c-cf00-1cfb90f9a3ae",
        "colab": {
          "base_uri": "https://localhost:8080/"
        }
      },
      "outputs": [
        {
          "output_type": "stream",
          "name": "stdout",
          "text": [
            "neural\n",
            "network\n",
            "3.502922064478045\n",
            "tensor(3.5029, grad_fn=<CopyBackwards>)\n",
            "tensor(3.2616, grad_fn=<CopyBackwards>)\n",
            "tensor(3.8322, grad_fn=<DotBackward0>)\n",
            "Distance between 'neural' & 'network' : 3.9044\n",
            "Similarity between 'neural' & 'network' : 0.3354\n"
          ]
        }
      ],
      "source": [
        "similarity_cbow(\"neural\", \"network\")"
      ]
    },
    {
      "cell_type": "code",
      "execution_count": 60,
      "metadata": {
        "id": "lEI6ZIsW8m2G"
      },
      "outputs": [],
      "source": [
        "def predict_middle_word(prev_words, post_words):\n",
        "    prev_words = prev_words.split()\n",
        "    post_words = post_words.split()\n",
        "\n",
        "    input_words= make_context_vector(prev_words + post_words, word_to_ix)\n",
        "    input_words = input_words.to(device)\n",
        "    output = model(input_words)\n",
        "    out_ind = output.argmax(1)\n",
        "#     print(word_to_ix)\n",
        "#     out_word = word_to_ix.itos[out_ind.item()]\n",
        "    out_word = key_list[val_list.index(out_ind.item())]\n",
        "    print(prev_words, out_word, post_words)"
      ]
    },
    {
      "cell_type": "code",
      "execution_count": 61,
      "metadata": {
        "id": "0-S7BCGQ8m2G",
        "outputId": "25f8f540-a372-4cd1-c56c-f764aca1aeb7",
        "colab": {
          "base_uri": "https://localhost:8080/"
        }
      },
      "outputs": [
        {
          "output_type": "stream",
          "name": "stdout",
          "text": [
            "['a', 'recurrent'] neural ['network', 'is']\n",
            "['LSTM', 'is'] a ['recurrent', 'neural']\n"
          ]
        }
      ],
      "source": [
        "predict_middle_word(\"a recurrent\", \"network is\")\n",
        "predict_middle_word(\"LSTM is\", \"recurrent neural\")"
      ]
    },
    {
      "cell_type": "markdown",
      "metadata": {
        "id": "Mz3yzxtH8m2G"
      },
      "source": [
        "### Now that you saw how to create the CBOW model (word2vec), you should work on doing the \"opposite\" model, Skip-Gram ###\n",
        "\n",
        "Skip-gram as you saw on the lectures, reverses the problem so you need to predict through the \"fake task\" the context of the input"
      ]
    },
    {
      "cell_type": "code",
      "execution_count": null,
      "metadata": {
        "id": "j4N9fqH28m2G"
      },
      "outputs": [],
      "source": [
        ""
      ]
    }
  ],
  "metadata": {
    "kernelspec": {
      "display_name": "Python [conda env:pDL] *",
      "language": "python",
      "name": "conda-env-pDL-py"
    },
    "language_info": {
      "codemirror_mode": {
        "name": "ipython",
        "version": 3
      },
      "file_extension": ".py",
      "mimetype": "text/x-python",
      "name": "python",
      "nbconvert_exporter": "python",
      "pygments_lexer": "ipython3",
      "version": "3.8.2"
    },
    "colab": {
      "name": "1-word2vec.ipynb",
      "provenance": [],
      "include_colab_link": true
    }
  },
  "nbformat": 4,
  "nbformat_minor": 0
}
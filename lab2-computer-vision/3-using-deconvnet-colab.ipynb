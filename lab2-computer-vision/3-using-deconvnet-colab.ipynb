{
 "cells": [
  {
   "cell_type": "markdown",
   "metadata": {
    "colab_type": "text",
    "id": "view-in-github"
   },
   "source": [
    "<a href=\"https://colab.research.google.com/github/aeau/MAU-AML-labs/blob/develop/1-computer-vision-lab/3-using-deconvnet-colab.ipynb\" target=\"_parent\"><img src=\"https://colab.research.google.com/assets/colab-badge.svg\" alt=\"Open In Colab\"/></a>"
   ]
  },
  {
   "cell_type": "markdown",
   "metadata": {
    "id": "1fu58MmnqTOo"
   },
   "source": [
    "## Convolutional visualization by attaching deconvnet to each conv layer! ##\n",
    "\n",
    "(https://arxiv.org/pdf/1311.2901.pdf)\n",
    "\n",
    "<img src=\"https://github.com/aeau/MAU-AML-labs/blob/develop/figures/deconvolutional-network-zeiler-fergus.png?raw=1\" width=\"800\">"
   ]
  },
  {
   "cell_type": "code",
   "execution_count": 1,
   "metadata": {
    "id": "nk-8WHniqTOq"
   },
   "outputs": [],
   "source": [
    "import torch\n",
    "import torch.nn as nn\n",
    "import torch.nn.functional as F\n",
    "import torch.optim as optim\n",
    "from torchvision import datasets, transforms\n",
    "import torchvision\n",
    "from torchsummary import summary\n",
    "import matplotlib.pyplot as plt\n",
    "import requests\n",
    "import numpy as np\n",
    "from PIL import Image"
   ]
  },
  {
   "cell_type": "code",
   "execution_count": 2,
   "metadata": {
    "id": "qRQBJSQXqTOr"
   },
   "outputs": [],
   "source": [
    "device = torch.device(\"cuda:0\" if torch.cuda.is_available() else \"cpu\")"
   ]
  },
  {
   "cell_type": "code",
   "execution_count": 3,
   "metadata": {
    "colab": {
     "base_uri": "https://localhost:8080/"
    },
    "id": "Ee_-GnzEoiTi",
    "outputId": "28c4bbbb-b76e-4720-b2ab-01059e3bd760"
   },
   "outputs": [
    {
     "name": "stdout",
     "output_type": "stream",
     "text": [
      "Mounted at /content/drive\n"
     ]
    }
   ],
   "source": [
    "from google.colab import drive\n",
    "drive.mount('/content/drive')"
   ]
  },
  {
   "cell_type": "code",
   "execution_count": 4,
   "metadata": {
    "colab": {
     "base_uri": "https://localhost:8080/"
    },
    "id": "E6Ibn5k0olrG",
    "outputId": "1a2922a5-bb61-467a-df92-587edf7b7a7f"
   },
   "outputs": [
    {
     "name": "stdout",
     "output_type": "stream",
     "text": [
      "Archive:  /content/drive/MyDrive/Work/PHD/courses-AML/data_aml/MNIST.zip\n",
      "   creating: /content/data/MNIST/\n",
      "  inflating: /content/data/MNIST/.DS_Store  \n",
      "  inflating: /content/data/__MACOSX/MNIST/._.DS_Store  \n",
      "   creating: /content/data/MNIST/processed/\n",
      "   creating: /content/data/MNIST/raw/\n",
      "  inflating: /content/data/MNIST/processed/training.pt  \n",
      "  inflating: /content/data/MNIST/processed/test.pt  \n",
      "  inflating: /content/data/MNIST/raw/t10k-images-idx3-ubyte  \n",
      "  inflating: /content/data/MNIST/raw/t10k-labels-idx1-ubyte  \n",
      "  inflating: /content/data/MNIST/raw/train-images-idx3-ubyte  \n",
      "  inflating: /content/data/MNIST/raw/t10k-images-idx3-ubyte.gz  \n",
      "  inflating: /content/data/MNIST/raw/train-images-idx3-ubyte.gz  \n",
      "  inflating: /content/data/MNIST/raw/train-labels-idx1-ubyte.gz  \n",
      "  inflating: /content/data/MNIST/raw/train-labels-idx1-ubyte  \n",
      "  inflating: /content/data/MNIST/raw/t10k-labels-idx1-ubyte.gz  \n"
     ]
    }
   ],
   "source": [
    "#Change directories to point to your data!\n",
    "data_path = '/content/drive/MyDrive/Work/PHD/courses-AML/data_aml'\n",
    "specfic_path = '/content/drive/MyDrive/Work/PHD/courses-AML/data_aml/MNIST.zip'\n",
    "#!ls \"$root_dir\"\n",
    "root_dir = \"/content/data\"\n",
    "\n",
    "!unzip '/content/drive/MyDrive/Work/PHD/courses-AML/data_aml/MNIST.zip' -d \"$root_dir\"\n"
   ]
  },
  {
   "cell_type": "code",
   "execution_count": 5,
   "metadata": {
    "id": "ThzxABeDqTOr"
   },
   "outputs": [],
   "source": [
    "class CNN(nn.Module):\n",
    "    def __init__(self, input_size, n_feature, output_size):\n",
    "        super(CNN, self).__init__()\n",
    "        \n",
    "        self.n_feature = n_feature\n",
    "        self.conv1 = nn.Conv2d(in_channels=1, out_channels=n_feature, kernel_size=5)\n",
    "        self.pool1 = nn.MaxPool2d(2, stride=2, return_indices=True)\n",
    "            \n",
    "        self.conv2 = nn.Conv2d(n_feature, n_feature, kernel_size=5)\n",
    "        self.pool2 = nn.MaxPool2d(2, stride=2, return_indices=True)\n",
    "        \n",
    "        # Necessary information for the deconvnet\n",
    "        self.maxpool_indices = [] # 2, [0: [0,1,2, ... ,n], 1]\n",
    "        self.feature_maps = [] # size = 4\n",
    "        self.deconvs = {}\n",
    "        \n",
    "        self.fc1 = nn.Linear(n_feature*4*4, 50)\n",
    "        self.fc2 = nn.Linear(50, 10)\n",
    "        \n",
    "    def initialize_deconv(self):\n",
    "        \n",
    "        self.deconvs = nn.Sequential(\n",
    "            nn.MaxUnpool2d(2, stride=2),\n",
    "            nn.ConvTranspose2d(in_channels=6, out_channels=6, kernel_size=5),\n",
    "            nn.MaxUnpool2d(2, stride=2),\n",
    "            nn.ConvTranspose2d(in_channels=6, out_channels=1, kernel_size=5)\n",
    "        )\n",
    "        \n",
    "        self.deconvs[1].weight.data = self.conv2.weight.data \n",
    "        self.deconvs[3].weight.data = self.conv1.weight.data\n",
    "       \n",
    "    def forward(self, x, verbose=False):\n",
    "        self.feature_maps = []\n",
    "        self.maxpool_indices = []\n",
    "        \n",
    "        x = self.conv1(x)\n",
    "        self.feature_maps.append(x)\n",
    "        \n",
    "        x = F.relu(x)\n",
    "        \n",
    "        x, ind = self.pool1(x)\n",
    "        self.feature_maps.append(x)\n",
    "        self.maxpool_indices.append(ind)\n",
    "        \n",
    "        x = self.conv2(x)\n",
    "        self.feature_maps.append(x)\n",
    "        \n",
    "        x = F.relu(x)\n",
    "        \n",
    "        x, ind = self.pool2(x)\n",
    "        self.feature_maps.append(x)\n",
    "        self.maxpool_indices.append(ind)\n",
    "        \n",
    "        self.prefc = x\n",
    "        \n",
    "        x = x.view(-1, self.n_feature*4*4) #flatten is the same\n",
    "        x = self.fc1(x)\n",
    "        x = F.relu(x)\n",
    "        x = self.fc2(x)\n",
    "        x = F.log_softmax(x, dim=1)\n",
    "        return x\n",
    "    \n",
    "    def deconv(self, x, layer):     \n",
    "        start_pos = abs(((layer * 2) - len(self.deconvs)) + 2)\n",
    "        next_layer = layer\n",
    "        \n",
    "        for idx in range(start_pos, len(self.deconvs), 1):\n",
    "            if isinstance(self.deconvs[idx], nn.MaxUnpool2d):\n",
    "                x = self.deconvs[idx](x, self.maxpool_indices[next_layer])\n",
    "                x = F.relu(x)\n",
    "                next_layer = next_layer - 1\n",
    "            else:\n",
    "                x = self.deconvs[idx](x)\n",
    "                \n",
    "        return x\n"
   ]
  },
  {
   "cell_type": "code",
   "execution_count": 6,
   "metadata": {
    "colab": {
     "base_uri": "https://localhost:8080/"
    },
    "id": "UfmdNq0yqTOs",
    "outputId": "dbd6edb0-cba4-4558-a266-3f3d99ba9c18"
   },
   "outputs": [
    {
     "name": "stdout",
     "output_type": "stream",
     "text": [
      "CNN(\n",
      "  (conv1): Conv2d(1, 6, kernel_size=(5, 5), stride=(1, 1))\n",
      "  (pool1): MaxPool2d(kernel_size=2, stride=2, padding=0, dilation=1, ceil_mode=False)\n",
      "  (conv2): Conv2d(6, 6, kernel_size=(5, 5), stride=(1, 1))\n",
      "  (pool2): MaxPool2d(kernel_size=2, stride=2, padding=0, dilation=1, ceil_mode=False)\n",
      "  (fc1): Linear(in_features=96, out_features=50, bias=True)\n",
      "  (fc2): Linear(in_features=50, out_features=10, bias=True)\n",
      ")\n"
     ]
    }
   ],
   "source": [
    "model_cnn = CNN(28, 6, 10)\n",
    "print(model_cnn)"
   ]
  },
  {
   "cell_type": "code",
   "execution_count": 7,
   "metadata": {
    "id": "6GiVPj9NqTOs"
   },
   "outputs": [],
   "source": [
    "input_size  = 28*28   # images are 28x28 pixels\n",
    "output_size = 10      # there are 10 classes\n",
    "\n",
    "train_loader = torch.utils.data.DataLoader(\n",
    "    datasets.MNIST(root_dir, train=True, download=True,\n",
    "                   transform=transforms.Compose([\n",
    "                       transforms.ToTensor(),\n",
    "                       transforms.Normalize((0.1307,), (0.3081,))\n",
    "                   ])),\n",
    "    batch_size=64, shuffle=True)\n",
    "\n",
    "\n",
    "test_loader = torch.utils.data.DataLoader(\n",
    "    datasets.MNIST(root_dir, train=False, download=True, transform=transforms.Compose([\n",
    "                       transforms.ToTensor(),\n",
    "                       transforms.Normalize((0.1307,), (0.3081,))\n",
    "                   ])),\n",
    "    batch_size=1000, shuffle=True)"
   ]
  },
  {
   "cell_type": "code",
   "execution_count": 8,
   "metadata": {
    "id": "lxoZTuBtqTOs"
   },
   "outputs": [],
   "source": [
    "accuracy_list = []\n",
    "\n",
    "def train(epoch, model, perm=torch.arange(0, 784).long()):\n",
    "    model.train()\n",
    "    for batch_idx, (data, target) in enumerate(train_loader):\n",
    "        # send to device\n",
    "        data, target = data.to(device), target.to(device)\n",
    "        \n",
    "        # permute pixels\n",
    "        data = data.view(-1, 28*28)\n",
    "        data = data[:, perm]\n",
    "        data = data.view(-1, 1, 28, 28)\n",
    "\n",
    "        optimizer.zero_grad()\n",
    "        output = model(data)\n",
    "        loss = F.nll_loss(output, target)\n",
    "        loss.backward()\n",
    "        optimizer.step()\n",
    "        if batch_idx % 100 == 0:\n",
    "            print('Train Epoch: {} [{}/{} ({:.0f}%)]\\tLoss: {:.6f}'.format(\n",
    "                epoch, batch_idx * len(data), len(train_loader.dataset),\n",
    "                100. * batch_idx / len(train_loader), loss.item()))\n",
    "            \n",
    "def test(model, perm=torch.arange(0, 784).long()):\n",
    "    model.eval()\n",
    "    test_loss = 0\n",
    "    correct = 0\n",
    "    for data, target in test_loader:\n",
    "        # send to device\n",
    "        data, target = data.to(device), target.to(device)\n",
    "        \n",
    "        # permute pixels\n",
    "        data = data.view(-1, 28*28)\n",
    "        data = data[:, perm]\n",
    "        data = data.view(-1, 1, 28, 28)\n",
    "        output = model(data)\n",
    "        test_loss += F.nll_loss(output, target, reduction='sum').item() # sum up batch loss                                                               \n",
    "        pred = output.data.max(1, keepdim=True)[1] # get the index of the max log-probability                                                                 \n",
    "        correct += pred.eq(target.data.view_as(pred)).cpu().sum().item()\n",
    "\n",
    "    test_loss /= len(test_loader.dataset)\n",
    "    accuracy = 100. * correct / len(test_loader.dataset)\n",
    "    accuracy_list.append(accuracy)\n",
    "    print('\\nTest set: Average loss: {:.4f}, Accuracy: {}/{} ({:.0f}%)\\n'.format(\n",
    "        test_loss, correct, len(test_loader.dataset),\n",
    "        accuracy))"
   ]
  },
  {
   "cell_type": "code",
   "execution_count": 9,
   "metadata": {
    "colab": {
     "base_uri": "https://localhost:8080/"
    },
    "id": "WsTY_H-gqTOt",
    "outputId": "be999c84-95d7-4b26-d42c-5c02f09af38d"
   },
   "outputs": [
    {
     "name": "stdout",
     "output_type": "stream",
     "text": [
      "Train Epoch: 0 [0/60000 (0%)]\tLoss: 2.308597\n",
      "Train Epoch: 0 [6400/60000 (11%)]\tLoss: 2.100530\n",
      "Train Epoch: 0 [12800/60000 (21%)]\tLoss: 0.647668\n",
      "Train Epoch: 0 [19200/60000 (32%)]\tLoss: 0.255563\n",
      "Train Epoch: 0 [25600/60000 (43%)]\tLoss: 0.297346\n",
      "Train Epoch: 0 [32000/60000 (53%)]\tLoss: 0.442102\n",
      "Train Epoch: 0 [38400/60000 (64%)]\tLoss: 0.229769\n",
      "Train Epoch: 0 [44800/60000 (75%)]\tLoss: 0.317161\n",
      "Train Epoch: 0 [51200/60000 (85%)]\tLoss: 0.321447\n",
      "Train Epoch: 0 [57600/60000 (96%)]\tLoss: 0.374914\n",
      "\n",
      "Test set: Average loss: 0.1628, Accuracy: 9503/10000 (95%)\n",
      "\n"
     ]
    }
   ],
   "source": [
    "model_cnn.to(device)\n",
    "optimizer = optim.SGD(model_cnn.parameters(), lr=0.01, momentum=0.5)\n",
    "\n",
    "for epoch in range(0, 1):\n",
    "    train(epoch, model_cnn)\n",
    "    test(model_cnn)"
   ]
  },
  {
   "cell_type": "code",
   "execution_count": 10,
   "metadata": {
    "id": "K6b_DgZTqTOt"
   },
   "outputs": [],
   "source": [
    "model_cnn.to(\"cpu\")\n",
    "model_cnn.initialize_deconv() # Now that the network is trained we can initialize those weights and layers!"
   ]
  },
  {
   "cell_type": "code",
   "execution_count": 11,
   "metadata": {
    "colab": {
     "base_uri": "https://localhost:8080/",
     "height": 282
    },
    "id": "AYWLnxNFqTOt",
    "outputId": "352c8b91-ceba-4894-db6f-2e0e06c1e0f8"
   },
   "outputs": [
    {
     "name": "stdout",
     "output_type": "stream",
     "text": [
      "tensor([3])\n"
     ]
    },
    {
     "data": {
      "image/png": "[encoded data removed]",
      "text/plain": [
       "<Figure size 432x288 with 1 Axes>"
      ]
     },
     "metadata": {
      "needs_background": "light"
     },
     "output_type": "display_data"
    }
   ],
   "source": [
    "model_cnn.eval()\n",
    "image, _ = train_loader.dataset[7]\n",
    "plt.imshow(image.squeeze().numpy())\n",
    "inp = image.unsqueeze(dim=0)\n",
    "result = model_cnn(inp)\n",
    "print(result.argmax(1))"
   ]
  },
  {
   "cell_type": "code",
   "execution_count": 12,
   "metadata": {
    "id": "WYKyccKzqTOu"
   },
   "outputs": [],
   "source": [
    "def visualize_layer(layer, max_act):\n",
    "    pos = layer * 2 + 1 # this is due to how I created the arrays in the network.\n",
    "\n",
    "    num_feat = model_cnn.feature_maps[pos].shape[1]\n",
    "\n",
    "    #Get all the specific feature maps!\n",
    "    new_feat_map = model_cnn.feature_maps[pos].clone()\n",
    "#     print(new_feat_map.shape)\n",
    "\n",
    "    # Choose max activation\n",
    "    act_lst = []\n",
    "    for i in range(0, num_feat):\n",
    "        choose_map = new_feat_map[0, i, :, :]\n",
    "        activation = torch.max(choose_map)\n",
    "        act_lst.append(activation.item())\n",
    "    \n",
    "#     print(act_lst)\n",
    "    act_lst = np.array(act_lst)\n",
    "    mark = np.argmax(act_lst) #Get index of max activation\n",
    "    top_k = (-act_lst).argsort()[:3]\n",
    "    mark = (-act_lst).argsort()[:max_act][max_act - 1]\n",
    "\n",
    "    choose_map = new_feat_map[0, mark, :, :]\n",
    "    max_activation = torch.max(choose_map)\n",
    "\n",
    "    # make zeros for other feature maps - we are only interested in the top! (or the max_act we choose)\n",
    "    if mark == 0:\n",
    "        new_feat_map[:, 1:, :, :] = 0\n",
    "    else:\n",
    "        new_feat_map[:, :mark, :, :] = 0\n",
    "        if mark != num_feat - 1:\n",
    "            new_feat_map[:, mark + 1:, :, :] = 0\n",
    "            \n",
    "#     print(max_activation)\n",
    "#     print(choose_map)\n",
    "\n",
    "    choose_map = torch.where(choose_map==max_activation,\n",
    "            choose_map,\n",
    "            torch.zeros(choose_map.shape)\n",
    "            )\n",
    "    \n",
    "#     print(choose_map)\n",
    "\n",
    "    # make zeros for ther activations\n",
    "    new_feat_map[0, mark, :, :] = choose_map\n",
    "#     print(new_feat_map)\n",
    "\n",
    "    deconv_output = model_cnn.deconv(new_feat_map, layer)\n",
    "    return deconv_output\n",
    "\n",
    "# print(new_feat_map.shape)"
   ]
  },
  {
   "cell_type": "code",
   "execution_count": 13,
   "metadata": {
    "colab": {
     "base_uri": "https://localhost:8080/",
     "height": 698
    },
    "id": "cjVCDSd5qTOu",
    "outputId": "b0c886e8-cfd7-48fa-bcff-a02938b83bb3"
   },
   "outputs": [
    {
     "data": {
      "image/png": "[encoded data removed]",
      "text/plain": [
       "<Figure size 432x288 with 1 Axes>"
      ]
     },
     "metadata": {
      "needs_background": "light"
     },
     "output_type": "display_data"
    },
    {
     "name": "stdout",
     "output_type": "stream",
     "text": [
      "tensor([5])\n"
     ]
    },
    {
     "data": {
      "image/png": "[encoded data removed]",
      "text/plain": [
       "<Figure size 1152x432 with 4 Axes>"
      ]
     },
     "metadata": {
      "needs_background": "light"
     },
     "output_type": "display_data"
    },
    {
     "data": {
      "image/png": "[encoded data removed]",
      "text/plain": [
       "<Figure size 1152x432 with 4 Axes>"
      ]
     },
     "metadata": {
      "needs_background": "light"
     },
     "output_type": "display_data"
    }
   ],
   "source": [
    "# We pass one image through the model\n",
    "model_cnn.eval()\n",
    "image, _ = train_loader.dataset[0]\n",
    "plt.imshow(image.squeeze().numpy())\n",
    "plt.show()\n",
    "inp = image.unsqueeze(dim=0)\n",
    "result = model_cnn(inp)\n",
    "print(result.argmax(1))\n",
    "\n",
    "# Now that we did the feedforward pass, we can go backwards through the deconvnet\n",
    "for layer in range(0, 2):\n",
    "    imgs = []\n",
    "    for top_k in range(1, 5):\n",
    "        deconv_output = visualize_layer(layer, top_k)\n",
    "        imgs.append(deconv_output.squeeze().detach().numpy())\n",
    "    \n",
    "    ## PLOT\n",
    "    plt.figure(figsize=(16, 6))\n",
    "    for i in range(4):\n",
    "        plt.subplot(1, 4, i+1)\n",
    "        image, _ = train_loader.dataset.__getitem__(i)\n",
    "        plt.imshow(imgs[i])\n",
    "        plt.axis('off');\n",
    "    \n",
    "    plt.show()"
   ]
  },
  {
   "cell_type": "markdown",
   "metadata": {
    "id": "7k4_804TqTOu"
   },
   "source": [
    "## try blending the images to see them stack together ##\n",
    "\n",
    "In the original paper, they used the top 9."
   ]
  },
  {
   "cell_type": "code",
   "execution_count": null,
   "metadata": {
    "id": "wiuzQySVqTOu"
   },
   "outputs": [],
   "source": []
  },
  {
   "cell_type": "markdown",
   "metadata": {
    "id": "RJTsaNGfqTOu"
   },
   "source": [
    "## Here you could/should try to apply the same idea (deconvnet) to a pre-trained model, loaded as we have seen before ##\n",
    "\n",
    "You will need to load the model layer by layer and then use the weights similar to how we did in this notebook"
   ]
  },
  {
   "cell_type": "code",
   "execution_count": null,
   "metadata": {
    "id": "F00YAHXHqTOu"
   },
   "outputs": [],
   "source": []
  }
 ],
 "metadata": {
  "colab": {
   "include_colab_link": true,
   "name": "3-using-deconvnet.ipynb",
   "provenance": []
  },
  "kernelspec": {
   "display_name": "Python [conda env:pDL] *",
   "language": "python",
   "name": "conda-env-pDL-py"
  },
  "language_info": {
   "codemirror_mode": {
    "name": "ipython",
    "version": 3
   },
   "file_extension": ".py",
   "mimetype": "text/x-python",
   "name": "python",
   "nbconvert_exporter": "python",
   "pygments_lexer": "ipython3",
   "version": "3.8.2"
  }
 },
 "nbformat": 4,
 "nbformat_minor": 0
}

{
 "cells": [
  {
   "cell_type": "markdown",
   "metadata": {
    "colab_type": "text",
    "id": "view-in-github"
   },
   "source": [
    "<a href=\"https://colab.research.google.com/github/aeau/MAU-AML-labs/blob/develop/1-computer-vision-lab/5_Captum_example.ipynb\" target=\"_parent\"><img src=\"https://colab.research.google.com/assets/colab-badge.svg\" alt=\"Open In Colab\"/></a>"
   ]
  },
  {
   "cell_type": "markdown",
   "metadata": {
    "id": "2hTdz9j-fzHH"
   },
   "source": [
    "# Example using CAPTUM!"
   ]
  },
  {
   "cell_type": "markdown",
   "metadata": {
    "id": "Iwwa9AA2j9Rg"
   },
   "source": [
    "# Setup"
   ]
  },
  {
   "cell_type": "code",
   "execution_count": 1,
   "metadata": {
    "colab": {
     "base_uri": "https://localhost:8080/"
    },
    "id": "n6U4eZ6K3YGP",
    "outputId": "34764b33-c0f5-4a28-f77c-8081321ce50a"
   },
   "outputs": [
    {
     "name": "stdout",
     "output_type": "stream",
     "text": [
      "Looking in indexes: https://pypi.org/simple, https://us-python.pkg.dev/colab-wheels/public/simple/\n",
      "Collecting captum\n",
      "  Downloading captum-0.6.0-py3-none-any.whl (1.3 MB)\n",
      "\u001b[2K     \u001b[90m━━━━━━━━━━━━━━━━━━━━━━━━━━━━━━━━━━━━━━━━\u001b[0m \u001b[32m1.3/1.3 MB\u001b[0m \u001b[31m21.5 MB/s\u001b[0m eta \u001b[36m0:00:00\u001b[0m\n",
      "\u001b[?25hRequirement already satisfied: kaggle in /usr/local/lib/python3.9/dist-packages (1.5.13)\n",
      "Requirement already satisfied: matplotlib in /usr/local/lib/python3.9/dist-packages (from captum) (3.7.1)\n",
      "Requirement already satisfied: numpy in /usr/local/lib/python3.9/dist-packages (from captum) (1.22.4)\n",
      "Requirement already satisfied: torch>=1.6 in /usr/local/lib/python3.9/dist-packages (from captum) (2.0.0+cu118)\n",
      "Requirement already satisfied: six>=1.10 in /usr/local/lib/python3.9/dist-packages (from kaggle) (1.16.0)\n",
      "Requirement already satisfied: certifi in /usr/local/lib/python3.9/dist-packages (from kaggle) (2022.12.7)\n",
      "Requirement already satisfied: python-slugify in /usr/local/lib/python3.9/dist-packages (from kaggle) (8.0.1)\n",
      "Requirement already satisfied: tqdm in /usr/local/lib/python3.9/dist-packages (from kaggle) (4.65.0)\n",
      "Requirement already satisfied: requests in /usr/local/lib/python3.9/dist-packages (from kaggle) (2.27.1)\n",
      "Requirement already satisfied: python-dateutil in /usr/local/lib/python3.9/dist-packages (from kaggle) (2.8.2)\n",
      "Requirement already satisfied: urllib3 in /usr/local/lib/python3.9/dist-packages (from kaggle) (1.26.15)\n",
      "Requirement already satisfied: sympy in /usr/local/lib/python3.9/dist-packages (from torch>=1.6->captum) (1.11.1)\n",
      "Requirement already satisfied: typing-extensions in /usr/local/lib/python3.9/dist-packages (from torch>=1.6->captum) (4.5.0)\n",
      "Requirement already satisfied: jinja2 in /usr/local/lib/python3.9/dist-packages (from torch>=1.6->captum) (3.1.2)\n",
      "Requirement already satisfied: networkx in /usr/local/lib/python3.9/dist-packages (from torch>=1.6->captum) (3.1)\n",
      "Requirement already satisfied: filelock in /usr/local/lib/python3.9/dist-packages (from torch>=1.6->captum) (3.11.0)\n",
      "Requirement already satisfied: triton==2.0.0 in /usr/local/lib/python3.9/dist-packages (from torch>=1.6->captum) (2.0.0)\n",
      "Requirement already satisfied: lit in /usr/local/lib/python3.9/dist-packages (from triton==2.0.0->torch>=1.6->captum) (16.0.1)\n",
      "Requirement already satisfied: cmake in /usr/local/lib/python3.9/dist-packages (from triton==2.0.0->torch>=1.6->captum) (3.25.2)\n",
      "Requirement already satisfied: fonttools>=4.22.0 in /usr/local/lib/python3.9/dist-packages (from matplotlib->captum) (4.39.3)\n",
      "Requirement already satisfied: packaging>=20.0 in /usr/local/lib/python3.9/dist-packages (from matplotlib->captum) (23.1)\n",
      "Requirement already satisfied: pillow>=6.2.0 in /usr/local/lib/python3.9/dist-packages (from matplotlib->captum) (8.4.0)\n",
      "Requirement already satisfied: pyparsing>=2.3.1 in /usr/local/lib/python3.9/dist-packages (from matplotlib->captum) (3.0.9)\n",
      "Requirement already satisfied: importlib-resources>=3.2.0 in /usr/local/lib/python3.9/dist-packages (from matplotlib->captum) (5.12.0)\n",
      "Requirement already satisfied: contourpy>=1.0.1 in /usr/local/lib/python3.9/dist-packages (from matplotlib->captum) (1.0.7)\n",
      "Requirement already satisfied: cycler>=0.10 in /usr/local/lib/python3.9/dist-packages (from matplotlib->captum) (0.11.0)\n",
      "Requirement already satisfied: kiwisolver>=1.0.1 in /usr/local/lib/python3.9/dist-packages (from matplotlib->captum) (1.4.4)\n",
      "Requirement already satisfied: text-unidecode>=1.3 in /usr/local/lib/python3.9/dist-packages (from python-slugify->kaggle) (1.3)\n",
      "Requirement already satisfied: charset-normalizer~=2.0.0 in /usr/local/lib/python3.9/dist-packages (from requests->kaggle) (2.0.12)\n",
      "Requirement already satisfied: idna<4,>=2.5 in /usr/local/lib/python3.9/dist-packages (from requests->kaggle) (3.4)\n",
      "Requirement already satisfied: zipp>=3.1.0 in /usr/local/lib/python3.9/dist-packages (from importlib-resources>=3.2.0->matplotlib->captum) (3.15.0)\n",
      "Requirement already satisfied: MarkupSafe>=2.0 in /usr/local/lib/python3.9/dist-packages (from jinja2->torch>=1.6->captum) (2.1.2)\n",
      "Requirement already satisfied: mpmath>=0.19 in /usr/local/lib/python3.9/dist-packages (from sympy->torch>=1.6->captum) (1.3.0)\n",
      "Installing collected packages: captum\n",
      "Successfully installed captum-0.6.0\n"
     ]
    }
   ],
   "source": [
    "#XAI methods\n",
    "! pip install captum kaggle"
   ]
  },
  {
   "cell_type": "code",
   "execution_count": 2,
   "metadata": {
    "colab": {
     "base_uri": "https://localhost:8080/"
    },
    "id": "pUNrkvZnP-Il",
    "outputId": "0bb37b1d-f147-442b-8cc5-99a7028ad70f"
   },
   "outputs": [
    {
     "name": "stdout",
     "output_type": "stream",
     "text": [
      "Looking in indexes: https://pypi.org/simple, https://us-python.pkg.dev/colab-wheels/public/simple/\n",
      "Collecting cmapy\n",
      "  Downloading cmapy-0.6.6.tar.gz (4.2 kB)\n",
      "  Preparing metadata (setup.py) ... \u001b[?25l\u001b[?25hdone\n",
      "Requirement already satisfied: matplotlib in /usr/local/lib/python3.9/dist-packages (from cmapy) (3.7.1)\n",
      "Requirement already satisfied: numpy in /usr/local/lib/python3.9/dist-packages (from cmapy) (1.22.4)\n",
      "Requirement already satisfied: opencv-python>=3.3 in /usr/local/lib/python3.9/dist-packages (from cmapy) (4.7.0.72)\n",
      "Requirement already satisfied: kiwisolver>=1.0.1 in /usr/local/lib/python3.9/dist-packages (from matplotlib->cmapy) (1.4.4)\n",
      "Requirement already satisfied: fonttools>=4.22.0 in /usr/local/lib/python3.9/dist-packages (from matplotlib->cmapy) (4.39.3)\n",
      "Requirement already satisfied: contourpy>=1.0.1 in /usr/local/lib/python3.9/dist-packages (from matplotlib->cmapy) (1.0.7)\n",
      "Requirement already satisfied: pillow>=6.2.0 in /usr/local/lib/python3.9/dist-packages (from matplotlib->cmapy) (8.4.0)\n",
      "Requirement already satisfied: packaging>=20.0 in /usr/local/lib/python3.9/dist-packages (from matplotlib->cmapy) (23.1)\n",
      "Requirement already satisfied: importlib-resources>=3.2.0 in /usr/local/lib/python3.9/dist-packages (from matplotlib->cmapy) (5.12.0)\n",
      "Requirement already satisfied: pyparsing>=2.3.1 in /usr/local/lib/python3.9/dist-packages (from matplotlib->cmapy) (3.0.9)\n",
      "Requirement already satisfied: cycler>=0.10 in /usr/local/lib/python3.9/dist-packages (from matplotlib->cmapy) (0.11.0)\n",
      "Requirement already satisfied: python-dateutil>=2.7 in /usr/local/lib/python3.9/dist-packages (from matplotlib->cmapy) (2.8.2)\n",
      "Requirement already satisfied: zipp>=3.1.0 in /usr/local/lib/python3.9/dist-packages (from importlib-resources>=3.2.0->matplotlib->cmapy) (3.15.0)\n",
      "Requirement already satisfied: six>=1.5 in /usr/local/lib/python3.9/dist-packages (from python-dateutil>=2.7->matplotlib->cmapy) (1.16.0)\n",
      "Building wheels for collected packages: cmapy\n",
      "  Building wheel for cmapy (setup.py) ... \u001b[?25l\u001b[?25hdone\n",
      "  Created wheel for cmapy: filename=cmapy-0.6.6-py3-none-any.whl size=3958 sha256=b7cd27a2ad5a3da505ac52165d01f6ec5e8d195c2daee7771248a1e6fab9f3a2\n",
      "  Stored in directory: /root/.cache/pip/wheels/d0/ba/02/846115949970d31a249c4fb172d4e1249e3502050c3ee485d1\n",
      "Successfully built cmapy\n",
      "Installing collected packages: cmapy\n",
      "Successfully installed cmapy-0.6.6\n"
     ]
    }
   ],
   "source": [
    "pip install cmapy"
   ]
  },
  {
   "cell_type": "code",
   "execution_count": 71,
   "metadata": {
    "colab": {
     "base_uri": "https://localhost:8080/"
    },
    "id": "nFSj53mF1_yt",
    "outputId": "e2973e41-39b1-4eec-9bde-3d822fa314f9"
   },
   "outputs": [
    {
     "name": "stdout",
     "output_type": "stream",
     "text": [
      "Looking in indexes: https://pypi.org/simple, https://us-python.pkg.dev/colab-wheels/public/simple/\n",
      "Requirement already satisfied: captum in /usr/local/lib/python3.9/dist-packages (0.6.0)\n",
      "Requirement already satisfied: numpy in /usr/local/lib/python3.9/dist-packages (from captum) (1.22.4)\n",
      "Requirement already satisfied: matplotlib in /usr/local/lib/python3.9/dist-packages (from captum) (3.7.1)\n",
      "Requirement already satisfied: torch>=1.6 in /usr/local/lib/python3.9/dist-packages (from captum) (2.0.0+cu118)\n",
      "Requirement already satisfied: networkx in /usr/local/lib/python3.9/dist-packages (from torch>=1.6->captum) (3.1)\n",
      "Requirement already satisfied: typing-extensions in /usr/local/lib/python3.9/dist-packages (from torch>=1.6->captum) (4.5.0)\n",
      "Requirement already satisfied: filelock in /usr/local/lib/python3.9/dist-packages (from torch>=1.6->captum) (3.11.0)\n",
      "Requirement already satisfied: triton==2.0.0 in /usr/local/lib/python3.9/dist-packages (from torch>=1.6->captum) (2.0.0)\n",
      "Requirement already satisfied: jinja2 in /usr/local/lib/python3.9/dist-packages (from torch>=1.6->captum) (3.1.2)\n",
      "Requirement already satisfied: sympy in /usr/local/lib/python3.9/dist-packages (from torch>=1.6->captum) (1.11.1)\n",
      "Requirement already satisfied: lit in /usr/local/lib/python3.9/dist-packages (from triton==2.0.0->torch>=1.6->captum) (16.0.1)\n",
      "Requirement already satisfied: cmake in /usr/local/lib/python3.9/dist-packages (from triton==2.0.0->torch>=1.6->captum) (3.25.2)\n",
      "Requirement already satisfied: importlib-resources>=3.2.0 in /usr/local/lib/python3.9/dist-packages (from matplotlib->captum) (5.12.0)\n",
      "Requirement already satisfied: packaging>=20.0 in /usr/local/lib/python3.9/dist-packages (from matplotlib->captum) (23.1)\n",
      "Requirement already satisfied: pyparsing>=2.3.1 in /usr/local/lib/python3.9/dist-packages (from matplotlib->captum) (3.0.9)\n",
      "Requirement already satisfied: kiwisolver>=1.0.1 in /usr/local/lib/python3.9/dist-packages (from matplotlib->captum) (1.4.4)\n",
      "Requirement already satisfied: contourpy>=1.0.1 in /usr/local/lib/python3.9/dist-packages (from matplotlib->captum) (1.0.7)\n",
      "Requirement already satisfied: pillow>=6.2.0 in /usr/local/lib/python3.9/dist-packages (from matplotlib->captum) (8.4.0)\n",
      "Requirement already satisfied: cycler>=0.10 in /usr/local/lib/python3.9/dist-packages (from matplotlib->captum) (0.11.0)\n",
      "Requirement already satisfied: fonttools>=4.22.0 in /usr/local/lib/python3.9/dist-packages (from matplotlib->captum) (4.39.3)\n",
      "Requirement already satisfied: python-dateutil>=2.7 in /usr/local/lib/python3.9/dist-packages (from matplotlib->captum) (2.8.2)\n",
      "Requirement already satisfied: zipp>=3.1.0 in /usr/local/lib/python3.9/dist-packages (from importlib-resources>=3.2.0->matplotlib->captum) (3.15.0)\n",
      "Requirement already satisfied: six>=1.5 in /usr/local/lib/python3.9/dist-packages (from python-dateutil>=2.7->matplotlib->captum) (1.16.0)\n",
      "Requirement already satisfied: MarkupSafe>=2.0 in /usr/local/lib/python3.9/dist-packages (from jinja2->torch>=1.6->captum) (2.1.2)\n",
      "Requirement already satisfied: mpmath>=0.19 in /usr/local/lib/python3.9/dist-packages (from sympy->torch>=1.6->captum) (1.3.0)\n"
     ]
    }
   ],
   "source": [
    "! pip install captum \n",
    "from captum.attr import Occlusion\n",
    "from captum.attr import LayerGradCam\n",
    "from captum.attr import LayerAttribution\n",
    "from captum.attr import visualization as viz"
   ]
  },
  {
   "cell_type": "code",
   "execution_count": 3,
   "metadata": {
    "colab": {
     "base_uri": "https://localhost:8080/"
    },
    "id": "nJ1mX07G3pSU",
    "outputId": "80cf4d61-e6db-4baf-c5a3-6b97bfa25ca9"
   },
   "outputs": [
    {
     "name": "stdout",
     "output_type": "stream",
     "text": [
      "2.0.0+cu118\n"
     ]
    }
   ],
   "source": [
    "import numpy as np\n",
    "import torch\n",
    "import torch.nn.functional as F\n",
    "import torchvision\n",
    "from torch.utils.data import DataLoader\n",
    "import os\n",
    "import sys\n",
    "import urllib\n",
    "import json\n",
    "import random\n",
    "\n",
    "from io import StringIO ##For images\n",
    "from io import BytesIO\n",
    "from matplotlib.colors import LinearSegmentedColormap\n",
    "from PIL import Image\n",
    "from torchvision import models\n",
    "from torchvision import transforms\n",
    "from torchvision.transforms import functional as transformsF\n",
    "from captum.attr import IntegratedGradients\n",
    "#from captum.attr import GradientShap\n",
    "from captum.attr import Occlusion\n",
    "from captum.attr import NoiseTunnel\n",
    "from captum.attr import GuidedGradCam\n",
    "from captum.attr import LayerGradCam\n",
    "from captum.attr import LayerAttribution\n",
    "from captum.attr import GradientShap\n",
    "from captum.attr import Lime\n",
    "from captum.attr import visualization as viz\n",
    "#Extras for this test\n",
    "import matplotlib.pyplot as plt\n",
    "print(torch.__version__)\n",
    "from zipfile import ZipFile\n",
    "from random import randint"
   ]
  },
  {
   "cell_type": "code",
   "execution_count": 4,
   "metadata": {
    "id": "zRaJ4tfRF_4c"
   },
   "outputs": [],
   "source": [
    "from torch.utils.data import Dataset\n",
    "from torchvision import datasets\n",
    "\n",
    "import torch\n",
    "import torch.nn as nn\n",
    "import torch.optim as optim\n",
    "from torch.optim import lr_scheduler\n",
    "\n",
    "import time\n",
    "import os\n",
    "import copy\n",
    "\n",
    "import json"
   ]
  },
  {
   "cell_type": "code",
   "execution_count": 5,
   "metadata": {
    "id": "J6G96dBAckm7"
   },
   "outputs": [],
   "source": [
    "# Set random seed for reproducibility.\n",
    "np.random.seed(131254)"
   ]
  },
  {
   "cell_type": "code",
   "execution_count": 6,
   "metadata": {
    "id": "CgnMqo9sQxsd"
   },
   "outputs": [],
   "source": [
    "device = torch.device(\"cuda:0\" if torch.cuda.is_available() else \"cpu\")"
   ]
  },
  {
   "cell_type": "code",
   "execution_count": 7,
   "metadata": {
    "colab": {
     "base_uri": "https://localhost:8080/"
    },
    "id": "JMlRXuGDCP50",
    "outputId": "372baf50-39cc-4eaa-8c31-0b95bc57b24a"
   },
   "outputs": [
    {
     "name": "stdout",
     "output_type": "stream",
     "text": [
      "Mounted at /content/drive\n"
     ]
    }
   ],
   "source": [
    "from google.colab import drive\n",
    "drive.mount('/content/drive')"
   ]
  },
  {
   "cell_type": "markdown",
   "metadata": {
    "id": "w3bpskW8Lg9R"
   },
   "source": [
    "## Authenticate in kaggle and download dataset\n",
    "\n",
    "### We also download the test dataset from our own repository (drive for me)\n",
    "\n",
    "REMEMBER TO CHANGE THE API KEY!"
   ]
  },
  {
   "cell_type": "code",
   "execution_count": 16,
   "metadata": {
    "id": "mcvX2E8pVLhP"
   },
   "outputs": [],
   "source": [
    "#The kaggle token\n",
    "!mkdir ~/.kaggle\n",
    "!touch ~/.kaggle/kaggle.json\n",
    "\n",
    "#Here you need your kaggle api_token! \n",
    "api_token = {\"username\":\"your_username\",\"key\":\"your_KEY!\"} \n",
    "with open('/root/.kaggle/kaggle.json', 'w') as file:\n",
    "    json.dump(api_token, file)\n",
    "\n",
    "!chmod 600 ~/.kaggle/kaggle.json"
   ]
  },
  {
   "cell_type": "code",
   "execution_count": 17,
   "metadata": {
    "colab": {
     "base_uri": "https://localhost:8080/"
    },
    "id": "VfGdMF4yVUt2",
    "outputId": "33771ea1-5fef-49f3-da11-841a01306f9f"
   },
   "outputs": [
    {
     "name": "stdout",
     "output_type": "stream",
     "text": [
      "Downloading four-shapes.zip to /content\n",
      " 42% 9.00M/21.6M [00:00<00:00, 22.3MB/s]\n",
      "100% 21.6M/21.6M [00:00<00:00, 50.0MB/s]\n"
     ]
    }
   ],
   "source": [
    "! kaggle datasets download smeschke/four-shapes"
   ]
  },
  {
   "cell_type": "code",
   "execution_count": 18,
   "metadata": {
    "id": "PIPbLnoqWlKU"
   },
   "outputs": [],
   "source": [
    "with ZipFile('/content/four-shapes.zip', 'r') as archive:\n",
    "  archive.extractall('/content')\n"
   ]
  },
  {
   "cell_type": "code",
   "execution_count": 19,
   "metadata": {
    "colab": {
     "base_uri": "https://localhost:8080/"
    },
    "id": "MEfabpMRL18J",
    "outputId": "6fb9c608-1c9b-4425-e00a-c48af9f7b7f2"
   },
   "outputs": [
    {
     "name": "stdout",
     "output_type": "stream",
     "text": [
      "Archive:  /content/drive/MyDrive/Work/PHD/courses-AML/data_aml/captum-shape-testset.zip\n",
      "   creating: /content/data/captum-shape-testset/\n",
      "  inflating: /content/data/captum-shape-testset/.DS_Store  \n",
      "  inflating: /content/data/__MACOSX/captum-shape-testset/._.DS_Store  \n",
      "   creating: /content/data/captum-shape-testset/set2/\n",
      "  inflating: /content/data/__MACOSX/captum-shape-testset/._set2  \n",
      "   creating: /content/data/captum-shape-testset/set1/\n",
      "  inflating: /content/data/__MACOSX/captum-shape-testset/._set1  \n",
      "  inflating: /content/data/captum-shape-testset/set2/Bild9.PNG  \n",
      "  inflating: /content/data/__MACOSX/captum-shape-testset/set2/._Bild9.PNG  \n",
      "  inflating: /content/data/captum-shape-testset/set2/Bild8.PNG  \n",
      "  inflating: /content/data/__MACOSX/captum-shape-testset/set2/._Bild8.PNG  \n",
      "  inflating: /content/data/captum-shape-testset/set2/Bild6.PNG  \n",
      "  inflating: /content/data/__MACOSX/captum-shape-testset/set2/._Bild6.PNG  \n",
      "  inflating: /content/data/captum-shape-testset/set2/Bild7.PNG  \n",
      "  inflating: /content/data/__MACOSX/captum-shape-testset/set2/._Bild7.PNG  \n",
      "  inflating: /content/data/captum-shape-testset/set2/Bild5.PNG  \n",
      "  inflating: /content/data/__MACOSX/captum-shape-testset/set2/._Bild5.PNG  \n",
      "  inflating: /content/data/captum-shape-testset/set2/Bild4.PNG  \n",
      "  inflating: /content/data/__MACOSX/captum-shape-testset/set2/._Bild4.PNG  \n",
      "  inflating: /content/data/captum-shape-testset/set2/Bild1.PNG  \n",
      "  inflating: /content/data/__MACOSX/captum-shape-testset/set2/._Bild1.PNG  \n",
      "  inflating: /content/data/captum-shape-testset/set2/Bild3.PNG  \n",
      "  inflating: /content/data/__MACOSX/captum-shape-testset/set2/._Bild3.PNG  \n",
      "  inflating: /content/data/captum-shape-testset/set2/Bild2.PNG  \n",
      "  inflating: /content/data/__MACOSX/captum-shape-testset/set2/._Bild2.PNG  \n",
      "  inflating: /content/data/captum-shape-testset/set1/Bild9.PNG  \n",
      "  inflating: /content/data/__MACOSX/captum-shape-testset/set1/._Bild9.PNG  \n",
      "  inflating: /content/data/captum-shape-testset/set1/Bild8.PNG  \n",
      "  inflating: /content/data/__MACOSX/captum-shape-testset/set1/._Bild8.PNG  \n",
      "  inflating: /content/data/captum-shape-testset/set1/Bild6.PNG  \n",
      "  inflating: /content/data/__MACOSX/captum-shape-testset/set1/._Bild6.PNG  \n",
      "  inflating: /content/data/captum-shape-testset/set1/Bild7.PNG  \n",
      "  inflating: /content/data/__MACOSX/captum-shape-testset/set1/._Bild7.PNG  \n",
      "  inflating: /content/data/captum-shape-testset/set1/Bild5.PNG  \n",
      "  inflating: /content/data/__MACOSX/captum-shape-testset/set1/._Bild5.PNG  \n",
      "  inflating: /content/data/captum-shape-testset/set1/Bild4.PNG  \n",
      "  inflating: /content/data/__MACOSX/captum-shape-testset/set1/._Bild4.PNG  \n",
      "  inflating: /content/data/captum-shape-testset/set1/Bild1.PNG  \n",
      "  inflating: /content/data/__MACOSX/captum-shape-testset/set1/._Bild1.PNG  \n",
      "  inflating: /content/data/captum-shape-testset/set1/Bild3.PNG  \n",
      "  inflating: /content/data/__MACOSX/captum-shape-testset/set1/._Bild3.PNG  \n",
      "  inflating: /content/data/captum-shape-testset/set1/Bild2.PNG  \n",
      "  inflating: /content/data/__MACOSX/captum-shape-testset/set1/._Bild2.PNG  \n"
     ]
    }
   ],
   "source": [
    "root_dir = '/content/drive/MyDrive/Work/PHD/courses-AML/data_aml'\n",
    "data_path = \"/content/data\"\n",
    "!unzip \"/content/drive/MyDrive/Work/PHD/courses-AML/data_aml/captum-shape-testset.zip\" -d $data_path\n"
   ]
  },
  {
   "cell_type": "markdown",
   "metadata": {
    "id": "RRw7FfUxQxqT"
   },
   "source": [
    "## Dataloader\n"
   ]
  },
  {
   "cell_type": "code",
   "execution_count": 20,
   "metadata": {
    "id": "rS18X7Y_Grm5"
   },
   "outputs": [],
   "source": [
    "# create the annotation file for the training!\n",
    "\n",
    "from os import listdir\n",
    "from os.path import isfile, join\n",
    "import csv\n",
    "\n",
    "shape_path = \"/content/shapes\"\n",
    "\n",
    "shapes_to_ignore = ['0.png', '1.png', '2.png', '3.png', '4.png', '5.png', '6.png', '7.png', '8.png', '9.png']\n",
    "labels_to_ignore = []\n",
    "\n",
    "with open('/content/shapes/shapes.csv', 'w', newline='') as file:\n",
    "    writer = csv.writer(file)\n",
    "    writer.writerow(['image_location', 'label']) # Write header\n",
    "    for dirs in listdir(\"/content/shapes\"):\n",
    "        if dirs in labels_to_ignore: #Ignore label!\n",
    "          continue\n",
    "\n",
    "#         print(dirs)\n",
    "        if(dirs.endswith(\".csv\")):\n",
    "            continue\n",
    "        for f in listdir(join(\"/content/shapes\", dirs)):\n",
    "\n",
    "            if f in shapes_to_ignore: #ignore the images! \n",
    "              continue\n",
    "            elif(join(\"/content/shapes\", dirs, f).endswith(\".csv\")):\n",
    "                continue\n",
    "            elif isfile(join(\"/content/shapes\", dirs, f)):\n",
    "                writer.writerow([join(dirs, f), dirs])"
   ]
  },
  {
   "cell_type": "code",
   "execution_count": 21,
   "metadata": {
    "id": "CaQszONASVun"
   },
   "outputs": [],
   "source": [
    "num_classes = 4\n",
    "possible_labels = {\"circle\": 0, \"square\": 1, \"star\": 2, \"triangle\": 3}\n",
    "#possible_labels = {\"circle\": 0, \"square\": 1, \"triangle\": 2}\n",
    "key_list = list(possible_labels.keys())\n",
    "val_list = list(possible_labels.values())\n",
    "\n",
    "def label_to_idx(label):\n",
    "  return possible_labels[label]\n",
    "\n",
    "def idx_to_label(idx):\n",
    "  position = val_list.index(idx)\n",
    "  return key_list[position]"
   ]
  },
  {
   "cell_type": "code",
   "execution_count": 22,
   "metadata": {
    "id": "M0uiQeWtF77u"
   },
   "outputs": [],
   "source": [
    "import os\n",
    "import pandas as pd\n",
    "from torchvision.io import read_image\n",
    "\n",
    "class CustomImageDataset(Dataset):\n",
    "    def __init__(self, annotations_file, img_dir, transform=None, target_transform=None):\n",
    "        self.img_labels = pd.read_csv(annotations_file)\n",
    "        self.img_dir = img_dir\n",
    "        self.transform = transform\n",
    "        self.target_transform = target_transform\n",
    "        self.resizer = transforms.Resize(size=(200, 200))\n",
    "\n",
    "    def __len__(self):\n",
    "        return len(self.img_labels)\n",
    "\n",
    "    def __getitem__(self, idx):\n",
    "        img_path = os.path.join(self.img_dir, self.img_labels.iloc[idx, 0])\n",
    "        image = read_image(img_path) # Converts to tensor\n",
    "        image = image.float()\n",
    "        image /= 255.\n",
    "        label = self.img_labels.iloc[idx, 1]\n",
    "        label = torch.tensor(label_to_idx(label))\n",
    "\n",
    "        # ADDDITIONS TO TRANSFORM THE INPUT\n",
    "        r = random.random() # 33% (equal probability) to zoom-in, zoom-out, dont transform\n",
    "\n",
    "        if r < 0.33: # We zoom-in the shape!\n",
    "          top = random.randrange(0, 40) \n",
    "          left = top\n",
    "          dif = 40 - top\n",
    "          w = 120 + dif\n",
    "          h = w\n",
    "          image = transformsF.resized_crop(image, top, left, h, w, size=(200, 200))\n",
    "        elif r < 0.66: # We zoom-out the shape!\n",
    "          pad = random.randrange(0, 300)\n",
    "          image = transforms.Pad(padding=pad, fill=1)(image)\n",
    "          image = self.resizer(image)\n",
    "        #else: We just use the image as is! \n",
    "\n",
    "        # END OF ADDITIONS!\n",
    "\n",
    "        if self.transform:\n",
    "            image = self.transform(image)\n",
    "        if self.target_transform:\n",
    "            label = self.target_transform(label)\n",
    "\n",
    "        image = image.repeat(3, 1, 1)\n",
    "        \n",
    "        return image, label"
   ]
  },
  {
   "cell_type": "code",
   "execution_count": 23,
   "metadata": {
    "colab": {
     "base_uri": "https://localhost:8080/"
    },
    "id": "ju_rH2RdKKGT",
    "outputId": "13c57050-6a83-420f-d8b2-ccbcdbd1f70b"
   },
   "outputs": [
    {
     "name": "stdout",
     "output_type": "stream",
     "text": [
      "14930\n",
      "<class 'torch.Tensor'>\n",
      "torch.Size([3, 200, 200])\n",
      "<class 'torch.Tensor'>\n",
      "tensor(1)\n",
      "13437\n",
      "1493\n"
     ]
    },
    {
     "name": "stderr",
     "output_type": "stream",
     "text": [
      "/usr/local/lib/python3.9/dist-packages/torchvision/transforms/functional.py:1603: UserWarning: The default value of the antialias parameter of all the resizing transforms (Resize(), RandomResizedCrop(), etc.) will change from None to True in v0.17, in order to be consistent across the PIL and Tensor backends. To suppress this warning, directly pass antialias=True (recommended, future default), antialias=None (current default, which means False for Tensors and True for PIL), or antialias=False (only works on Tensors - PIL will still use antialiasing). This also applies if you are using the inference transforms from the models weights: update the call to weights.transforms(antialias=True).\n",
      "  warnings.warn(\n"
     ]
    }
   ],
   "source": [
    "## dls = DataLoader\n",
    "shapes_dataset = CustomImageDataset('/content/shapes/shapes.csv', '/content/shapes')\n",
    "print(len(shapes_dataset))\n",
    "input, label = shapes_dataset[0]\n",
    "print(type(input))\n",
    "print(input.shape)\n",
    "print(type(label))\n",
    "print(label)\n",
    "\n",
    "\n",
    "training_size = int(len(shapes_dataset)*0.9)\n",
    "validation_size = int(len(shapes_dataset) - training_size)\n",
    "print(training_size)\n",
    "print(validation_size)\n",
    "train_set, val_set = torch.utils.data.random_split(shapes_dataset, [training_size, validation_size])\n",
    "\n",
    "training_loader = DataLoader(train_set, batch_size=64, shuffle=True)\n",
    "validation_loader = DataLoader(val_set, batch_size=64, shuffle=True)\n",
    "\n"
   ]
  },
  {
   "cell_type": "markdown",
   "metadata": {
    "id": "4i6NRPbZ8p8p"
   },
   "source": [
    "# Visualize the training set! "
   ]
  },
  {
   "cell_type": "code",
   "execution_count": 24,
   "metadata": {
    "colab": {
     "base_uri": "https://localhost:8080/",
     "height": 653
    },
    "id": "S66ZZUxiN5wb",
    "outputId": "a41da02f-f963-4da5-a4f6-54730efdde1e"
   },
   "outputs": [
    {
     "data": {
      "image/png": "[encoded data removed]",
      "text/plain": [
       "<Figure size 800x800 with 9 Axes>"
      ]
     },
     "metadata": {},
     "output_type": "display_data"
    }
   ],
   "source": [
    "figure = plt.figure(figsize=(8, 8))\n",
    "cols, rows = 3, 3\n",
    "for i in range(1, cols * rows + 1):\n",
    "    sample_idx = torch.randint(len(shapes_dataset), size=(1,)).item() # Get rnd_id\n",
    "    sample = shapes_dataset[sample_idx] # index dataset (gets you the img and label - index)\n",
    "    img, label = shapes_dataset[sample_idx] # index dataset (gets you the img and label - index)\n",
    "    figure.add_subplot(rows, cols, i)\n",
    "    plt.axis(\"off\")\n",
    "#    plt.imshow(img.squeeze(), cmap=\"gray\") # if the image is grayscale\n",
    "    plt.imshow(img.permute(1,2,0)) # put channel as the last dimension\n",
    "plt.show()"
   ]
  },
  {
   "cell_type": "markdown",
   "metadata": {
    "id": "xIucFEhPyynQ"
   },
   "source": [
    "# TRAIN AND TEST THE MODELS! \n",
    "\n",
    "Change the following cell the parameter (pretrained=True) to get a pretrained model "
   ]
  },
  {
   "cell_type": "code",
   "execution_count": 25,
   "metadata": {
    "id": "_k922YTHxyn_"
   },
   "outputs": [],
   "source": [
    "def set_parameter_requires_grad(model, feature_extracting):\n",
    "    if feature_extracting:\n",
    "        for param in model.parameters():\n",
    "            param.requires_grad = False"
   ]
  },
  {
   "cell_type": "code",
   "execution_count": 26,
   "metadata": {
    "id": "CoqEHWouxaD6"
   },
   "outputs": [],
   "source": [
    "%%capture\n",
    "pretrained = False\n",
    "feature_extract = False #False means we retrain the whole network, True = Freeze the weights, train only the last layer\n",
    "# feature extracting does not matter if pretrained=False\n",
    "\n",
    "#Do the torch thing\n",
    "torch.hub._validate_not_a_forked_repo=lambda a,b,c: True #Skum grej från https://github.com/pytorch/pytorch/issues/61755\n",
    "model = torch.hub.load('pytorch/vision:v0.10.0', 'resnet50', pretrained=pretrained)"
   ]
  },
  {
   "cell_type": "code",
   "execution_count": 27,
   "metadata": {
    "id": "Kq_ZVEgjx4vz"
   },
   "outputs": [],
   "source": [
    "#We change the final layer!\n",
    "\n",
    "model_ft = model\n",
    "set_parameter_requires_grad(model_ft, feature_extract) #This is done first to know if we need to freeze the already \"working\" part!\n",
    "num_ftrs = model_ft.fc.in_features  # Get what the final layer should receive\n",
    "\n",
    "# Here the size of each output sample is set to 4 (the shape names)\n",
    "model_ft.fc = nn.Linear(num_ftrs, num_classes)\n",
    "model_ft = model_ft.to(device)"
   ]
  },
  {
   "cell_type": "code",
   "execution_count": 28,
   "metadata": {
    "id": "9l0Co_PqRVol"
   },
   "outputs": [],
   "source": [
    "def train_model(model, criterion, optimizer):\n",
    "    since = time.time()\n",
    "    best_acc = 0.0\n",
    "    model.train()   # Set model to train mode\n",
    "    running_loss = 0.0\n",
    "    running_corrects = 0\n",
    "    \n",
    "    for inputs, labels in training_loader:\n",
    "        inputs = inputs.to(device)\n",
    "        labels = labels.to(device)\n",
    "    \n",
    "        outputs = model(inputs)\n",
    "        _, preds = torch.max(outputs, 1)\n",
    "        loss = criterion(outputs, labels)\n",
    "        \n",
    "        # zero the parameter gradients\n",
    "        optimizer.zero_grad()\n",
    "        loss.backward()\n",
    "        optimizer.step()\n",
    "        \n",
    "        running_loss += loss.item() * inputs.size(0)\n",
    "        running_corrects += torch.sum(preds == labels.data)\n",
    "        \n",
    "    epoch_loss = running_loss / training_size\n",
    "    epoch_acc = running_corrects.double() / training_size\n",
    "\n",
    "    print('train Loss: {:.4f} Acc: {:.4f}'.format(\n",
    "         epoch_loss, epoch_acc))"
   ]
  },
  {
   "cell_type": "code",
   "execution_count": 29,
   "metadata": {
    "id": "apDjuVnTe0Xg"
   },
   "outputs": [],
   "source": [
    "def test_model(model, criterion):\n",
    "    since = time.time()\n",
    "    best_acc = 0.0\n",
    "    model.eval()   # Set model to evaluate mode\n",
    "    running_loss = 0.0\n",
    "    running_corrects = 0\n",
    "    \n",
    "    for inputs, labels in validation_loader:\n",
    "        inputs = inputs.to(device)\n",
    "        labels = labels.to(device)\n",
    "    \n",
    "        outputs = model(inputs)\n",
    "        _, preds = torch.max(outputs, 1)\n",
    "        loss = criterion(outputs, labels)\n",
    "        \n",
    "        running_loss += loss.item() * inputs.size(0)\n",
    "        running_corrects += torch.sum(preds == labels.data)\n",
    "        \n",
    "    epoch_loss = running_loss / validation_size\n",
    "    epoch_acc = running_corrects.double() / validation_size\n",
    "\n",
    "    print('test Loss: {:.4f} Acc: {:.4f}'.format(\n",
    "        epoch_loss, epoch_acc))"
   ]
  },
  {
   "cell_type": "code",
   "execution_count": 30,
   "metadata": {
    "id": "9Dk3prei0dLp"
   },
   "outputs": [],
   "source": [
    "num_epochs = 4\n",
    "\n",
    "criterion = nn.CrossEntropyLoss()\n",
    "\n",
    "# We are optimizing\n",
    "optimizer_ft = optim.SGD(model_ft.parameters(), lr=0.001, momentum=0.9)\n",
    "\n",
    "# Decay LR by a factor of 0.1 every 7 epochs... Not relevant if 4 epochs!\n",
    "scheduler = lr_scheduler.StepLR(optimizer_ft, step_size=7, gamma=0.1)"
   ]
  },
  {
   "cell_type": "code",
   "execution_count": 31,
   "metadata": {
    "colab": {
     "base_uri": "https://localhost:8080/"
    },
    "id": "i3zDqZ0QRlhj",
    "outputId": "8b65e238-d746-488f-d402-c9ad9933fd36"
   },
   "outputs": [
    {
     "name": "stdout",
     "output_type": "stream",
     "text": [
      "Epoch 0/3\n",
      "\n",
      "train Loss: 0.7962 Acc: 0.6449\n",
      "test Loss: 0.2757 Acc: 0.9678\n",
      "Epoch 1/3\n",
      "\n",
      "train Loss: 0.1750 Acc: 0.9642\n",
      "test Loss: 0.0908 Acc: 0.9786\n",
      "Epoch 2/3\n",
      "\n",
      "train Loss: 0.0656 Acc: 0.9883\n",
      "test Loss: 0.0214 Acc: 1.0000\n",
      "Epoch 3/3\n",
      "\n",
      "train Loss: 0.0517 Acc: 0.9884\n",
      "test Loss: 0.0118 Acc: 1.0000\n"
     ]
    }
   ],
   "source": [
    "for epoch in range(num_epochs):\n",
    "    print('Epoch {}/{}'.format(epoch, num_epochs - 1))\n",
    "    print()\n",
    "    train_model(model_ft, criterion, optimizer_ft)\n",
    "    test_model(model_ft, criterion)\n",
    "    scheduler.step()"
   ]
  },
  {
   "cell_type": "code",
   "execution_count": 32,
   "metadata": {
    "colab": {
     "base_uri": "https://localhost:8080/"
    },
    "id": "Hc9vo1hJfFE4",
    "outputId": "5f6647a2-cae9-4b7f-c275-05138354f110"
   },
   "outputs": [
    {
     "name": "stdout",
     "output_type": "stream",
     "text": [
      "test Loss: 0.0126 Acc: 0.9993\n"
     ]
    }
   ],
   "source": [
    "for epoch in range(1):\n",
    "  test_model(model_ft, criterion)"
   ]
  },
  {
   "cell_type": "markdown",
   "metadata": {
    "id": "a8hHUJXkzE9o"
   },
   "source": [
    "# SAVE/LOAD MODELS "
   ]
  },
  {
   "cell_type": "code",
   "execution_count": null,
   "metadata": {
    "id": "6yye4smNGM2T"
   },
   "outputs": [],
   "source": [
    "# Change to your paths!\n",
    "testset_path=\"/content/data/captum-shape-testset/set1/\"\n",
    "model_save_path = \"/content/drive/MyDrive/Work/PHD/courses-AML/data_aml/models/CAPTUM-models/\"\n",
    "\n",
    "model_weights_no_pretrained = model_save_path + 'shapes_resnet50model_not_pretrained_weights.pth'\n",
    "complete_model_no_pretrained = model_save_path + 'shapes_resnet50model_not_pretrained.pth'"
   ]
  },
  {
   "cell_type": "code",
   "execution_count": null,
   "metadata": {
    "colab": {
     "base_uri": "https://localhost:8080/"
    },
    "id": "l-bZznDC4zYg",
    "outputId": "3cd6b47b-0633-44cd-b0b5-0b85c3b88add"
   },
   "outputs": [
    {
     "name": "stdout",
     "output_type": "stream",
     "text": [
      "\u001b[0m\u001b[01;34m.\u001b[0m/   Bild1.PNG  Bild3.PNG  Bild5.PNG  Bild7.PNG  Bild9.PNG\n",
      "\u001b[01;34m..\u001b[0m/  Bild2.PNG  Bild4.PNG  Bild6.PNG  Bild8.PNG\n"
     ]
    }
   ],
   "source": [
    "ls -a $testset_path"
   ]
  },
  {
   "cell_type": "markdown",
   "metadata": {
    "id": "n7Y4xxLA40EE"
   },
   "source": [
    "## SAVE MODELS"
   ]
  },
  {
   "cell_type": "code",
   "execution_count": null,
   "metadata": {
    "id": "4o7-l_cfRlab"
   },
   "outputs": [],
   "source": [
    "#Save NO PRETRAINED!\n",
    "torch.save(model_ft.state_dict(), model_weights_no_pretrained)\n",
    "torch.save(model_ft, complete_model_no_pretrained)"
   ]
  },
  {
   "cell_type": "code",
   "execution_count": null,
   "metadata": {
    "id": "qUheGK3bRlPf"
   },
   "outputs": [],
   "source": [
    "#Save PRETRAINED\n",
    "torch.save(model_ft.state_dict(), model_weights_pretrained)\n",
    "torch.save(model_ft, complete_model_pretrained)"
   ]
  },
  {
   "cell_type": "code",
   "execution_count": null,
   "metadata": {
    "id": "ZPBDDmcwyeqc"
   },
   "outputs": [],
   "source": [
    "#Save PRETRAINED FREEZE WEIGHTS\n",
    "torch.save(model_ft.state_dict(), model_weights_pretrained_freeze)\n",
    "torch.save(model_ft, complete_model_pretrained_freeze)"
   ]
  },
  {
   "cell_type": "markdown",
   "metadata": {
    "id": "-ov94kyvGvx0"
   },
   "source": [
    "## LOAD THE MODELS! "
   ]
  },
  {
   "cell_type": "code",
   "execution_count": null,
   "metadata": {
    "id": "0oB1zvErGCfa"
   },
   "outputs": [],
   "source": [
    "#And then training the model\n",
    "%%capture\n",
    "#Do the torch thing\n",
    "torch.hub._validate_not_a_forked_repo=lambda a,b,c: True #Skum grej från https://github.com/pytorch/pytorch/issues/61755\n",
    "#model = torch.hub.load('pytorch/vision:v0.10.0', 'resnet18', pretrained=True)\n",
    "# model = torch.hub.load('pytorch/vision:v0.10.0', 'resnet34', pretrained=True)\n",
    "model = torch.hub.load('pytorch/vision:v0.10.0', 'resnet50', pretrained=False)\n",
    "#model = torch.hub.load('pytorch/vision:v0.10.0', 'resnet101', pretrained=True)\n",
    "# model = torch.hub.load('pytorch/vision:v0.10.0', 'resnet152', pretrained=True)\n",
    "model.eval()\n",
    "model"
   ]
  },
  {
   "cell_type": "markdown",
   "metadata": {
    "id": "O6fVO6NDzyLM"
   },
   "source": [
    "### Pretrained model"
   ]
  },
  {
   "cell_type": "code",
   "execution_count": null,
   "metadata": {
    "id": "q6s1NrkqCz66"
   },
   "outputs": [],
   "source": [
    "%%capture\n",
    "num_ftrs = model.fc.in_features # Get what the final layer should receive\n",
    "\n",
    "# Here the size of each output sample is set to 2 (the class names)\n",
    "# Create a new final layer\n",
    "model.fc = nn.Linear(num_ftrs, 4)\n",
    "\n",
    "model_ft = model\n",
    "model_ft.load_state_dict(torch.load(model_weights_pretrained, map_location=torch.device(device)))\n",
    "model_ft.eval()\n",
    "model_ft = model_ft.to(device)"
   ]
  },
  {
   "cell_type": "code",
   "execution_count": null,
   "metadata": {
    "id": "odcjc7Y_C3zV"
   },
   "outputs": [],
   "source": [
    "model_ft = model\n",
    "model_ft = torch.load(complete_model_pretrained, map_location=torch.device(device))\n",
    "model_ft.eval()\n",
    "model_ft = model_ft.to(device)"
   ]
  },
  {
   "cell_type": "markdown",
   "metadata": {
    "id": "f1UjLJK-z-aF"
   },
   "source": [
    "### Not Pretrained model"
   ]
  },
  {
   "cell_type": "code",
   "execution_count": null,
   "metadata": {
    "id": "TiM2P4TORkV1"
   },
   "outputs": [],
   "source": [
    "num_ftrs = model.fc.in_features # Get what the final layer should receive\n",
    "\n",
    "# Here the size of each output sample is set to 2 (the class names)\n",
    "# Create a new final layer\n",
    "model.fc = nn.Linear(num_ftrs, num_classes)\n",
    "\n",
    "model_ft = model\n",
    "model_ft = torch.load(complete_model_no_pretrained, map_location=torch.device(device))\n",
    "model_ft.eval()\n",
    "model_ft = model_ft.to(device)"
   ]
  },
  {
   "cell_type": "code",
   "execution_count": null,
   "metadata": {
    "colab": {
     "base_uri": "https://localhost:8080/"
    },
    "id": "71RyszwW1tbA",
    "outputId": "7c0d9aa7-dd79-4762-e2b1-9659080785c5"
   },
   "outputs": [
    {
     "name": "stdout",
     "output_type": "stream",
     "text": [
      "ResNet(\n",
      "  (conv1): Conv2d(3, 64, kernel_size=(7, 7), stride=(2, 2), padding=(3, 3), bias=False)\n",
      "  (bn1): BatchNorm2d(64, eps=1e-05, momentum=0.1, affine=True, track_running_stats=True)\n",
      "  (relu): ReLU(inplace=True)\n",
      "  (maxpool): MaxPool2d(kernel_size=3, stride=2, padding=1, dilation=1, ceil_mode=False)\n",
      "  (layer1): Sequential(\n",
      "    (0): Bottleneck(\n",
      "      (conv1): Conv2d(64, 64, kernel_size=(1, 1), stride=(1, 1), bias=False)\n",
      "      (bn1): BatchNorm2d(64, eps=1e-05, momentum=0.1, affine=True, track_running_stats=True)\n",
      "      (conv2): Conv2d(64, 64, kernel_size=(3, 3), stride=(1, 1), padding=(1, 1), bias=False)\n",
      "      (bn2): BatchNorm2d(64, eps=1e-05, momentum=0.1, affine=True, track_running_stats=True)\n",
      "      (conv3): Conv2d(64, 256, kernel_size=(1, 1), stride=(1, 1), bias=False)\n",
      "      (bn3): BatchNorm2d(256, eps=1e-05, momentum=0.1, affine=True, track_running_stats=True)\n",
      "      (relu): ReLU(inplace=True)\n",
      "      (downsample): Sequential(\n",
      "        (0): Conv2d(64, 256, kernel_size=(1, 1), stride=(1, 1), bias=False)\n",
      "        (1): BatchNorm2d(256, eps=1e-05, momentum=0.1, affine=True, track_running_stats=True)\n",
      "      )\n",
      "    )\n",
      "    (1): Bottleneck(\n",
      "      (conv1): Conv2d(256, 64, kernel_size=(1, 1), stride=(1, 1), bias=False)\n",
      "      (bn1): BatchNorm2d(64, eps=1e-05, momentum=0.1, affine=True, track_running_stats=True)\n",
      "      (conv2): Conv2d(64, 64, kernel_size=(3, 3), stride=(1, 1), padding=(1, 1), bias=False)\n",
      "      (bn2): BatchNorm2d(64, eps=1e-05, momentum=0.1, affine=True, track_running_stats=True)\n",
      "      (conv3): Conv2d(64, 256, kernel_size=(1, 1), stride=(1, 1), bias=False)\n",
      "      (bn3): BatchNorm2d(256, eps=1e-05, momentum=0.1, affine=True, track_running_stats=True)\n",
      "      (relu): ReLU(inplace=True)\n",
      "    )\n",
      "    (2): Bottleneck(\n",
      "      (conv1): Conv2d(256, 64, kernel_size=(1, 1), stride=(1, 1), bias=False)\n",
      "      (bn1): BatchNorm2d(64, eps=1e-05, momentum=0.1, affine=True, track_running_stats=True)\n",
      "      (conv2): Conv2d(64, 64, kernel_size=(3, 3), stride=(1, 1), padding=(1, 1), bias=False)\n",
      "      (bn2): BatchNorm2d(64, eps=1e-05, momentum=0.1, affine=True, track_running_stats=True)\n",
      "      (conv3): Conv2d(64, 256, kernel_size=(1, 1), stride=(1, 1), bias=False)\n",
      "      (bn3): BatchNorm2d(256, eps=1e-05, momentum=0.1, affine=True, track_running_stats=True)\n",
      "      (relu): ReLU(inplace=True)\n",
      "    )\n",
      "  )\n",
      "  (layer2): Sequential(\n",
      "    (0): Bottleneck(\n",
      "      (conv1): Conv2d(256, 128, kernel_size=(1, 1), stride=(1, 1), bias=False)\n",
      "      (bn1): BatchNorm2d(128, eps=1e-05, momentum=0.1, affine=True, track_running_stats=True)\n",
      "      (conv2): Conv2d(128, 128, kernel_size=(3, 3), stride=(2, 2), padding=(1, 1), bias=False)\n",
      "      (bn2): BatchNorm2d(128, eps=1e-05, momentum=0.1, affine=True, track_running_stats=True)\n",
      "      (conv3): Conv2d(128, 512, kernel_size=(1, 1), stride=(1, 1), bias=False)\n",
      "      (bn3): BatchNorm2d(512, eps=1e-05, momentum=0.1, affine=True, track_running_stats=True)\n",
      "      (relu): ReLU(inplace=True)\n",
      "      (downsample): Sequential(\n",
      "        (0): Conv2d(256, 512, kernel_size=(1, 1), stride=(2, 2), bias=False)\n",
      "        (1): BatchNorm2d(512, eps=1e-05, momentum=0.1, affine=True, track_running_stats=True)\n",
      "      )\n",
      "    )\n",
      "    (1): Bottleneck(\n",
      "      (conv1): Conv2d(512, 128, kernel_size=(1, 1), stride=(1, 1), bias=False)\n",
      "      (bn1): BatchNorm2d(128, eps=1e-05, momentum=0.1, affine=True, track_running_stats=True)\n",
      "      (conv2): Conv2d(128, 128, kernel_size=(3, 3), stride=(1, 1), padding=(1, 1), bias=False)\n",
      "      (bn2): BatchNorm2d(128, eps=1e-05, momentum=0.1, affine=True, track_running_stats=True)\n",
      "      (conv3): Conv2d(128, 512, kernel_size=(1, 1), stride=(1, 1), bias=False)\n",
      "      (bn3): BatchNorm2d(512, eps=1e-05, momentum=0.1, affine=True, track_running_stats=True)\n",
      "      (relu): ReLU(inplace=True)\n",
      "    )\n",
      "    (2): Bottleneck(\n",
      "      (conv1): Conv2d(512, 128, kernel_size=(1, 1), stride=(1, 1), bias=False)\n",
      "      (bn1): BatchNorm2d(128, eps=1e-05, momentum=0.1, affine=True, track_running_stats=True)\n",
      "      (conv2): Conv2d(128, 128, kernel_size=(3, 3), stride=(1, 1), padding=(1, 1), bias=False)\n",
      "      (bn2): BatchNorm2d(128, eps=1e-05, momentum=0.1, affine=True, track_running_stats=True)\n",
      "      (conv3): Conv2d(128, 512, kernel_size=(1, 1), stride=(1, 1), bias=False)\n",
      "      (bn3): BatchNorm2d(512, eps=1e-05, momentum=0.1, affine=True, track_running_stats=True)\n",
      "      (relu): ReLU(inplace=True)\n",
      "    )\n",
      "    (3): Bottleneck(\n",
      "      (conv1): Conv2d(512, 128, kernel_size=(1, 1), stride=(1, 1), bias=False)\n",
      "      (bn1): BatchNorm2d(128, eps=1e-05, momentum=0.1, affine=True, track_running_stats=True)\n",
      "      (conv2): Conv2d(128, 128, kernel_size=(3, 3), stride=(1, 1), padding=(1, 1), bias=False)\n",
      "      (bn2): BatchNorm2d(128, eps=1e-05, momentum=0.1, affine=True, track_running_stats=True)\n",
      "      (conv3): Conv2d(128, 512, kernel_size=(1, 1), stride=(1, 1), bias=False)\n",
      "      (bn3): BatchNorm2d(512, eps=1e-05, momentum=0.1, affine=True, track_running_stats=True)\n",
      "      (relu): ReLU(inplace=True)\n",
      "    )\n",
      "  )\n",
      "  (layer3): Sequential(\n",
      "    (0): Bottleneck(\n",
      "      (conv1): Conv2d(512, 256, kernel_size=(1, 1), stride=(1, 1), bias=False)\n",
      "      (bn1): BatchNorm2d(256, eps=1e-05, momentum=0.1, affine=True, track_running_stats=True)\n",
      "      (conv2): Conv2d(256, 256, kernel_size=(3, 3), stride=(2, 2), padding=(1, 1), bias=False)\n",
      "      (bn2): BatchNorm2d(256, eps=1e-05, momentum=0.1, affine=True, track_running_stats=True)\n",
      "      (conv3): Conv2d(256, 1024, kernel_size=(1, 1), stride=(1, 1), bias=False)\n",
      "      (bn3): BatchNorm2d(1024, eps=1e-05, momentum=0.1, affine=True, track_running_stats=True)\n",
      "      (relu): ReLU(inplace=True)\n",
      "      (downsample): Sequential(\n",
      "        (0): Conv2d(512, 1024, kernel_size=(1, 1), stride=(2, 2), bias=False)\n",
      "        (1): BatchNorm2d(1024, eps=1e-05, momentum=0.1, affine=True, track_running_stats=True)\n",
      "      )\n",
      "    )\n",
      "    (1): Bottleneck(\n",
      "      (conv1): Conv2d(1024, 256, kernel_size=(1, 1), stride=(1, 1), bias=False)\n",
      "      (bn1): BatchNorm2d(256, eps=1e-05, momentum=0.1, affine=True, track_running_stats=True)\n",
      "      (conv2): Conv2d(256, 256, kernel_size=(3, 3), stride=(1, 1), padding=(1, 1), bias=False)\n",
      "      (bn2): BatchNorm2d(256, eps=1e-05, momentum=0.1, affine=True, track_running_stats=True)\n",
      "      (conv3): Conv2d(256, 1024, kernel_size=(1, 1), stride=(1, 1), bias=False)\n",
      "      (bn3): BatchNorm2d(1024, eps=1e-05, momentum=0.1, affine=True, track_running_stats=True)\n",
      "      (relu): ReLU(inplace=True)\n",
      "    )\n",
      "    (2): Bottleneck(\n",
      "      (conv1): Conv2d(1024, 256, kernel_size=(1, 1), stride=(1, 1), bias=False)\n",
      "      (bn1): BatchNorm2d(256, eps=1e-05, momentum=0.1, affine=True, track_running_stats=True)\n",
      "      (conv2): Conv2d(256, 256, kernel_size=(3, 3), stride=(1, 1), padding=(1, 1), bias=False)\n",
      "      (bn2): BatchNorm2d(256, eps=1e-05, momentum=0.1, affine=True, track_running_stats=True)\n",
      "      (conv3): Conv2d(256, 1024, kernel_size=(1, 1), stride=(1, 1), bias=False)\n",
      "      (bn3): BatchNorm2d(1024, eps=1e-05, momentum=0.1, affine=True, track_running_stats=True)\n",
      "      (relu): ReLU(inplace=True)\n",
      "    )\n",
      "    (3): Bottleneck(\n",
      "      (conv1): Conv2d(1024, 256, kernel_size=(1, 1), stride=(1, 1), bias=False)\n",
      "      (bn1): BatchNorm2d(256, eps=1e-05, momentum=0.1, affine=True, track_running_stats=True)\n",
      "      (conv2): Conv2d(256, 256, kernel_size=(3, 3), stride=(1, 1), padding=(1, 1), bias=False)\n",
      "      (bn2): BatchNorm2d(256, eps=1e-05, momentum=0.1, affine=True, track_running_stats=True)\n",
      "      (conv3): Conv2d(256, 1024, kernel_size=(1, 1), stride=(1, 1), bias=False)\n",
      "      (bn3): BatchNorm2d(1024, eps=1e-05, momentum=0.1, affine=True, track_running_stats=True)\n",
      "      (relu): ReLU(inplace=True)\n",
      "    )\n",
      "    (4): Bottleneck(\n",
      "      (conv1): Conv2d(1024, 256, kernel_size=(1, 1), stride=(1, 1), bias=False)\n",
      "      (bn1): BatchNorm2d(256, eps=1e-05, momentum=0.1, affine=True, track_running_stats=True)\n",
      "      (conv2): Conv2d(256, 256, kernel_size=(3, 3), stride=(1, 1), padding=(1, 1), bias=False)\n",
      "      (bn2): BatchNorm2d(256, eps=1e-05, momentum=0.1, affine=True, track_running_stats=True)\n",
      "      (conv3): Conv2d(256, 1024, kernel_size=(1, 1), stride=(1, 1), bias=False)\n",
      "      (bn3): BatchNorm2d(1024, eps=1e-05, momentum=0.1, affine=True, track_running_stats=True)\n",
      "      (relu): ReLU(inplace=True)\n",
      "    )\n",
      "    (5): Bottleneck(\n",
      "      (conv1): Conv2d(1024, 256, kernel_size=(1, 1), stride=(1, 1), bias=False)\n",
      "      (bn1): BatchNorm2d(256, eps=1e-05, momentum=0.1, affine=True, track_running_stats=True)\n",
      "      (conv2): Conv2d(256, 256, kernel_size=(3, 3), stride=(1, 1), padding=(1, 1), bias=False)\n",
      "      (bn2): BatchNorm2d(256, eps=1e-05, momentum=0.1, affine=True, track_running_stats=True)\n",
      "      (conv3): Conv2d(256, 1024, kernel_size=(1, 1), stride=(1, 1), bias=False)\n",
      "      (bn3): BatchNorm2d(1024, eps=1e-05, momentum=0.1, affine=True, track_running_stats=True)\n",
      "      (relu): ReLU(inplace=True)\n",
      "    )\n",
      "  )\n",
      "  (layer4): Sequential(\n",
      "    (0): Bottleneck(\n",
      "      (conv1): Conv2d(1024, 512, kernel_size=(1, 1), stride=(1, 1), bias=False)\n",
      "      (bn1): BatchNorm2d(512, eps=1e-05, momentum=0.1, affine=True, track_running_stats=True)\n",
      "      (conv2): Conv2d(512, 512, kernel_size=(3, 3), stride=(2, 2), padding=(1, 1), bias=False)\n",
      "      (bn2): BatchNorm2d(512, eps=1e-05, momentum=0.1, affine=True, track_running_stats=True)\n",
      "      (conv3): Conv2d(512, 2048, kernel_size=(1, 1), stride=(1, 1), bias=False)\n",
      "      (bn3): BatchNorm2d(2048, eps=1e-05, momentum=0.1, affine=True, track_running_stats=True)\n",
      "      (relu): ReLU(inplace=True)\n",
      "      (downsample): Sequential(\n",
      "        (0): Conv2d(1024, 2048, kernel_size=(1, 1), stride=(2, 2), bias=False)\n",
      "        (1): BatchNorm2d(2048, eps=1e-05, momentum=0.1, affine=True, track_running_stats=True)\n",
      "      )\n",
      "    )\n",
      "    (1): Bottleneck(\n",
      "      (conv1): Conv2d(2048, 512, kernel_size=(1, 1), stride=(1, 1), bias=False)\n",
      "      (bn1): BatchNorm2d(512, eps=1e-05, momentum=0.1, affine=True, track_running_stats=True)\n",
      "      (conv2): Conv2d(512, 512, kernel_size=(3, 3), stride=(1, 1), padding=(1, 1), bias=False)\n",
      "      (bn2): BatchNorm2d(512, eps=1e-05, momentum=0.1, affine=True, track_running_stats=True)\n",
      "      (conv3): Conv2d(512, 2048, kernel_size=(1, 1), stride=(1, 1), bias=False)\n",
      "      (bn3): BatchNorm2d(2048, eps=1e-05, momentum=0.1, affine=True, track_running_stats=True)\n",
      "      (relu): ReLU(inplace=True)\n",
      "    )\n",
      "    (2): Bottleneck(\n",
      "      (conv1): Conv2d(2048, 512, kernel_size=(1, 1), stride=(1, 1), bias=False)\n",
      "      (bn1): BatchNorm2d(512, eps=1e-05, momentum=0.1, affine=True, track_running_stats=True)\n",
      "      (conv2): Conv2d(512, 512, kernel_size=(3, 3), stride=(1, 1), padding=(1, 1), bias=False)\n",
      "      (bn2): BatchNorm2d(512, eps=1e-05, momentum=0.1, affine=True, track_running_stats=True)\n",
      "      (conv3): Conv2d(512, 2048, kernel_size=(1, 1), stride=(1, 1), bias=False)\n",
      "      (bn3): BatchNorm2d(2048, eps=1e-05, momentum=0.1, affine=True, track_running_stats=True)\n",
      "      (relu): ReLU(inplace=True)\n",
      "    )\n",
      "  )\n",
      "  (avgpool): AdaptiveAvgPool2d(output_size=(1, 1))\n",
      "  (fc): Linear(in_features=2048, out_features=4, bias=True)\n",
      ")\n"
     ]
    }
   ],
   "source": [
    "print(model_ft)"
   ]
  },
  {
   "cell_type": "markdown",
   "metadata": {
    "id": "YZ1QaOGH3bdz"
   },
   "source": [
    "# XAI Methods - Captum\n"
   ]
  },
  {
   "cell_type": "markdown",
   "metadata": {
    "id": "XCLW6ZH-N6Dc"
   },
   "source": [
    "https://captum.ai/tutorials/"
   ]
  },
  {
   "cell_type": "code",
   "execution_count": 93,
   "metadata": {
    "id": "1uQoy73Gcim_"
   },
   "outputs": [],
   "source": [
    "method=\"blended_heat_map\"#\"heat_map\" #\"blended_heat_map\"\n",
    "#method='heat_map'\n",
    "sign=\"positive\" #positive\n",
    "alpha_overlay = 0.6\n",
    "default_cmap = LinearSegmentedColormap.from_list('custom green', \n",
    "                                                 [(0, '#39422c'),\n",
    "                                                  (1, '#8df505')], N=5)"
   ]
  },
  {
   "cell_type": "code",
   "execution_count": 34,
   "metadata": {
    "id": "ewcb_tu66Rn6"
   },
   "outputs": [],
   "source": [
    "def show_image(image, prediction):\n",
    "    \"\"\"Show image with landmarks\"\"\"\n",
    "    plt.imshow(image)\n",
    "    plt.title(prediction)\n",
    "    plt.pause(0.001)  # pause a bit so that plots are updated"
   ]
  },
  {
   "cell_type": "code",
   "execution_count": 35,
   "metadata": {
    "id": "mr0tyVllI4O0"
   },
   "outputs": [],
   "source": [
    "from skimage import io, transform\n",
    "from PIL import Image\n",
    "\n",
    "eval_transform = transforms.Compose([\n",
    "        transforms.Resize((200, 200)),\n",
    "        #transforms.CenterCrop(224),\n",
    "        transforms.ToTensor()\n",
    "    ])\n",
    "\n",
    "def transform_eval_data(img_path, eval_transform = None):\n",
    "  image = Image.open(img_path).convert('RGB')\n",
    "  \n",
    "  if eval_transform:\n",
    "      image = eval_transform(image)\n",
    "  image = image.float()\n",
    "  return image\n",
    "        "
   ]
  },
  {
   "cell_type": "code",
   "execution_count": null,
   "metadata": {
    "id": "l5UiZGue31i9"
   },
   "outputs": [],
   "source": [
    "## HELPER METHODS"
   ]
  },
  {
   "cell_type": "markdown",
   "metadata": {
    "id": "4DdF1Y_Q333E"
   },
   "source": [
    "## HELPER METHODS\n"
   ]
  },
  {
   "cell_type": "code",
   "execution_count": 80,
   "metadata": {
    "id": "-qCAII8h4VD-"
   },
   "outputs": [],
   "source": [
    "from numpy import ndarray\n",
    "from typing import Any, Iterable, List, Optional, Tuple, Union\n",
    "from matplotlib.figure import Figure\n",
    "from matplotlib.pyplot import axis, figure\n",
    "from mpl_toolkits.axes_grid1 import make_axes_locatable\n",
    "from enum import Enum\n",
    "import warnings\n",
    "\n",
    "class VisualizeSign(Enum):\n",
    "    positive = 1\n",
    "    absolute_value = 2\n",
    "    negative = 3\n",
    "    all = 4\n",
    "\n",
    "class ImageVisualizationMethod(Enum):\n",
    "    heat_map = 1\n",
    "    blended_heat_map = 2\n",
    "    original_image = 3\n",
    "    masked_image = 4\n",
    "    alpha_scaling = 5"
   ]
  },
  {
   "cell_type": "code",
   "execution_count": 81,
   "metadata": {
    "id": "YkMRx2rr4u5U"
   },
   "outputs": [],
   "source": [
    "def _normalize_scale(attr: ndarray, scale_factor: float):\n",
    "    assert scale_factor != 0, \"Cannot normalize by scale factor = 0\"\n",
    "    if abs(scale_factor) < 1e-5:\n",
    "        warnings.warn(\n",
    "            \"Attempting to normalize by value approximately 0, visualized results\"\n",
    "            \"may be misleading. This likely means that attribution values are all\"\n",
    "            \"close to 0.\"\n",
    "        )\n",
    "    attr_norm = attr / scale_factor\n",
    "    return np.clip(attr_norm, -1, 1)"
   ]
  },
  {
   "cell_type": "code",
   "execution_count": 82,
   "metadata": {
    "id": "6OJpM2OL4QvL"
   },
   "outputs": [],
   "source": [
    "def _cumulative_sum_threshold(values: ndarray, percentile: Union[int, float]):\n",
    "    # given values should be non-negative\n",
    "    assert percentile >= 0 and percentile <= 100, (\n",
    "        \"Percentile for thresholding must be \" \"between 0 and 100 inclusive.\"\n",
    "    )\n",
    "    sorted_vals = np.sort(values.flatten())\n",
    "    cum_sums = np.cumsum(sorted_vals)\n",
    "    threshold_id = np.where(cum_sums >= cum_sums[-1] * 0.01 * percentile)[0][0]\n",
    "    return sorted_vals[threshold_id]"
   ]
  },
  {
   "cell_type": "code",
   "execution_count": 83,
   "metadata": {
    "id": "kxnhoJb548ML"
   },
   "outputs": [],
   "source": [
    "def _prepare_image(attr_visual: ndarray):\n",
    "    return np.clip(attr_visual.astype(int), 0, 255)"
   ]
  },
  {
   "cell_type": "code",
   "execution_count": 84,
   "metadata": {
    "id": "kZWfzcaR36Ml"
   },
   "outputs": [],
   "source": [
    "def _normalize_attr(\n",
    "    attr: ndarray,\n",
    "    sign: str,\n",
    "    outlier_perc: Union[int, float] = 2,\n",
    "    reduction_axis: Optional[int] = None,\n",
    "):\n",
    "    attr_combined = attr\n",
    "    if reduction_axis is not None:\n",
    "        attr_combined = np.sum(attr, axis=reduction_axis)\n",
    "\n",
    "    # Choose appropriate signed values and rescale, removing given outlier percentage.\n",
    "    if VisualizeSign[sign] == VisualizeSign.all:\n",
    "        threshold = _cumulative_sum_threshold(np.abs(attr_combined), 100 - outlier_perc)\n",
    "    elif VisualizeSign[sign] == VisualizeSign.positive:\n",
    "        attr_combined = (attr_combined > 0) * attr_combined\n",
    "        threshold = _cumulative_sum_threshold(attr_combined, 100 - outlier_perc)\n",
    "    elif VisualizeSign[sign] == VisualizeSign.negative:\n",
    "        attr_combined = (attr_combined < 0) * attr_combined\n",
    "        threshold = -1 * _cumulative_sum_threshold(\n",
    "            np.abs(attr_combined), 100 - outlier_perc\n",
    "        )\n",
    "    elif VisualizeSign[sign] == VisualizeSign.absolute_value:\n",
    "        attr_combined = np.abs(attr_combined)\n",
    "        threshold = _cumulative_sum_threshold(attr_combined, 100 - outlier_perc)\n",
    "    else:\n",
    "        raise AssertionError(\"Visualize Sign type is not valid.\")\n",
    "    return _normalize_scale(attr_combined, threshold)"
   ]
  },
  {
   "cell_type": "code",
   "execution_count": 95,
   "metadata": {
    "id": "v0AphLgO37v6"
   },
   "outputs": [],
   "source": [
    "def visualize_image_attr(\n",
    "    attr: ndarray,\n",
    "    original_image: Union[None, ndarray] = None,\n",
    "    method: str = \"heat_map\",\n",
    "    sign: str = \"absolute_value\",\n",
    "    plt_fig_axis: Union[None, Tuple[figure, axis]] = None,\n",
    "    outlier_perc: Union[int, float] = 2,\n",
    "    cmap: Union[None, str] = None,\n",
    "    alpha_overlay: float = 0.5,\n",
    "    show_colorbar: bool = False,\n",
    "    title: Union[None, str] = None,\n",
    "    fig_size: Tuple[int, int] = (6, 6),\n",
    "    use_pyplot: bool = True,\n",
    "):\n",
    "    r\"\"\"\n",
    "    Visualizes attribution for a given image by normalizing attribution values\n",
    "    of the desired sign (positive, negative, absolute value, or all) and displaying\n",
    "    them using the desired mode in a matplotlib figure.\n",
    "    Args:\n",
    "        attr (numpy.ndarray): Numpy array corresponding to attributions to be\n",
    "                    visualized. Shape must be in the form (H, W, C), with\n",
    "                    channels as last dimension. Shape must also match that of\n",
    "                    the original image if provided.\n",
    "        original_image (numpy.ndarray, optional): Numpy array corresponding to\n",
    "                    original image. Shape must be in the form (H, W, C), with\n",
    "                    channels as the last dimension. Image can be provided either\n",
    "                    with float values in range 0-1 or int values between 0-255.\n",
    "                    This is a necessary argument for any visualization method\n",
    "                    which utilizes the original image.\n",
    "                    Default: None\n",
    "        method (str, optional): Chosen method for visualizing attribution.\n",
    "                    Supported options are:\n",
    "                    1. `heat_map` - Display heat map of chosen attributions\n",
    "                    2. `blended_heat_map` - Overlay heat map over greyscale\n",
    "                       version of original image. Parameter alpha_overlay\n",
    "                       corresponds to alpha of heat map.\n",
    "                    3. `original_image` - Only display original image.\n",
    "                    4. `masked_image` - Mask image (pixel-wise multiply)\n",
    "                       by normalized attribution values.\n",
    "                    5. `alpha_scaling` - Sets alpha channel of each pixel\n",
    "                       to be equal to normalized attribution value.\n",
    "                    Default: `heat_map`\n",
    "        sign (str, optional): Chosen sign of attributions to visualize. Supported\n",
    "                    options are:\n",
    "                    1. `positive` - Displays only positive pixel attributions.\n",
    "                    2. `absolute_value` - Displays absolute value of\n",
    "                       attributions.\n",
    "                    3. `negative` - Displays only negative pixel attributions.\n",
    "                    4. `all` - Displays both positive and negative attribution\n",
    "                       values. This is not supported for `masked_image` or\n",
    "                       `alpha_scaling` modes, since signed information cannot\n",
    "                       be represented in these modes.\n",
    "                    Default: `absolute_value`\n",
    "        plt_fig_axis (tuple, optional): Tuple of matplotlib.pyplot.figure and axis\n",
    "                    on which to visualize. If None is provided, then a new figure\n",
    "                    and axis are created.\n",
    "                    Default: None\n",
    "        outlier_perc (float or int, optional): Top attribution values which\n",
    "                    correspond to a total of outlier_perc percentage of the\n",
    "                    total attribution are set to 1 and scaling is performed\n",
    "                    using the minimum of these values. For sign=`all`, outliers\n",
    "                    and scale value are computed using absolute value of\n",
    "                    attributions.\n",
    "                    Default: 2\n",
    "        cmap (str, optional): String corresponding to desired colormap for\n",
    "                    heatmap visualization. This defaults to \"Reds\" for negative\n",
    "                    sign, \"Blues\" for absolute value, \"Greens\" for positive sign,\n",
    "                    and a spectrum from red to green for all. Note that this\n",
    "                    argument is only used for visualizations displaying heatmaps.\n",
    "                    Default: None\n",
    "        alpha_overlay (float, optional): Alpha to set for heatmap when using\n",
    "                    `blended_heat_map` visualization mode, which overlays the\n",
    "                    heat map over the greyscaled original image.\n",
    "                    Default: 0.5\n",
    "        show_colorbar (bool, optional): Displays colorbar for heatmap below\n",
    "                    the visualization. If given method does not use a heatmap,\n",
    "                    then a colormap axis is created and hidden. This is\n",
    "                    necessary for appropriate alignment when visualizing\n",
    "                    multiple plots, some with colorbars and some without.\n",
    "                    Default: False\n",
    "        title (str, optional): Title string for plot. If None, no title is\n",
    "                    set.\n",
    "                    Default: None\n",
    "        fig_size (tuple, optional): Size of figure created.\n",
    "                    Default: (6,6)\n",
    "        use_pyplot (bool, optional): If true, uses pyplot to create and show\n",
    "                    figure and displays the figure after creating. If False,\n",
    "                    uses Matplotlib object oriented API and simply returns a\n",
    "                    figure object without showing.\n",
    "                    Default: True.\n",
    "    Returns:\n",
    "        2-element tuple of **figure**, **axis**:\n",
    "        - **figure** (*matplotlib.pyplot.figure*):\n",
    "                    Figure object on which visualization\n",
    "                    is created. If plt_fig_axis argument is given, this is the\n",
    "                    same figure provided.\n",
    "        - **axis** (*matplotlib.pyplot.axis*):\n",
    "                    Axis object on which visualization\n",
    "                    is created. If plt_fig_axis argument is given, this is the\n",
    "                    same axis provided.\n",
    "    Examples::\n",
    "        >>> # ImageClassifier takes a single input tensor of images Nx3x32x32,\n",
    "        >>> # and returns an Nx10 tensor of class probabilities.\n",
    "        >>> net = ImageClassifier()\n",
    "        >>> ig = IntegratedGradients(net)\n",
    "        >>> # Computes integrated gradients for class 3 for a given image .\n",
    "        >>> attribution, delta = ig.attribute(orig_image, target=3)\n",
    "        >>> # Displays blended heat map visualization of computed attributions.\n",
    "        >>> _ = visualize_image_attr(attribution, orig_image, \"blended_heat_map\")\n",
    "    \"\"\"\n",
    "    # Create plot if figure, axis not provided\n",
    "    if plt_fig_axis is not None:\n",
    "        plt_fig, plt_axis = plt_fig_axis\n",
    "    else:\n",
    "        if use_pyplot:\n",
    "            plt_fig, plt_axis = plt.subplots(figsize=fig_size)\n",
    "        else:\n",
    "            plt_fig = Figure(figsize=fig_size)\n",
    "            plt_axis = plt_fig.subplots()\n",
    "\n",
    "    if original_image is not None:\n",
    "        if np.max(original_image) <= 1.0:\n",
    "            original_image = _prepare_image(original_image * 255)\n",
    "    elif ImageVisualizationMethod[method] != ImageVisualizationMethod.heat_map:\n",
    "        raise ValueError(\n",
    "            \"Original Image must be provided for\"\n",
    "            \"any visualization other than heatmap.\"\n",
    "        )\n",
    "\n",
    "    # Remove ticks and tick labels from plot.\n",
    "    plt_axis.xaxis.set_ticks_position(\"none\")\n",
    "    plt_axis.yaxis.set_ticks_position(\"none\")\n",
    "    plt_axis.set_yticklabels([])\n",
    "    plt_axis.set_xticklabels([])\n",
    "    # plt_axis.grid(b=False)\n",
    "    plt_axis.grid(visible=False)\n",
    "\n",
    "    heat_map = None\n",
    "    # Show original image\n",
    "    if ImageVisualizationMethod[method] == ImageVisualizationMethod.original_image:\n",
    "        assert (\n",
    "            original_image is not None\n",
    "        ), \"Original image expected for original_image method.\"\n",
    "        if len(original_image.shape) > 2 and original_image.shape[2] == 1:\n",
    "            original_image = np.squeeze(original_image, axis=2)\n",
    "        plt_axis.imshow(original_image)\n",
    "    else:\n",
    "        # Choose appropriate signed attributions and normalize.\n",
    "        norm_attr = _normalize_attr(attr, sign, outlier_perc, reduction_axis=2)\n",
    "\n",
    "        # Set default colormap and bounds based on sign.\n",
    "        if VisualizeSign[sign] == VisualizeSign.all:\n",
    "            default_cmap = LinearSegmentedColormap.from_list(\n",
    "                \"RdWhGn\", [\"red\", \"white\", \"green\"]\n",
    "            )\n",
    "            vmin, vmax = -1, 1\n",
    "        elif VisualizeSign[sign] == VisualizeSign.positive:\n",
    "            default_cmap = \"Greens\"\n",
    "            vmin, vmax = 0, 1\n",
    "        elif VisualizeSign[sign] == VisualizeSign.negative:\n",
    "            default_cmap = \"Reds\"\n",
    "            vmin, vmax = 0, 1\n",
    "        elif VisualizeSign[sign] == VisualizeSign.absolute_value:\n",
    "            default_cmap = \"Blues\"\n",
    "            vmin, vmax = 0, 1\n",
    "        else:\n",
    "            raise AssertionError(\"Visualize Sign type is not valid.\")\n",
    "        cmap = cmap if cmap is not None else default_cmap\n",
    "\n",
    "        # Show appropriate image visualization.\n",
    "        if ImageVisualizationMethod[method] == ImageVisualizationMethod.heat_map:\n",
    "            heat_map = plt_axis.imshow(norm_attr, cmap=cmap, vmin=vmin, vmax=vmax)\n",
    "        elif (\n",
    "            ImageVisualizationMethod[method]\n",
    "            == ImageVisualizationMethod.blended_heat_map\n",
    "        ):\n",
    "            assert (\n",
    "                original_image is not None\n",
    "            ), \"Original Image expected for blended_heat_map method.\"\n",
    "            plt_axis.imshow(np.mean(original_image, axis=2), cmap=\"gray\")\n",
    "            heat_map = plt_axis.imshow(\n",
    "                norm_attr, cmap=cmap, vmin=vmin, vmax=vmax, alpha=alpha_overlay\n",
    "            )\n",
    "        elif ImageVisualizationMethod[method] == ImageVisualizationMethod.masked_image:\n",
    "            assert VisualizeSign[sign] != VisualizeSign.all, (\n",
    "                \"Cannot display masked image with both positive and negative \"\n",
    "                \"attributions, choose a different sign option.\"\n",
    "            )\n",
    "            plt_axis.imshow(\n",
    "                _prepare_image(original_image * np.expand_dims(norm_attr, 2))\n",
    "            )\n",
    "        elif ImageVisualizationMethod[method] == ImageVisualizationMethod.alpha_scaling:\n",
    "            assert VisualizeSign[sign] != VisualizeSign.all, (\n",
    "                \"Cannot display alpha scaling with both positive and negative \"\n",
    "                \"attributions, choose a different sign option.\"\n",
    "            )\n",
    "            plt_axis.imshow(\n",
    "                np.concatenate(\n",
    "                    [\n",
    "                        original_image,\n",
    "                        _prepare_image(np.expand_dims(norm_attr, 2) * 255),\n",
    "                    ],\n",
    "                    axis=2,\n",
    "                )\n",
    "            )\n",
    "        else:\n",
    "            raise AssertionError(\"Visualize Method type is not valid.\")\n",
    "\n",
    "    # Add colorbar. If given method is not a heatmap and no colormap is relevant,\n",
    "    # then a colormap axis is created and hidden. This is necessary for appropriate\n",
    "    # alignment when visualizing multiple plots, some with heatmaps and some\n",
    "    # without.\n",
    "    if show_colorbar:\n",
    "        axis_separator = make_axes_locatable(plt_axis)\n",
    "        colorbar_axis = axis_separator.append_axes(\"bottom\", size=\"5%\", pad=0.1)\n",
    "        if heat_map:\n",
    "            plt_fig.colorbar(heat_map, orientation=\"horizontal\", cax=colorbar_axis)\n",
    "        else:\n",
    "            colorbar_axis.axis(\"off\")\n",
    "    if title:\n",
    "        plt_axis.set_title(title)\n",
    "\n",
    "    if use_pyplot:\n",
    "        plt.show()\n",
    "\n",
    "    return plt_fig, plt_axis "
   ]
  },
  {
   "cell_type": "markdown",
   "metadata": {
    "id": "c9FU5ICsACJX"
   },
   "source": [
    "## XAI METHODS separated in Functions to be called!"
   ]
  },
  {
   "cell_type": "code",
   "execution_count": 97,
   "metadata": {
    "id": "9brXL4IfFVbi"
   },
   "outputs": [],
   "source": [
    "def calculate_occlusion(experiment_model, target_label, input_img, top_candidates, top_probs, img_index, save_path=\"\", save=False):\n",
    "\n",
    "  experiment_model = experiment_model.to(device)\n",
    "  input_img = input_img.to(device)\n",
    "\n",
    "  #experiment_model.zero_grad()\n",
    "\n",
    "  occlusion = Occlusion(experiment_model)\n",
    "  \n",
    "  # Usual\n",
    "  attributions = occlusion.attribute(input_img,\n",
    "                                    strides = (3, 25, 25),\n",
    "                                    sliding_window_shapes=(3,50, 50),\n",
    "                                    target=target_label,\n",
    "                                    baselines = 0)\n",
    "\n",
    "  # Remove the fake batch dimension\n",
    "  input_img = input_img.squeeze()\n",
    "\n",
    "  result = visualize_image_attr(attributions[0].cpu().permute(1,2,0).detach().numpy(),\n",
    "                              input_img.cpu().permute(1,2,0).detach().numpy(), \n",
    "                              #cmap=default_cmap,\n",
    "                              alpha_overlay=alpha_overlay,\n",
    "                              method=method,\n",
    "                              sign=sign,\n",
    "                              fig_size=(5,5))\n",
    "  \n",
    "  # Usually you would just use this. However, there is a bug (at least on my end)\n",
    "  # regarding the grid. So I have just copied the code from CAPTUMs repository (the parts that are necessary)\n",
    "  # reimplementing a bit, and changing the part of the code with the problem\n",
    "\n",
    "  # result = viz.visualize_image_attr(attributions[0].cpu().permute(1,2,0).detach().numpy(),\n",
    "  #                             input_img.cpu().permute(1,2,0).detach().numpy(), \n",
    "  #                             #cmap=default_cmap,\n",
    "  #                             alpha_overlay=alpha_overlay,\n",
    "  #                             method=method,\n",
    "  #                             sign=sign,\n",
    "  #                             fig_size=(5,5))\n",
    "  \n",
    "  print(target_label, idx_to_label(top_candidates[0]), np.round(top_probs[0].item(),2))\n",
    "  if save:\n",
    "    n=str(img_index + 1)\n",
    "    result[0].savefig(save_path+'Bild'+n+ '_' + str(idx_to_label(target_label)) + '_Occ.PNG',bbox_inches='tight', pad_inches = 0)"
   ]
  },
  {
   "cell_type": "code",
   "execution_count": 61,
   "metadata": {
    "id": "e6-fzCbsWSAD"
   },
   "outputs": [],
   "source": [
    "def eval_model(experiment_set, test_model, print_eval=False):\n",
    "  since = time.time()\n",
    "  test_model.eval()   # Set model to evaluate mode\n",
    "\n",
    "  for experiment_sample in experiment_set:\n",
    "    torch.set_printoptions(sci_mode=False)\n",
    "\n",
    "    with torch.no_grad():\n",
    "      input = experiment_sample\n",
    "      input = torch.unsqueeze(input, 0)\n",
    "      input = input.to(device)\n",
    "      #print(input.shape)\n",
    "      output = test_model(input)\n",
    "      _, pred = torch.max(output, 1)\n",
    "\n",
    "      input= input.cpu().squeeze()\n",
    "      smax = F.softmax(output,dim=1)\n",
    "      print(\"prediction: \", pred, \", label: \", idx_to_label(pred))\n",
    "\n",
    "      if print_eval:\n",
    "        show_image(input.permute(1,2,0), idx_to_label(pred))\n",
    "        print(smax)\n",
    "        print(\"---------\")\n",
    "\n",
    "def get_all_files(experiment_path):\n",
    "  loaded_files = []\n",
    "  for f in sorted(os.listdir(experiment_path)):\n",
    "    if f.endswith('.PNG') or f.endswith('.png'):\n",
    "      loaded_files.append(f)\n",
    "  #print(loaded_files)\n",
    "  return loaded_files\n",
    "\n",
    "def load_experiment_data(experiment_path, test_model, plot_data=False, evaluate_model=False, print_evaluation=False):\n",
    "  experiment_set = []\n",
    "  eval_dir = get_all_files(experiment_path)\n",
    "  eval_size = len(eval_dir)\n",
    "  for i in range(eval_size):\n",
    "    experiment_set.append(transform_eval_data(experiment_path + eval_dir[i]\n",
    "                                      ,eval_transform))\n",
    "  \n",
    "  if plot_data:\n",
    "    figure = plt.figure(figsize=(8, 8))\n",
    "    cols, rows = 3, 3\n",
    "    for i in range(1, cols * rows + 1):\n",
    "        #sample_idx = torch.randint(len(shapes_dataset), size=(1,)).item() # Get rnd_id\n",
    "        img = experiment_set[i-1] # index dataset (gets you the img and label - index)\n",
    "        figure.add_subplot(rows, cols, i)\n",
    "        plt.title(img.shape)\n",
    "        plt.axis(\"off\")\n",
    "    #    plt.imshow(img.squeeze(), cmap=\"gray\") # if the image is grayscale\n",
    "        plt.imshow(img.permute(1,2,0)) # put channel as the last dimension\n",
    "    plt.show()\n",
    "  \n",
    "  if evaluate_model:\n",
    "    eval_model(experiment_set, test_model, print_evaluation)\n",
    "\n",
    "  return experiment_set"
   ]
  },
  {
   "cell_type": "code",
   "execution_count": 62,
   "metadata": {
    "id": "lEiMiIwD7PtN"
   },
   "outputs": [],
   "source": [
    "import pandas as pd\n",
    "\n",
    "def process_input(input_img, experiment_model, debug=False):\n",
    "  input_img = input_img.to(device)\n",
    "  output = experiment_model(input_img)\n",
    "  probabilities = F.softmax(output[0], dim=0)\n",
    "  top_prob, top_catid = torch.topk(probabilities, num_classes)\n",
    "  jsonData={}\n",
    "  for i in range(top_prob.size(0)):\n",
    "      prediction={}\n",
    "      prob=top_prob[i].item()\n",
    "      prediction[\"probability\"] = np.round(top_prob[i].item(),9)\n",
    "      prediction[\"label\"] = idx_to_label(top_catid[i])\n",
    "      prediction[\"labelid\"] = top_catid[i].item()\n",
    "      jsonData[i]=prediction\n",
    "  ###\n",
    "  #LH:label= top5_catid[0].item()\n",
    "  #label= top_catid[0].item()\n",
    "  if debug:\n",
    "    #print(label,jsonData)\n",
    "    print(jsonData)\n",
    "\n",
    "  #output = model(input_img)\n",
    "  #output = F.softmax(output, dim=1)\n",
    "  #prediction_score, pred_label_idx = torch.topk(output, 1)\n",
    "  #pred_label_idx.squeeze_()\n",
    "  #predicted_label = idx_to_labels[str(pred_label_idx.item())][1]\n",
    "  #print('Predicted:', predicted_label, '(', prediction_score.squeeze().item(), ')')\n",
    "\n",
    "  return top_catid, top_prob, jsonData"
   ]
  },
  {
   "cell_type": "code",
   "execution_count": 63,
   "metadata": {
    "id": "_dpfLJCvWbtZ"
   },
   "outputs": [],
   "source": [
    "import json\n",
    "\n",
    "def run_experiment_shapes(experiment_model, experiment_path, experiment_name, save_path=\"\", label_id=0, index=-1, save=False, debug=False):\n",
    "  print(experiment_name)\n",
    "  experiment_set = load_experiment_data(experiment_path,  experiment_model, plot_data=False, evaluate_model = False, print_evaluation=False)\n",
    "  print(\"------------------\")\n",
    "  path_to_save = save_path + experiment_name.replace(\" \", \"\") + \"/\"\n",
    "  print(\"Save Path: \", path_to_save)\n",
    "\n",
    "  if not os.path.exists(path_to_save):\n",
    "    print(\"this happens\")\n",
    "    os.makedirs(path_to_save)\n",
    "\n",
    "  json_data = {}\n",
    "\n",
    "  if index == -1: # Iterate all the experiment set! else only the specific index is \n",
    "    for idx, experiment_sample in enumerate(experiment_set):\n",
    "      ignore_indices = []\n",
    "      if idx in ignore_indices:\n",
    "        continue\n",
    "\n",
    "      experiment_sample = experiment_sample.unsqueeze(0)\n",
    "      top_candidates, top_probs, jdata = process_input(experiment_sample, experiment_model, debug=debug)\n",
    "      json_data[idx] = jdata\n",
    "      print(\"Selected label: \", top_candidates[label_id] )\n",
    "      print(\"target_label: \", top_candidates[label_id].item())\n",
    "\n",
    "      calculate_occlusion(experiment_model, \n",
    "                              target_label=top_candidates[label_id],\n",
    "                              input_img=experiment_sample,\n",
    "                              top_candidates=top_candidates, top_probs=top_probs,\n",
    "                              img_index=idx, save_path=path_to_save, save=save)\n",
    "\n",
    "\n",
    "  else:\n",
    "      experiment_sample = experiment_set[index]\n",
    "      experiment_sample = experiment_sample.unsqueeze(0)\n",
    "\n",
    "      top_candidates, top_probs = process_input(experiment_sample, experiment_model, debug=debug)\n",
    "      target_label = top_candidates[label_id].item()\n",
    "      print(\"Selected label: \", top_candidates[label_id] )\n",
    "      print(\"target_label: \", top_candidates[label_id].item())\n",
    "\n",
    "      calculate_occlusion(experiment_model, \n",
    "                              target_label=target_label,\n",
    "                              input_img=experiment_sample,\n",
    "                              top_candidates=top_candidates, top_probs=top_probs,\n",
    "                              img_index=index, save_path=path_to_save, save=save)\n",
    "      \n",
    "  save_json = json.dumps(json_data)\n",
    "  with open(path_to_save + 'label_info.json', 'w') as outfile:\n",
    "    outfile.write(save_json)"
   ]
  },
  {
   "cell_type": "markdown",
   "metadata": {
    "id": "IVA57u4-JLqg"
   },
   "source": [
    "## Run the experiments!"
   ]
  },
  {
   "cell_type": "code",
   "execution_count": 98,
   "metadata": {
    "colab": {
     "base_uri": "https://localhost:8080/",
     "height": 1000
    },
    "id": "_lZTmAjSYakt",
    "outputId": "1ece6a8e-2604-4ade-c3c5-44261afc9e20"
   },
   "outputs": [
    {
     "name": "stdout",
     "output_type": "stream",
     "text": [
      "Set1 no_pret\n",
      "------------------\n",
      "Save Path:  random_pathSet1no_pret/\n",
      "{0: {'probability': 0.984671652, 'label': 'circle', 'labelid': 0}, 1: {'probability': 0.015325804, 'label': 'square', 'labelid': 1}, 2: {'probability': 2.536e-06, 'label': 'triangle', 'labelid': 3}, 3: {'probability': 0.0, 'label': 'star', 'labelid': 2}}\n",
      "Selected label:  tensor(0, device='cuda:0')\n",
      "target_label:  0\n"
     ]
    },
    {
     "data": {
      "image/png": "[encoded data removed]",
      "text/plain": [
       "<Figure size 500x500 with 1 Axes>"
      ]
     },
     "metadata": {},
     "output_type": "display_data"
    },
    {
     "name": "stdout",
     "output_type": "stream",
     "text": [
      "tensor(0, device='cuda:0') circle 0.98\n",
      "{0: {'probability': 0.996528208, 'label': 'square', 'labelid': 1}, 1: {'probability': 0.002891603, 'label': 'triangle', 'labelid': 3}, 2: {'probability': 0.000580159, 'label': 'circle', 'labelid': 0}, 3: {'probability': 1e-08, 'label': 'star', 'labelid': 2}}\n",
      "Selected label:  tensor(1, device='cuda:0')\n",
      "target_label:  1\n"
     ]
    },
    {
     "data": {
      "image/png": "[encoded data removed]",
      "text/plain": [
       "<Figure size 500x500 with 1 Axes>"
      ]
     },
     "metadata": {},
     "output_type": "display_data"
    },
    {
     "name": "stdout",
     "output_type": "stream",
     "text": [
      "tensor(1, device='cuda:0') square 1.0\n",
      "{0: {'probability': 0.999198258, 'label': 'star', 'labelid': 2}, 1: {'probability': 0.000801713, 'label': 'triangle', 'labelid': 3}, 2: {'probability': 0.0, 'label': 'square', 'labelid': 1}, 3: {'probability': 0.0, 'label': 'circle', 'labelid': 0}}\n",
      "Selected label:  tensor(2, device='cuda:0')\n",
      "target_label:  2\n"
     ]
    },
    {
     "data": {
      "image/png": "[encoded data removed]",
      "text/plain": [
       "<Figure size 500x500 with 1 Axes>"
      ]
     },
     "metadata": {},
     "output_type": "display_data"
    },
    {
     "name": "stdout",
     "output_type": "stream",
     "text": [
      "tensor(2, device='cuda:0') star 1.0\n",
      "{0: {'probability': 0.99672395, 'label': 'triangle', 'labelid': 3}, 1: {'probability': 0.001739522, 'label': 'square', 'labelid': 1}, 2: {'probability': 0.001536595, 'label': 'star', 'labelid': 2}, 3: {'probability': 0.0, 'label': 'circle', 'labelid': 0}}\n",
      "Selected label:  tensor(3, device='cuda:0')\n",
      "target_label:  3\n"
     ]
    },
    {
     "data": {
      "image/png": "[encoded data removed]",
      "text/plain": [
       "<Figure size 500x500 with 1 Axes>"
      ]
     },
     "metadata": {},
     "output_type": "display_data"
    },
    {
     "name": "stdout",
     "output_type": "stream",
     "text": [
      "tensor(3, device='cuda:0') triangle 1.0\n",
      "{0: {'probability': 0.994542718, 'label': 'circle', 'labelid': 0}, 1: {'probability': 0.005455879, 'label': 'square', 'labelid': 1}, 2: {'probability': 1.407e-06, 'label': 'triangle', 'labelid': 3}, 3: {'probability': 0.0, 'label': 'star', 'labelid': 2}}\n",
      "Selected label:  tensor(0, device='cuda:0')\n",
      "target_label:  0\n"
     ]
    },
    {
     "data": {
      "image/png": "[encoded data removed]",
      "text/plain": [
       "<Figure size 500x500 with 1 Axes>"
      ]
     },
     "metadata": {},
     "output_type": "display_data"
    },
    {
     "name": "stdout",
     "output_type": "stream",
     "text": [
      "tensor(0, device='cuda:0') circle 0.99\n",
      "{0: {'probability': 0.987713575, 'label': 'square', 'labelid': 1}, 1: {'probability': 0.009789351, 'label': 'triangle', 'labelid': 3}, 2: {'probability': 0.002496917, 'label': 'circle', 'labelid': 0}, 3: {'probability': 4.1e-08, 'label': 'star', 'labelid': 2}}\n",
      "Selected label:  tensor(1, device='cuda:0')\n",
      "target_label:  1\n"
     ]
    },
    {
     "data": {
      "image/png": "[encoded data removed]",
      "text/plain": [
       "<Figure size 500x500 with 1 Axes>"
      ]
     },
     "metadata": {},
     "output_type": "display_data"
    },
    {
     "name": "stdout",
     "output_type": "stream",
     "text": [
      "tensor(1, device='cuda:0') square 0.99\n",
      "{0: {'probability': 0.629782379, 'label': 'star', 'labelid': 2}, 1: {'probability': 0.370217592, 'label': 'triangle', 'labelid': 3}, 2: {'probability': 2e-09, 'label': 'square', 'labelid': 1}, 3: {'probability': 0.0, 'label': 'circle', 'labelid': 0}}\n",
      "Selected label:  tensor(2, device='cuda:0')\n",
      "target_label:  2\n"
     ]
    },
    {
     "data": {
      "image/png": "[encoded data removed]",
      "text/plain": [
       "<Figure size 500x500 with 1 Axes>"
      ]
     },
     "metadata": {},
     "output_type": "display_data"
    },
    {
     "name": "stdout",
     "output_type": "stream",
     "text": [
      "tensor(2, device='cuda:0') star 0.63\n",
      "{0: {'probability': 0.984995425, 'label': 'triangle', 'labelid': 3}, 1: {'probability': 0.014770901, 'label': 'star', 'labelid': 2}, 2: {'probability': 0.000233678, 'label': 'square', 'labelid': 1}, 3: {'probability': 0.0, 'label': 'circle', 'labelid': 0}}\n",
      "Selected label:  tensor(3, device='cuda:0')\n",
      "target_label:  3\n"
     ]
    },
    {
     "data": {
      "image/png": "[encoded data removed]",
      "text/plain": [
       "<Figure size 500x500 with 1 Axes>"
      ]
     },
     "metadata": {},
     "output_type": "display_data"
    },
    {
     "name": "stdout",
     "output_type": "stream",
     "text": [
      "tensor(3, device='cuda:0') triangle 0.98\n",
      "{0: {'probability': 0.994957983, 'label': 'triangle', 'labelid': 3}, 1: {'probability': 0.004862629, 'label': 'square', 'labelid': 1}, 2: {'probability': 0.000179396, 'label': 'star', 'labelid': 2}, 3: {'probability': 6.4e-08, 'label': 'circle', 'labelid': 0}}\n",
      "Selected label:  tensor(3, device='cuda:0')\n",
      "target_label:  3\n"
     ]
    },
    {
     "data": {
      "image/png": "[encoded data removed]",
      "text/plain": [
       "<Figure size 500x500 with 1 Axes>"
      ]
     },
     "metadata": {},
     "output_type": "display_data"
    },
    {
     "name": "stdout",
     "output_type": "stream",
     "text": [
      "tensor(3, device='cuda:0') triangle 0.99\n",
      "Set2 no_pret\n",
      "------------------\n",
      "Save Path:  random_pathSet2no_pret/\n",
      "{0: {'probability': 0.999999523, 'label': 'star', 'labelid': 2}, 1: {'probability': 4.89e-07, 'label': 'triangle', 'labelid': 3}, 2: {'probability': 0.0, 'label': 'square', 'labelid': 1}, 3: {'probability': 0.0, 'label': 'circle', 'labelid': 0}}\n",
      "Selected label:  tensor(2, device='cuda:0')\n",
      "target_label:  2\n"
     ]
    },
    {
     "data": {
      "image/png": "[encoded data removed]",
      "text/plain": [
       "<Figure size 500x500 with 1 Axes>"
      ]
     },
     "metadata": {},
     "output_type": "display_data"
    },
    {
     "name": "stdout",
     "output_type": "stream",
     "text": [
      "tensor(2, device='cuda:0') star 1.0\n",
      "{0: {'probability': 0.999999523, 'label': 'star', 'labelid': 2}, 1: {'probability': 4.85e-07, 'label': 'triangle', 'labelid': 3}, 2: {'probability': 0.0, 'label': 'square', 'labelid': 1}, 3: {'probability': 0.0, 'label': 'circle', 'labelid': 0}}\n",
      "Selected label:  tensor(2, device='cuda:0')\n",
      "target_label:  2\n"
     ]
    },
    {
     "data": {
      "image/png": "[encoded data removed]",
      "text/plain": [
       "<Figure size 500x500 with 1 Axes>"
      ]
     },
     "metadata": {},
     "output_type": "display_data"
    },
    {
     "name": "stdout",
     "output_type": "stream",
     "text": [
      "tensor(2, device='cuda:0') star 1.0\n",
      "{0: {'probability': 0.699350893, 'label': 'square', 'labelid': 1}, 1: {'probability': 0.300454378, 'label': 'circle', 'labelid': 0}, 2: {'probability': 0.000194639, 'label': 'triangle', 'labelid': 3}, 3: {'probability': 0.0, 'label': 'star', 'labelid': 2}}\n",
      "Selected label:  tensor(1, device='cuda:0')\n",
      "target_label:  1\n"
     ]
    },
    {
     "data": {
      "image/png": "[encoded data removed]",
      "text/plain": [
       "<Figure size 500x500 with 1 Axes>"
      ]
     },
     "metadata": {},
     "output_type": "display_data"
    },
    {
     "name": "stdout",
     "output_type": "stream",
     "text": [
      "tensor(1, device='cuda:0') square 0.7\n",
      "{0: {'probability': 1.0, 'label': 'star', 'labelid': 2}, 1: {'probability': 0.0, 'label': 'triangle', 'labelid': 3}, 2: {'probability': 0.0, 'label': 'square', 'labelid': 1}, 3: {'probability': 0.0, 'label': 'circle', 'labelid': 0}}\n",
      "Selected label:  tensor(2, device='cuda:0')\n",
      "target_label:  2\n"
     ]
    },
    {
     "data": {
      "image/png": "[encoded data removed]",
      "text/plain": [
       "<Figure size 500x500 with 1 Axes>"
      ]
     },
     "metadata": {},
     "output_type": "display_data"
    },
    {
     "name": "stdout",
     "output_type": "stream",
     "text": [
      "tensor(2, device='cuda:0') star 1.0\n",
      "{0: {'probability': 0.999984503, 'label': 'star', 'labelid': 2}, 1: {'probability': 1.5542e-05, 'label': 'triangle', 'labelid': 3}, 2: {'probability': 0.0, 'label': 'square', 'labelid': 1}, 3: {'probability': 0.0, 'label': 'circle', 'labelid': 0}}\n",
      "Selected label:  tensor(2, device='cuda:0')\n",
      "target_label:  2\n"
     ]
    },
    {
     "data": {
      "image/png": "[encoded data removed]",
      "text/plain": [
       "<Figure size 500x500 with 1 Axes>"
      ]
     },
     "metadata": {},
     "output_type": "display_data"
    },
    {
     "name": "stdout",
     "output_type": "stream",
     "text": [
      "tensor(2, device='cuda:0') star 1.0\n",
      "{0: {'probability': 0.889199615, 'label': 'star', 'labelid': 2}, 1: {'probability': 0.110800333, 'label': 'triangle', 'labelid': 3}, 2: {'probability': 0.0, 'label': 'square', 'labelid': 1}, 3: {'probability': 0.0, 'label': 'circle', 'labelid': 0}}\n",
      "Selected label:  tensor(2, device='cuda:0')\n",
      "target_label:  2\n"
     ]
    },
    {
     "data": {
      "image/png": "[encoded data removed]",
      "text/plain": [
       "<Figure size 500x500 with 1 Axes>"
      ]
     },
     "metadata": {},
     "output_type": "display_data"
    },
    {
     "name": "stdout",
     "output_type": "stream",
     "text": [
      "tensor(2, device='cuda:0') star 0.89\n",
      "{0: {'probability': 0.993110538, 'label': 'square', 'labelid': 1}, 1: {'probability': 0.004248204, 'label': 'triangle', 'labelid': 3}, 2: {'probability': 0.002641203, 'label': 'circle', 'labelid': 0}, 3: {'probability': 1.9e-08, 'label': 'star', 'labelid': 2}}\n",
      "Selected label:  tensor(1, device='cuda:0')\n",
      "target_label:  1\n"
     ]
    },
    {
     "data": {
      "image/png": "[encoded data removed]",
      "text/plain": [
       "<Figure size 500x500 with 1 Axes>"
      ]
     },
     "metadata": {},
     "output_type": "display_data"
    },
    {
     "name": "stdout",
     "output_type": "stream",
     "text": [
      "tensor(1, device='cuda:0') square 0.99\n",
      "{0: {'probability': 1.0, 'label': 'star', 'labelid': 2}, 1: {'probability': 2.4e-08, 'label': 'triangle', 'labelid': 3}, 2: {'probability': 0.0, 'label': 'square', 'labelid': 1}, 3: {'probability': 0.0, 'label': 'circle', 'labelid': 0}}\n",
      "Selected label:  tensor(2, device='cuda:0')\n",
      "target_label:  2\n"
     ]
    },
    {
     "data": {
      "image/png": "[encoded data removed]",
      "text/plain": [
       "<Figure size 500x500 with 1 Axes>"
      ]
     },
     "metadata": {},
     "output_type": "display_data"
    },
    {
     "name": "stdout",
     "output_type": "stream",
     "text": [
      "tensor(2, device='cuda:0') star 1.0\n",
      "{0: {'probability': 0.990679443, 'label': 'star', 'labelid': 2}, 1: {'probability': 0.009320525, 'label': 'triangle', 'labelid': 3}, 2: {'probability': 0.0, 'label': 'square', 'labelid': 1}, 3: {'probability': 0.0, 'label': 'circle', 'labelid': 0}}\n",
      "Selected label:  tensor(2, device='cuda:0')\n",
      "target_label:  2\n"
     ]
    },
    {
     "data": {
      "image/png": "[encoded data removed]",
      "text/plain": [
       "<Figure size 500x500 with 1 Axes>"
      ]
     },
     "metadata": {},
     "output_type": "display_data"
    },
    {
     "name": "stdout",
     "output_type": "stream",
     "text": [
      "tensor(2, device='cuda:0') star 0.99\n"
     ]
    }
   ],
   "source": [
    "XAI_save_path=\"random_path\"\n",
    "run_experiment_shapes(model_ft, \"/content/data/captum-shape-testset/set1/\", \"Set1 no_pret\", XAI_save_path, 0, -1, False, True)\n",
    "run_experiment_shapes(model_ft, \"/content/data/captum-shape-testset/set2/\", \"Set2 no_pret\", XAI_save_path, 0, -1, False, True)"
   ]
  }
 ],
 "metadata": {
  "accelerator": "GPU",
  "colab": {
   "collapsed_sections": [
    "xIucFEhPyynQ"
   ],
   "include_colab_link": true,
   "name": "5-Captum_example.ipynb",
   "provenance": []
  },
  "kernelspec": {
   "display_name": "Python 3",
   "name": "python3"
  },
  "language_info": {
   "name": "python"
  }
 },
 "nbformat": 4,
 "nbformat_minor": 0
}

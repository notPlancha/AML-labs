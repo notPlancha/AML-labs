{
 "cells": [
  {
   "cell_type": "markdown",
   "metadata": {
    "colab_type": "text",
    "id": "view-in-github"
   },
   "source": [
    "<a href=\"https://colab.research.google.com/github/Azadshokrollahi/Advance-machine-learning/blob/develop/0-basics_intro/4-all-together-colab.ipynb\" target=\"_parent\"><img src=\"https://colab.research.google.com/assets/colab-badge.svg\" alt=\"Open In Colab\"/></a>"
   ]
  },
  {
   "cell_type": "markdown",
   "metadata": {
    "id": "XVjfuG-ns8ep"
   },
   "source": [
    "## Putting it all together............! ##\n",
    "\n",
    "Now that we have a model and data it’s time to train, validate and test our model by optimizing it’s parameters on our data. Training a model is an iterative process; in each iteration (called an epoch) the model makes a guess about the output, calculates the error in its guess (loss), collects the derivatives of the error with respect to its parameters (as we saw in the previous section), and optimizes these parameters using gradient descent."
   ]
  },
  {
   "cell_type": "code",
   "execution_count": null,
   "metadata": {
    "id": "rBEoGWG7s8er"
   },
   "outputs": [],
   "source": [
    "import torch\n",
    "from torch import nn\n",
    "from torch.utils.data import DataLoader\n",
    "from torchvision import datasets\n",
    "from torchvision.transforms import ToTensor, Lambda\n",
    "\n"
   ]
  },
  {
   "cell_type": "code",
   "execution_count": null,
   "metadata": {
    "colab": {
     "base_uri": "https://localhost:8080/"
    },
    "id": "O_OWQ6v-tAJJ",
    "outputId": "70187528-7d8b-4fff-d0e8-84c3612d2231"
   },
   "outputs": [
    {
     "name": "stdout",
     "output_type": "stream",
     "text": [
      "Mounted at /content/drive\n"
     ]
    }
   ],
   "source": [
    "from google.colab import drive\n",
    "drive.mount('/content/drive')"
   ]
  },
  {
   "cell_type": "code",
   "execution_count": null,
   "metadata": {
    "colab": {
     "base_uri": "https://localhost:8080/"
    },
    "id": "XrsMsoXwsatn",
    "outputId": "2bd28c32-e03d-4b92-a8c2-38fbbf23f998"
   },
   "outputs": [
    {
     "name": "stdout",
     "output_type": "stream",
     "text": [
      "Archive:  /content/drive/MyDrive/Work/PHD/courses-AML/data_aml/FashionMNIST.zip\n",
      "   creating: /content/data/FashionMNIST/\n",
      "  inflating: /content/data/FashionMNIST/.DS_Store  \n",
      "  inflating: /content/data/__MACOSX/FashionMNIST/._.DS_Store  \n",
      "   creating: /content/data/FashionMNIST/processed/\n",
      "   creating: /content/data/FashionMNIST/raw/\n",
      "  inflating: /content/data/FashionMNIST/processed/training.pt  \n",
      "  inflating: /content/data/FashionMNIST/processed/test.pt  \n",
      "  inflating: /content/data/FashionMNIST/raw/t10k-images-idx3-ubyte  \n",
      "  inflating: /content/data/FashionMNIST/raw/t10k-labels-idx1-ubyte  \n",
      "  inflating: /content/data/FashionMNIST/raw/train-images-idx3-ubyte  \n",
      "  inflating: /content/data/FashionMNIST/raw/t10k-images-idx3-ubyte.gz  \n",
      "  inflating: /content/data/FashionMNIST/raw/train-images-idx3-ubyte.gz  \n",
      "  inflating: /content/data/FashionMNIST/raw/train-labels-idx1-ubyte.gz  \n",
      "  inflating: /content/data/FashionMNIST/raw/train-labels-idx1-ubyte  \n",
      "  inflating: /content/data/FashionMNIST/raw/t10k-labels-idx1-ubyte.gz  \n"
     ]
    }
   ],
   "source": [
    "#Change directories to point to your data!\n",
    "data_path = '/content/drive/MyDrive/Work/PHD/courses-AML/data_aml'\n",
    "specfic_path = '/content/drive/MyDrive/Work/PHD/courses-AML/data_aml/FashionMNIST.zip'\n",
    "#!ls \"$root_dir\"\n",
    "root_dir = \"/content/data\"\n",
    "data_dir = root_dir + \"/lm-data/names\"\n",
    "\n",
    "\n",
    "!unzip '/content/drive/MyDrive/Work/PHD/courses-AML/data_aml/FashionMNIST.zip' -d \"$root_dir\""
   ]
  },
  {
   "cell_type": "code",
   "execution_count": null,
   "metadata": {
    "id": "Sp05y8WNs_Xa"
   },
   "outputs": [],
   "source": [
    "#root_dir = '/content/drive/MyDrive/Work/PHD/courses-AML/data'\n",
    "\n",
    "training_data = datasets.FashionMNIST(\n",
    "    root=root_dir,\n",
    "    train=True,\n",
    "    download=True,\n",
    "    transform=ToTensor()\n",
    ")\n",
    "\n",
    "test_data = datasets.FashionMNIST(\n",
    "    root=root_dir,\n",
    "    train=False,\n",
    "    download=True,\n",
    "    transform=ToTensor()\n",
    ")\n",
    "\n",
    "train_dataloader = DataLoader(training_data, batch_size=64)\n",
    "test_dataloader = DataLoader(test_data, batch_size=64)"
   ]
  },
  {
   "cell_type": "code",
   "execution_count": null,
   "metadata": {
    "colab": {
     "base_uri": "https://localhost:8080/"
    },
    "id": "9LiaUfwss8es",
    "outputId": "e2b0c9aa-92e4-459b-d4c5-d8b54cbcaab3"
   },
   "outputs": [
    {
     "name": "stdout",
     "output_type": "stream",
     "text": [
      "cuda\n"
     ]
    }
   ],
   "source": [
    "device = 'cuda' if torch.cuda.is_available() else 'cpu'\n",
    "print(device)"
   ]
  },
  {
   "cell_type": "code",
   "execution_count": null,
   "metadata": {
    "id": "yZdU1n_4s8es"
   },
   "outputs": [],
   "source": [
    "# We define our neural network by subclassing nn.Module, and initialize the neural network layers in __init__.\n",
    "# Every nn.Module subclass implements the operations on input data in the forward method.\n",
    "\n",
    "class NeuralNetwork(nn.Module):\n",
    "    def __init__(self, input_width, input_height, label_dim):\n",
    "        super(NeuralNetwork, self).__init__()\n",
    "        self.flatten = nn.Flatten() # Used to convert the 2D input into 1D (28x28 to 784)\n",
    "        self.linear_relu_stack = nn.Sequential(\n",
    "            nn.Linear(input_width*input_height, 512),\n",
    "            nn.ReLU(),\n",
    "            nn.Linear(512, 512),\n",
    "            nn.ReLU(),\n",
    "            nn.Linear(512, label_dim)\n",
    "        )\n",
    "        self.softmax = nn.Softmax(dim=1)\n",
    "        self.softmax_result = 0\n",
    "\n",
    "    def forward(self, x):\n",
    "        x = self.flatten(x)\n",
    "        logits = self.linear_relu_stack(x)\n",
    "        self.softmax_result = self.softmax(logits)\n",
    "        return logits"
   ]
  },
  {
   "cell_type": "code",
   "execution_count": null,
   "metadata": {
    "id": "a7OcsLFls8es"
   },
   "outputs": [],
   "source": [
    "model = NeuralNetwork(28, 28, 10).to(device)"
   ]
  },
  {
   "cell_type": "markdown",
   "metadata": {
    "id": "JQSHcNRZs8es"
   },
   "source": [
    "### Hyperparameters ###\n",
    "Hyperparameters are adjustable parameters that let you control the model optimization process. Different hyperparameter values can impact model training and convergence rates (read more about hyperparameter tuning)\n",
    "\n",
    "We define the following hyperparameters for training:\n",
    "- __Number of Epochs__ - the number times to iterate over the dataset\n",
    "- __Batch Size__ - the number of data samples seen by the model in each epoch\n",
    "- __Learning Rate__ - how much to update models parameters at each batch/epoch. Smaller values yield slow learning speed, while large values may result in unpredictable behavior during training."
   ]
  },
  {
   "cell_type": "code",
   "execution_count": null,
   "metadata": {
    "id": "YrHlQa7zs8et"
   },
   "outputs": [],
   "source": [
    "learning_rate = 1e-3\n",
    "batch_size = 64\n",
    "epochs = 5\n"
   ]
  },
  {
   "cell_type": "markdown",
   "metadata": {
    "id": "h1fdHy0Rs8et"
   },
   "source": [
    "#### Important to know about different loss functions ####\n",
    "Loss function measures the degree of dissimilarity of obtained result to the target value, and it is the loss function that we want to minimize during training. To calculate the loss we make a prediction using the inputs of our given data sample and compare it against the true data label value.\n",
    "\n",
    "Common loss functions include `nn.MSELoss` (Mean Square Error) for regression tasks, and `nn.NLLLoss` (Negative Log Likelihood) for classification. `nn.CrossEntropyLoss` combines `nn.LogSoftmax` and `nn.NLLLoss`.\n",
    "\n",
    "We pass our model’s output logits to nn.CrossEntropyLoss, which will normalize the logits and compute the prediction error.\n",
    "\n",
    "Check this for more info on the loss functions that exist within Pytorch:\n",
    "https://pytorch.org/docs/stable/nn.html#loss-functions"
   ]
  },
  {
   "cell_type": "code",
   "execution_count": null,
   "metadata": {
    "id": "BPtvB5IJs8eu"
   },
   "outputs": [],
   "source": [
    "# Initialize the loss function\n",
    "loss_fn = nn.CrossEntropyLoss()"
   ]
  },
  {
   "cell_type": "markdown",
   "metadata": {
    "id": "jK7fSiR_s8eu"
   },
   "source": [
    "## Optimizer ##\n",
    "Optimization is the process of adjusting model parameters to reduce model error in each training step. Optimization algorithms define how this process is performed (in this example we use Stochastic Gradient Descent). All optimization logic is encapsulated in the optimizer object. Here, we use the SGD optimizer; additionally, there are many different optimizers available in PyTorch such as ADAM and RMSProp, that work better for different kinds of models and data. (https://pytorch.org/docs/stable/optim.html)\n",
    "\n",
    "We initialize the optimizer by registering the model’s parameters that need to be trained, and passing in the learning rate hyperparameter."
   ]
  },
  {
   "cell_type": "code",
   "execution_count": null,
   "metadata": {
    "id": "n-2uPIozs8ev"
   },
   "outputs": [],
   "source": [
    "optimizer = torch.optim.SGD(model.parameters(), lr=learning_rate)\n",
    "#optimizer = torch.optim.Adam(modelmodel_cnn.parameters(), lr=learning_rate)"
   ]
  },
  {
   "cell_type": "markdown",
   "metadata": {
    "id": "JaeBTrHas8ev"
   },
   "source": [
    "Once we set our hyperparameters, we can then train and optimize our model with an optimization loop. Each iteration of the optimization loop is called an epoch.\n",
    "\n",
    "Each epoch consists of two main parts:\n",
    "- The Train Loop - iterate over the training dataset and try to converge to optimal parameters.\n",
    "- The Validation/Test Loop - iterate over the test dataset to check if model performance is improving.\n",
    "\n",
    "Inside the training loop, optimization happens in three steps:\n",
    "\n",
    "- Call optimizer.zero_grad() to reset the gradients of model parameters. Gradients by default add up; to prevent double-counting, we explicitly zero them at each iteration.\n",
    "- Backpropagate the prediction loss with a call to loss.backwards(). PyTorch deposits the gradients of the loss w.r.t. each parameter.\n",
    "- Once we have our gradients, we call optimizer.step() to adjust the parameters by the gradients collected in the backward pass."
   ]
  },
  {
   "cell_type": "code",
   "execution_count": null,
   "metadata": {
    "id": "YxsuNOEIs8ev"
   },
   "outputs": [],
   "source": [
    "def train_loop(dataloader, model, loss_fn, optimizer):\n",
    "    size = len(dataloader.dataset)\n",
    "    for batch, (X, y) in enumerate(dataloader):\n",
    "        # Compute prediction and loss\n",
    "        # X.shape = [64, 28, 28] [batch_size, width, height]\n",
    "        # y.shape = [64] [batch_size]\n",
    "        X, y = X.to(device), y.to(device) # everything in the same device\n",
    "\n",
    "        pred = model(X)\n",
    "        loss = loss_fn(pred, y)\n",
    "\n",
    "        # Backpropagation\n",
    "        optimizer.zero_grad() #Reset the gradient\n",
    "        loss.backward() # Calculate the gradient\n",
    "        optimizer.step() # Correct the weights\n",
    "\n",
    "        if batch % 100 == 0:\n",
    "            loss, current = loss.item(), batch * len(X)\n",
    "            print(f\"loss: {loss:>7f}  [{current:>5d}/{size:>5d}]\")"
   ]
  },
  {
   "cell_type": "code",
   "execution_count": null,
   "metadata": {
    "id": "74C43DIys8ev"
   },
   "outputs": [],
   "source": [
    "def test_loop(dataloader, model, loss_fn):\n",
    "    size = len(dataloader.dataset)\n",
    "    num_batches = len(dataloader)\n",
    "    test_loss, correct = 0, 0\n",
    "\n",
    "    with torch.no_grad():\n",
    "        for X, y in dataloader:\n",
    "            X, y = X.to(device), y.to(device)\n",
    "            pred = model(X)\n",
    "            test_loss += loss_fn(pred, y).item()\n",
    "            correct += (pred.argmax(1) == y).type(torch.float).sum().item()\n",
    "\n",
    "    test_loss /= num_batches\n",
    "    correct /= size\n",
    "    print(f\"Test Error: \\n Accuracy: {(100*correct):>0.1f}%, Avg loss: {test_loss:>8f} \\n\")"
   ]
  },
  {
   "cell_type": "code",
   "execution_count": null,
   "metadata": {
    "colab": {
     "base_uri": "https://localhost:8080/"
    },
    "id": "lWkfa3F2s8ew",
    "outputId": "9f37d2bf-338b-4ef8-ab64-fa0ebe098bea"
   },
   "outputs": [
    {
     "name": "stdout",
     "output_type": "stream",
     "text": [
      "Epoch 1\n",
      "-------------------------------\n",
      "loss: 2.296041  [    0/60000]\n",
      "loss: 2.290572  [ 6400/60000]\n",
      "loss: 2.266897  [12800/60000]\n",
      "loss: 2.271284  [19200/60000]\n",
      "loss: 2.248771  [25600/60000]\n",
      "loss: 2.201131  [32000/60000]\n",
      "loss: 2.221129  [38400/60000]\n",
      "loss: 2.172298  [44800/60000]\n",
      "loss: 2.172606  [51200/60000]\n",
      "loss: 2.149241  [57600/60000]\n",
      "Test Error: \n",
      " Accuracy: 39.9%, Avg loss: 2.138529 \n",
      "\n",
      "Epoch 2\n",
      "-------------------------------\n",
      "loss: 2.145064  [    0/60000]\n",
      "loss: 2.139892  [ 6400/60000]\n",
      "loss: 2.077984  [12800/60000]\n",
      "loss: 2.106299  [19200/60000]\n",
      "loss: 2.044642  [25600/60000]\n",
      "loss: 1.970282  [32000/60000]\n",
      "loss: 2.010559  [38400/60000]\n",
      "loss: 1.916294  [44800/60000]\n",
      "loss: 1.924766  [51200/60000]\n",
      "loss: 1.858620  [57600/60000]\n",
      "Test Error: \n",
      " Accuracy: 57.1%, Avg loss: 1.853440 \n",
      "\n",
      "Epoch 3\n",
      "-------------------------------\n",
      "loss: 1.888552  [    0/60000]\n",
      "loss: 1.859032  [ 6400/60000]\n",
      "loss: 1.738645  [12800/60000]\n",
      "loss: 1.790078  [19200/60000]\n",
      "loss: 1.672582  [25600/60000]\n",
      "loss: 1.617823  [32000/60000]\n",
      "loss: 1.650530  [38400/60000]\n",
      "loss: 1.541029  [44800/60000]\n",
      "loss: 1.570748  [51200/60000]\n",
      "loss: 1.474238  [57600/60000]\n",
      "Test Error: \n",
      " Accuracy: 60.6%, Avg loss: 1.490063 \n",
      "\n",
      "Epoch 4\n",
      "-------------------------------\n",
      "loss: 1.560163  [    0/60000]\n",
      "loss: 1.527266  [ 6400/60000]\n",
      "loss: 1.374752  [12800/60000]\n",
      "loss: 1.456302  [19200/60000]\n",
      "loss: 1.335990  [25600/60000]\n",
      "loss: 1.324875  [32000/60000]\n",
      "loss: 1.351414  [38400/60000]\n",
      "loss: 1.266216  [44800/60000]\n",
      "loss: 1.306085  [51200/60000]\n",
      "loss: 1.215294  [57600/60000]\n",
      "Test Error: \n",
      " Accuracy: 62.9%, Avg loss: 1.238383 \n",
      "\n",
      "Epoch 5\n",
      "-------------------------------\n",
      "loss: 1.318793  [    0/60000]\n",
      "loss: 1.301543  [ 6400/60000]\n",
      "loss: 1.133944  [12800/60000]\n",
      "loss: 1.245376  [19200/60000]\n",
      "loss: 1.120186  [25600/60000]\n",
      "loss: 1.137128  [32000/60000]\n",
      "loss: 1.171604  [38400/60000]\n",
      "loss: 1.097551  [44800/60000]\n",
      "loss: 1.142065  [51200/60000]\n",
      "loss: 1.064821  [57600/60000]\n",
      "Test Error: \n",
      " Accuracy: 64.5%, Avg loss: 1.082546 \n",
      "\n",
      "Epoch 6\n",
      "-------------------------------\n",
      "loss: 1.158668  [    0/60000]\n",
      "loss: 1.159643  [ 6400/60000]\n",
      "loss: 0.975775  [12800/60000]\n",
      "loss: 1.113255  [19200/60000]\n",
      "loss: 0.986475  [25600/60000]\n",
      "loss: 1.009477  [32000/60000]\n",
      "loss: 1.060760  [38400/60000]\n",
      "loss: 0.989214  [44800/60000]\n",
      "loss: 1.033533  [51200/60000]\n",
      "loss: 0.970521  [57600/60000]\n",
      "Test Error: \n",
      " Accuracy: 65.7%, Avg loss: 0.981074 \n",
      "\n",
      "Epoch 7\n",
      "-------------------------------\n",
      "loss: 1.045830  [    0/60000]\n",
      "loss: 1.067220  [ 6400/60000]\n",
      "loss: 0.866215  [12800/60000]\n",
      "loss: 1.024767  [19200/60000]\n",
      "loss: 0.900570  [25600/60000]\n",
      "loss: 0.918330  [32000/60000]\n",
      "loss: 0.987560  [38400/60000]\n",
      "loss: 0.917660  [44800/60000]\n",
      "loss: 0.956938  [51200/60000]\n",
      "loss: 0.906568  [57600/60000]\n",
      "Test Error: \n",
      " Accuracy: 67.0%, Avg loss: 0.910965 \n",
      "\n",
      "Epoch 8\n",
      "-------------------------------\n",
      "loss: 0.961357  [    0/60000]\n",
      "loss: 1.001815  [ 6400/60000]\n",
      "loss: 0.786441  [12800/60000]\n",
      "loss: 0.961765  [19200/60000]\n",
      "loss: 0.842193  [25600/60000]\n",
      "loss: 0.850865  [32000/60000]\n",
      "loss: 0.935712  [38400/60000]\n",
      "loss: 0.868683  [44800/60000]\n",
      "loss: 0.900725  [51200/60000]\n",
      "loss: 0.859747  [57600/60000]\n",
      "Test Error: \n",
      " Accuracy: 68.1%, Avg loss: 0.859691 \n",
      "\n",
      "Epoch 9\n",
      "-------------------------------\n",
      "loss: 0.895096  [    0/60000]\n",
      "loss: 0.951615  [ 6400/60000]\n",
      "loss: 0.725894  [12800/60000]\n",
      "loss: 0.914232  [19200/60000]\n",
      "loss: 0.799715  [25600/60000]\n",
      "loss: 0.799526  [32000/60000]\n",
      "loss: 0.896284  [38400/60000]\n",
      "loss: 0.833889  [44800/60000]\n",
      "loss: 0.857873  [51200/60000]\n",
      "loss: 0.823477  [57600/60000]\n",
      "Test Error: \n",
      " Accuracy: 69.5%, Avg loss: 0.820367 \n",
      "\n",
      "Epoch 10\n",
      "-------------------------------\n",
      "loss: 0.841344  [    0/60000]\n",
      "loss: 0.910617  [ 6400/60000]\n",
      "loss: 0.678393  [12800/60000]\n",
      "loss: 0.877174  [19200/60000]\n",
      "loss: 0.767164  [25600/60000]\n",
      "loss: 0.759738  [32000/60000]\n",
      "loss: 0.864345  [38400/60000]\n",
      "loss: 0.807922  [44800/60000]\n",
      "loss: 0.824144  [51200/60000]\n",
      "loss: 0.793966  [57600/60000]\n",
      "Test Error: \n",
      " Accuracy: 71.0%, Avg loss: 0.788920 \n",
      "\n",
      "Done!\n"
     ]
    }
   ],
   "source": [
    "loss_fn = nn.CrossEntropyLoss()\n",
    "optimizer = torch.optim.SGD(model.parameters(), lr=learning_rate)\n",
    "epochs = 10\n",
    "\n",
    "for t in range(epochs):\n",
    "    print(f\"Epoch {t+1}\\n-------------------------------\")\n",
    "    train_loop(train_dataloader, model, loss_fn, optimizer)\n",
    "    test_loop(test_dataloader, model, loss_fn)\n",
    "print(\"Done!\")"
   ]
  },
  {
   "cell_type": "markdown",
   "metadata": {
    "id": "6E18jjmHs8ew"
   },
   "source": [
    "### Now you have trained a Neural Network to classify the Fashion MNist dataset ###"
   ]
  },
  {
   "cell_type": "markdown",
   "metadata": {
    "id": "5GXzBPk0s8ew"
   },
   "source": [
    "### What should you do next?? ###\n",
    "\n",
    "- Experiment with other functionalities for Tensors and nn.Modules.\n",
    "- Play with the model's parameters --> Change sizes, change activation functions, change optimizer, etc. Try different things to get a grasp of how they behave/react\n",
    "- Try using the model to predict unseen clothes (Remember to deactivate the gradient in the model, and to transform the data to what the model expects). Upload your own images to see how it perform.\n",
    "- Try using another dataset with all you have learned thus far (might need to read a bit more on dataset and dataloaders: https://pytorch.org/tutorials/beginner/basics/data_tutorial.html and the link in the specific notebook) to classify something else. It does not need to be images, it can be whatever you want; try using basic tabular data.\n",
    "    - Check also the other datasets they have already available in Pytorch (Image datasets: https://pytorch.org/vision/stable/datasets.html)\n",
    "    - You can also try using the example dataset of the tool EDD (Evolutionary Dungeon Designer) - the labels (0 ... 11) correspond to automatically assigned clusters (https://arxiv.org/pdf/2004.01697.pdf). You got the work started in the respective notebook (dataset_dataloaders)"
   ]
  },
  {
   "cell_type": "code",
   "execution_count": null,
   "metadata": {
    "id": "Ser8gQ6qs8ex"
   },
   "outputs": [],
   "source": []
  }
 ],
 "metadata": {
  "accelerator": "GPU",
  "colab": {
   "include_colab_link": true,
   "name": "4-all-together.ipynb",
   "provenance": []
  },
  "kernelspec": {
   "display_name": "Python 3",
   "language": "python",
   "name": "python3"
  },
  "language_info": {
   "codemirror_mode": {
    "name": "ipython",
    "version": 3
   },
   "file_extension": ".py",
   "mimetype": "text/x-python",
   "name": "python",
   "nbconvert_exporter": "python",
   "pygments_lexer": "ipython3",
   "version": "3.8.2"
  }
 },
 "nbformat": 4,
 "nbformat_minor": 0
}

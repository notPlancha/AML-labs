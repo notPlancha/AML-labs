{
 "cells": [
  {
   "cell_type": "markdown",
   "metadata": {
    "colab_type": "text",
    "id": "view-in-github"
   },
   "source": [
    "<a href=\"https://colab.research.google.com/github/Azadshokrollahi/Advance-machine-learning/blob/develop/0-basics_intro/1_simple%20example(neural_network).ipynb\" target=\"_parent\"><img src=\"https://colab.research.google.com/assets/colab-badge.svg\" alt=\"Open In Colab\"/></a>"
   ]
  },
  {
   "cell_type": "code",
   "execution_count": 1,
   "metadata": {
    "colab": {
     "base_uri": "https://localhost:8080/"
    },
    "id": "rgaaia7U6BxC",
    "outputId": "d17163cb-8e10-448a-cbe9-1ad6145468ff"
   },
   "outputs": [
    {
     "name": "stdout",
     "output_type": "stream",
     "text": [
      "Epoch 100, Loss: 0.6789988279342651\n",
      "Epoch 200, Loss: 0.6747556924819946\n",
      "Epoch 300, Loss: 0.6724876761436462\n",
      "Epoch 400, Loss: 0.6712709665298462\n",
      "Epoch 500, Loss: 0.6706135272979736\n",
      "Epoch 600, Loss: 0.6702526807785034\n",
      "Epoch 700, Loss: 0.6700485944747925\n",
      "Epoch 800, Loss: 0.6699267625808716\n",
      "Epoch 900, Loss: 0.6698480248451233\n",
      "Epoch 1000, Loss: 0.6697917580604553\n",
      "Test Loss: 0.7808064222335815\n"
     ]
    }
   ],
   "source": [
    "# Step 0: Import Necessary Libraries\n",
    "import torch  # Import PyTorch for deep learning\n",
    "import torch.nn as nn  # Import the neural network module\n",
    "import torch.nn.functional as F  # Import functional interface\n",
    "import torch.optim as optim  # Import the optimization algorithms\n",
    "import numpy as np  # Import NumPy for numerical operations\n",
    "import pandas as pd  # Import Pandas for data manipulation\n",
    "\n",
    "# Step 1: Create Synthetic Dataset\n",
    "np.random.seed(0)  # Set random seed for reproducibility\n",
    "data = np.random.rand(20, 3)  # Generate random data: 20 samples and 3 features\n",
    "df = pd.DataFrame(data, columns=['Feature1', 'Feature2', 'Label'])  # Convert to DataFrame for easy handling\n",
    "# Convert features and labels to PyTorch tensors for model training\n",
    "X = torch.tensor(df[['Feature1', 'Feature2']].values, dtype=torch.float32)\n",
    "Y = torch.tensor(df[['Label']].values, dtype=torch.float32)\n",
    "\n",
    "# Splitting the dataset into training (first 15 samples) and testing sets (last 5 samples)\n",
    "train_X = X[:15]\n",
    "train_Y = Y[:15]\n",
    "test_X = X[15:]\n",
    "test_Y = Y[15:]\n",
    "\n",
    "# Step 2: Define the Neural Network\n",
    "class SimpleNN(nn.Module):  # Define a simple neural network class inheriting from nn.Module\n",
    "    def __init__(self):\n",
    "        super(SimpleNN, self).__init__()  # Call the superclass (nn.Module) constructor\n",
    "        self.fc1 = nn.Linear(2, 5)  # First fully connected layer: 2 inputs -> 5 outputs\n",
    "        self.fc2 = nn.Linear(5, 1)  # Second fully connected layer: 5 inputs -> 1 output\n",
    "\n",
    "    def forward(self, x):  # Forward pass definition\n",
    "        x = F.relu(self.fc1(x))  # Apply ReLU activation function after the first layer\n",
    "        x = torch.sigmoid(self.fc2(x))  # Apply sigmoid activation function after the second layer\n",
    "        return x\n",
    "\n",
    "# Step 3: Instantiate the Network, Loss Function, and Optimizer\n",
    "net = SimpleNN()  # Create an instance of the SimpleNN\n",
    "criterion = nn.BCELoss()  # Binary Cross-Entropy Loss for binary classification tasks\n",
    "optimizer = optim.SGD(net.parameters(), lr=0.01)  # Stochastic Gradient Descent optimizer with a learning rate of 0.01\n",
    "\n",
    "# Step 4: Train the Network\n",
    "for epoch in range(1000):  # Loop over the dataset 1000 times\n",
    "    optimizer.zero_grad()  # Zero the parameter gradients to prevent accumulation\n",
    "    outputs = net(train_X)  # Forward pass: compute the predicted outputs by passing inputs to the model\n",
    "    loss = criterion(outputs, train_Y)  # Compute the loss between predicted outputs and true labels\n",
    "    loss.backward()  # Backward pass: compute gradient of the loss with respect to model parameters\n",
    "    optimizer.step()  # Optimize: update the model parameters\n",
    "\n",
    "    if epoch % 100 == 99:  # Print the loss every 100 epochs\n",
    "        print(f'Epoch {epoch+1}, Loss: {loss.item()}')\n",
    "\n",
    "# Step 5: Test the Network\n",
    "net.eval()  # Set the model to evaluation mode (important for certain types of layers)\n",
    "with torch.no_grad():  # Turn off gradients for validation, saves memory and computations\n",
    "    test_outputs = net(test_X)  # Compute model output for test data\n",
    "    test_loss = criterion(test_outputs, test_Y)  # Calculate loss for the test data\n",
    "\n",
    "print(f'Test Loss: {test_loss.item()}')  # Print the test loss\n"
   ]
  }
 ],
 "metadata": {
  "colab": {
   "include_colab_link": true,
   "provenance": []
  },
  "kernelspec": {
   "display_name": "Python 3",
   "name": "python3"
  },
  "language_info": {
   "name": "python"
  }
 },
 "nbformat": 4,
 "nbformat_minor": 0
}

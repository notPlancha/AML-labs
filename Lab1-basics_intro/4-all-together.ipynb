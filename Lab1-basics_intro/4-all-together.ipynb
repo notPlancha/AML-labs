{
 "cells": [
  {
   "cell_type": "markdown",
   "metadata": {},
   "source": [
    "## Putting it all together! ##\n",
    "\n",
    "Now that we have a model and data it’s time to train, validate and test our model by optimizing it’s parameters on our data. Training a model is an iterative process; in each iteration (called an epoch) the model makes a guess about the output, calculates the error in its guess (loss), collects the derivatives of the error with respect to its parameters (as we saw in the previous section), and optimizes these parameters using gradient descent. "
   ]
  },
  {
   "cell_type": "code",
   "execution_count": 1,
   "metadata": {},
   "outputs": [],
   "source": [
    "import torch\n",
    "from torch import nn\n",
    "from torch.utils.data import DataLoader\n",
    "from torchvision import datasets\n",
    "from torchvision.transforms import ToTensor, Lambda\n",
    "\n",
    "training_data = datasets.FashionMNIST(\n",
    "    root=\"data\",\n",
    "    train=True,\n",
    "    download=True,\n",
    "    transform=ToTensor()\n",
    ")\n",
    "\n",
    "test_data = datasets.FashionMNIST(\n",
    "    root=\"data\",\n",
    "    train=False,\n",
    "    download=True,\n",
    "    transform=ToTensor()\n",
    ")\n",
    "\n",
    "train_dataloader = DataLoader(training_data, batch_size=64)\n",
    "test_dataloader = DataLoader(test_data, batch_size=64)"
   ]
  },
  {
   "cell_type": "code",
   "execution_count": 2,
   "metadata": {},
   "outputs": [],
   "source": [
    "device = 'cuda' if torch.cuda.is_available() else 'cpu'"
   ]
  },
  {
   "cell_type": "code",
   "execution_count": 3,
   "metadata": {},
   "outputs": [],
   "source": [
    "# We define our neural network by subclassing nn.Module, and initialize the neural network layers in __init__. \n",
    "# Every nn.Module subclass implements the operations on input data in the forward method.\n",
    "\n",
    "class NeuralNetwork(nn.Module):\n",
    "    def __init__(self, input_width, input_height, label_dim):\n",
    "        super(NeuralNetwork, self).__init__()\n",
    "        self.flatten = nn.Flatten() # Used to convert the 2D input into 1D (28x28 to 784)\n",
    "        self.linear_relu_stack = nn.Sequential(\n",
    "            nn.Linear(input_width*input_height, 512),\n",
    "            nn.ReLU(),\n",
    "            nn.Linear(512, 512),\n",
    "            nn.ReLU(),\n",
    "            nn.Linear(512, label_dim),\n",
    "            nn.ReLU()\n",
    "        )\n",
    "        self.softmax = nn.Softmax(dim=1)\n",
    "        self.softmax_result = 0\n",
    "\n",
    "    def forward(self, x):\n",
    "        x = self.flatten(x)\n",
    "        logits = self.linear_relu_stack(x)\n",
    "        self.softmax_result = self.softmax(logits)\n",
    "        return logits"
   ]
  },
  {
   "cell_type": "code",
   "execution_count": 4,
   "metadata": {},
   "outputs": [],
   "source": [
    "model = NeuralNetwork(28, 28, 10).to(device)"
   ]
  },
  {
   "cell_type": "markdown",
   "metadata": {},
   "source": [
    "### Hyperparameters ### \n",
    "Hyperparameters are adjustable parameters that let you control the model optimization process. Different hyperparameter values can impact model training and convergence rates (read more about hyperparameter tuning)\n",
    "\n",
    "We define the following hyperparameters for training:\n",
    "- __Number of Epochs__ - the number times to iterate over the dataset\n",
    "- __Batch Size__ - the number of data samples seen by the model in each epoch\n",
    "- __Learning Rate__ - how much to update models parameters at each batch/epoch. Smaller values yield slow learning speed, while large values may result in unpredictable behavior during training."
   ]
  },
  {
   "cell_type": "code",
   "execution_count": 5,
   "metadata": {},
   "outputs": [],
   "source": [
    "learning_rate = 1e-3\n",
    "batch_size = 64\n",
    "epochs = 5\n"
   ]
  },
  {
   "cell_type": "markdown",
   "metadata": {},
   "source": [
    "#### Important to know about different loss functions ####\n",
    "Loss function measures the degree of dissimilarity of obtained result to the target value, and it is the loss function that we want to minimize during training. To calculate the loss we make a prediction using the inputs of our given data sample and compare it against the true data label value.\n",
    "\n",
    "Common loss functions include `nn.MSELoss` (Mean Square Error) for regression tasks, and `nn.NLLLoss` (Negative Log Likelihood) for classification. `nn.CrossEntropyLoss` combines `nn.LogSoftmax` and `nn.NLLLoss`.\n",
    "\n",
    "We pass our model’s output logits to nn.CrossEntropyLoss, which will normalize the logits and compute the prediction error."
   ]
  },
  {
   "cell_type": "code",
   "execution_count": 7,
   "metadata": {},
   "outputs": [],
   "source": [
    "# Initialize the loss function\n",
    "loss_fn = nn.CrossEntropyLoss()"
   ]
  },
  {
   "cell_type": "markdown",
   "metadata": {},
   "source": [
    "## Optimizer ##\n",
    "Optimization is the process of adjusting model parameters to reduce model error in each training step. Optimization algorithms define how this process is performed (in this example we use Stochastic Gradient Descent). All optimization logic is encapsulated in the optimizer object. Here, we use the SGD optimizer; additionally, there are many different optimizers available in PyTorch such as ADAM and RMSProp, that work better for different kinds of models and data. (https://pytorch.org/docs/stable/optim.html)\n",
    "\n",
    "We initialize the optimizer by registering the model’s parameters that need to be trained, and passing in the learning rate hyperparameter."
   ]
  },
  {
   "cell_type": "code",
   "execution_count": 8,
   "metadata": {},
   "outputs": [],
   "source": [
    "optimizer = torch.optim.SGD(model.parameters(), lr=learning_rate)"
   ]
  },
  {
   "cell_type": "markdown",
   "metadata": {},
   "source": [
    "Once we set our hyperparameters, we can then train and optimize our model with an optimization loop. Each iteration of the optimization loop is called an epoch.\n",
    "\n",
    "Each epoch consists of two main parts:\n",
    "- The Train Loop - iterate over the training dataset and try to converge to optimal parameters.\n",
    "- The Validation/Test Loop - iterate over the test dataset to check if model performance is improving.\n",
    "\n",
    "Inside the training loop, optimization happens in three steps:\n",
    "\n",
    "- Call optimizer.zero_grad() to reset the gradients of model parameters. Gradients by default add up; to prevent double-counting, we explicitly zero them at each iteration.\n",
    "- Backpropagate the prediction loss with a call to loss.backwards(). PyTorch deposits the gradients of the loss w.r.t. each parameter.\n",
    "- Once we have our gradients, we call optimizer.step() to adjust the parameters by the gradients collected in the backward pass."
   ]
  },
  {
   "cell_type": "code",
   "execution_count": 9,
   "metadata": {},
   "outputs": [],
   "source": [
    "def train_loop(dataloader, model, loss_fn, optimizer):\n",
    "    size = len(dataloader.dataset)\n",
    "    for batch, (X, y) in enumerate(dataloader):\n",
    "        # Compute prediction and loss\n",
    "        # X.shape = [64, 28, 28] [batch_size, width, height]\n",
    "        # y.shape = [64, 10] [batch_size, label_dim]\n",
    "        X, y = X.to(device), y.to(device) # everything in the same device\n",
    "        \n",
    "        pred = model(X)\n",
    "        loss = loss_fn(pred, y)\n",
    "\n",
    "        # Backpropagation\n",
    "        optimizer.zero_grad() #Reset the gradient\n",
    "        loss.backward() # Calculate the gradient\n",
    "        optimizer.step() # Correct the weights\n",
    "\n",
    "        if batch % 100 == 0:\n",
    "            loss, current = loss.item(), batch * len(X)\n",
    "            print(f\"loss: {loss:>7f}  [{current:>5d}/{size:>5d}]\")"
   ]
  },
  {
   "cell_type": "code",
   "execution_count": 10,
   "metadata": {},
   "outputs": [],
   "source": [
    "def test_loop(dataloader, model, loss_fn):\n",
    "    size = len(dataloader.dataset)\n",
    "    test_loss, correct = 0, 0\n",
    "\n",
    "    with torch.no_grad():\n",
    "        for X, y in dataloader:\n",
    "            X, y = X.to(device), y.to(device)\n",
    "            pred = model(X)\n",
    "            test_loss += loss_fn(pred, y).item()\n",
    "            correct += (pred.argmax(1) == y).type(torch.float).sum().item()\n",
    "\n",
    "    test_loss /= size\n",
    "    correct /= size\n",
    "    print(f\"Test Error: \\n Accuracy: {(100*correct):>0.1f}%, Avg loss: {test_loss:>8f} \\n\")"
   ]
  },
  {
   "cell_type": "code",
   "execution_count": 11,
   "metadata": {},
   "outputs": [
    {
     "name": "stdout",
     "output_type": "stream",
     "text": [
      "Epoch 1\n",
      "-------------------------------\n",
      "loss: 2.311023  [    0/60000]\n",
      "loss: 2.301011  [ 6400/60000]\n",
      "loss: 2.293495  [12800/60000]\n",
      "loss: 2.284659  [19200/60000]\n",
      "loss: 2.294869  [25600/60000]\n",
      "loss: 2.276911  [32000/60000]\n",
      "loss: 2.292437  [38400/60000]\n",
      "loss: 2.281198  [44800/60000]\n",
      "loss: 2.264363  [51200/60000]\n",
      "loss: 2.263618  [57600/60000]\n",
      "Test Error: \n",
      " Accuracy: 24.5%, Avg loss: 0.035387 \n",
      "\n",
      "Epoch 2\n",
      "-------------------------------\n",
      "loss: 2.255362  [    0/60000]\n",
      "loss: 2.252683  [ 6400/60000]\n",
      "loss: 2.223683  [12800/60000]\n",
      "loss: 2.237269  [19200/60000]\n",
      "loss: 2.247211  [25600/60000]\n",
      "loss: 2.198570  [32000/60000]\n",
      "loss: 2.242728  [38400/60000]\n",
      "loss: 2.206979  [44800/60000]\n",
      "loss: 2.175317  [51200/60000]\n",
      "loss: 2.203099  [57600/60000]\n",
      "Test Error: \n",
      " Accuracy: 37.2%, Avg loss: 0.034114 \n",
      "\n",
      "Epoch 3\n",
      "-------------------------------\n",
      "loss: 2.157901  [    0/60000]\n",
      "loss: 2.167166  [ 6400/60000]\n",
      "loss: 2.118674  [12800/60000]\n",
      "loss: 2.167902  [19200/60000]\n",
      "loss: 2.165251  [25600/60000]\n",
      "loss: 2.087296  [32000/60000]\n",
      "loss: 2.169002  [38400/60000]\n",
      "loss: 2.099208  [44800/60000]\n",
      "loss: 2.049995  [51200/60000]\n",
      "loss: 2.119427  [57600/60000]\n",
      "Test Error: \n",
      " Accuracy: 40.9%, Avg loss: 0.032291 \n",
      "\n",
      "Epoch 4\n",
      "-------------------------------\n",
      "loss: 2.018620  [    0/60000]\n",
      "loss: 2.039049  [ 6400/60000]\n",
      "loss: 1.964954  [12800/60000]\n",
      "loss: 2.069471  [19200/60000]\n",
      "loss: 2.056378  [25600/60000]\n",
      "loss: 1.942613  [32000/60000]\n",
      "loss: 2.076922  [38400/60000]\n",
      "loss: 1.967114  [44800/60000]\n",
      "loss: 1.901596  [51200/60000]\n",
      "loss: 2.026967  [57600/60000]\n",
      "Test Error: \n",
      " Accuracy: 42.5%, Avg loss: 0.030225 \n",
      "\n",
      "Epoch 5\n",
      "-------------------------------\n",
      "loss: 1.858392  [    0/60000]\n",
      "loss: 1.893642  [ 6400/60000]\n",
      "loss: 1.794946  [12800/60000]\n",
      "loss: 1.965258  [19200/60000]\n",
      "loss: 1.950811  [25600/60000]\n",
      "loss: 1.805928  [32000/60000]\n",
      "loss: 1.993510  [38400/60000]\n",
      "loss: 1.852752  [44800/60000]\n",
      "loss: 1.779177  [51200/60000]\n",
      "loss: 1.948250  [57600/60000]\n",
      "Test Error: \n",
      " Accuracy: 44.4%, Avg loss: 0.028495 \n",
      "\n",
      "Done!\n"
     ]
    }
   ],
   "source": [
    "loss_fn = nn.CrossEntropyLoss()\n",
    "optimizer = torch.optim.SGD(model.parameters(), lr=learning_rate)\n",
    "\n",
    "epochs = 5\n",
    "for t in range(epochs):\n",
    "    print(f\"Epoch {t+1}\\n-------------------------------\")\n",
    "    train_loop(train_dataloader, model, loss_fn, optimizer)\n",
    "    test_loop(test_dataloader, model, loss_fn)\n",
    "print(\"Done!\")"
   ]
  },
  {
   "cell_type": "markdown",
   "metadata": {},
   "source": [
    "### Now you have trained a Neural Network to classify the Fashion MNist dataset ###"
   ]
  },
  {
   "cell_type": "markdown",
   "metadata": {},
   "source": [
    "### What should you do next?? ###\n",
    "\n",
    "- Experiment with other functionalities for Tensors and nn.Modules.\n",
    "- Play with the model's parameters --> Change sizes, change activation functions, change optimizer, etc. Try different things to get a grasp of how they behave/react\n",
    "- Try using the model to predict unseen clothes (Remember to deactivate the gradient in the model, and to transform the data to what the model expects)\n",
    "- Try using another dataset with all you have learned thus far (might need to read a bit more on dataset and dataloaders: https://pytorch.org/tutorials/beginner/basics/data_tutorial.html and the link in the specific notebook) to classify something. It does not need to be images, it can be whatever you want; try using basic tabular data.\n",
    "    - Check also the other datasets they have already available in Pytorch (Image datasets: https://pytorch.org/vision/stable/datasets.html)\n",
    "    - You can also try using the example dataset of the tool EDD (Evolutionary Dungeon Designer) - the labels (0 ... 11) correspond to automatically assigned clusters (https://arxiv.org/pdf/2004.01697.pdf). You got the work started in the respective notebook (dataset_dataloaders)"
   ]
  },
  {
   "cell_type": "code",
   "execution_count": null,
   "metadata": {},
   "outputs": [],
   "source": []
  }
 ],
 "metadata": {
  "kernelspec": {
   "display_name": "Python 3",
   "language": "python",
   "name": "python3"
  },
  "language_info": {
   "codemirror_mode": {
    "name": "ipython",
    "version": 3
   },
   "file_extension": ".py",
   "mimetype": "text/x-python",
   "name": "python",
   "nbconvert_exporter": "python",
   "pygments_lexer": "ipython3",
   "version": "3.8.2"
  }
 },
 "nbformat": 4,
 "nbformat_minor": 4
}

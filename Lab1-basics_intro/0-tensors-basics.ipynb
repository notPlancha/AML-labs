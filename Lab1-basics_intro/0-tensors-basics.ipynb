{
 "cells": [
  {
   "cell_type": "markdown",
   "metadata": {
    "colab_type": "text",
    "id": "view-in-github"
   },
   "source": [
    "<a href=\"https://colab.research.google.com/github/Azadshokrollahi/Advance-machine-learning/blob/develop/0-basics_intro/0-tensors-basics.ipynb\" target=\"_parent\"><img src=\"https://colab.research.google.com/assets/colab-badge.svg\" alt=\"Open In Colab\"/></a>"
   ]
  },
  {
   "cell_type": "markdown",
   "metadata": {
    "id": "nTOziXjppYhC"
   },
   "source": [
    "## Tensors ##\n",
    "\n",
    "Most of the notebooks in this folder are based from the tutorial serie from pytorch website: https://pytorch.org/tutorials/beginner/basics/intro.html\n",
    "\n",
    "In pytorch, tensors are the core data structure. They are used to encode the models' inputs, outputs, and parameters. Tensors are optimized to do all the operations related to training and fast arithmetic calculation. Tensors are very similar to Numpy arrays in usage and functions."
   ]
  },
  {
   "cell_type": "code",
   "execution_count": null,
   "metadata": {
    "id": "_ImKwvDfpYhD"
   },
   "outputs": [],
   "source": [
    "import torch\n",
    "import numpy as np"
   ]
  },
  {
   "cell_type": "code",
   "execution_count": null,
   "metadata": {
    "id": "teZvGJ6JpYhE",
    "outputId": "c3f7ee5b-c0d4-4386-d8e8-7bde0f0eceb6"
   },
   "outputs": [
    {
     "data": {
      "text/plain": [
       "torch.BFloat16Tensor\n",
       "torch.BoolTensor\n",
       "torch.ByteTensor\n",
       "torch.CharTensor\n",
       "torch.DoubleTensor\n",
       "torch.FloatTensor\n",
       "torch.HalfTensor\n",
       "torch.IntTensor\n",
       "torch.LongTensor\n",
       "torch.ShortTensor\n",
       "torch.Tensor"
      ]
     },
     "metadata": {},
     "output_type": "display_data"
    }
   ],
   "source": [
    "# All possible tensor types\n",
    "torch.*Tensor?"
   ]
  },
  {
   "cell_type": "code",
   "execution_count": null,
   "metadata": {
    "id": "nfFRtOmZpYhE",
    "outputId": "cab04c26-3118-4ba9-8639-09d50f616a73"
   },
   "outputs": [
    {
     "data": {
      "text/plain": [
       "\u001b[1;31mInit signature:\u001b[0m \u001b[0mtorch\u001b[0m\u001b[1;33m.\u001b[0m\u001b[0mnn\u001b[0m\u001b[1;33m.\u001b[0m\u001b[0mModule\u001b[0m\u001b[1;33m(\u001b[0m\u001b[1;33m)\u001b[0m\u001b[1;33m\u001b[0m\u001b[1;33m\u001b[0m\u001b[0m\n",
       "\u001b[1;31mDocstring:\u001b[0m     \n",
       "Base class for all neural network modules.\n",
       "\n",
       "Your models should also subclass this class.\n",
       "\n",
       "Modules can also contain other Modules, allowing to nest them in\n",
       "a tree structure. You can assign the submodules as regular attributes::\n",
       "\n",
       "    import torch.nn as nn\n",
       "    import torch.nn.functional as F\n",
       "\n",
       "    class Model(nn.Module):\n",
       "        def __init__(self):\n",
       "            super(Model, self).__init__()\n",
       "            self.conv1 = nn.Conv2d(1, 20, 5)\n",
       "            self.conv2 = nn.Conv2d(20, 20, 5)\n",
       "\n",
       "        def forward(self, x):\n",
       "            x = F.relu(self.conv1(x))\n",
       "            return F.relu(self.conv2(x))\n",
       "\n",
       "Submodules assigned in this way will be registered, and will have their\n",
       "parameters converted too when you call :meth:`to`, etc.\n",
       "\n",
       ":ivar training: Boolean represents whether this module is in training or\n",
       "                evaluation mode.\n",
       ":vartype training: bool\n",
       "\u001b[1;31mInit docstring:\u001b[0m Initializes internal Module state, shared by both nn.Module and ScriptModule.\n",
       "\u001b[1;31mFile:\u001b[0m           c:\\anaconda3\\envs\\pdl\\lib\\site-packages\\torch\\nn\\modules\\module.py\n",
       "\u001b[1;31mType:\u001b[0m           type\n",
       "\u001b[1;31mSubclasses:\u001b[0m     Identity, Linear, Bilinear, _ConvNd, Threshold, ReLU, RReLU, Hardtanh, Sigmoid, Hardsigmoid, ...\n"
      ]
     },
     "metadata": {},
     "output_type": "display_data"
    }
   ],
   "source": [
    "# Get summary information about the different classes (if possible and exist)\n",
    "torch.nn.Module?"
   ]
  },
  {
   "cell_type": "code",
   "execution_count": null,
   "metadata": {
    "id": "Rb-40pykpYhE"
   },
   "outputs": [],
   "source": [
    "# Get the full definition of the class\n",
    "torch.nn.Module??"
   ]
  },
  {
   "cell_type": "markdown",
   "metadata": {
    "id": "NhUeJsjgpYhE"
   },
   "source": [
    "## Initializing a Tensor ##"
   ]
  },
  {
   "cell_type": "code",
   "execution_count": null,
   "metadata": {
    "id": "cUb0dwmbpYhE",
    "outputId": "a6bf08d5-52f6-4072-d34e-356a3bea6947"
   },
   "outputs": [
    {
     "name": "stdout",
     "output_type": "stream",
     "text": [
      "[[1, 2], [3, 4]]\n",
      "tensor([[1, 2],\n",
      "        [3, 4]])\n"
     ]
    }
   ],
   "source": [
    "# Initialize tensor directly from native data in python\n",
    "\n",
    "data = [[1, 2],[3, 4]]\n",
    "data_in_tensor = torch.tensor(data)\n",
    "print(data)\n",
    "print(data_in_tensor)"
   ]
  },
  {
   "cell_type": "code",
   "execution_count": null,
   "metadata": {
    "id": "9K88SS8VpYhF",
    "outputId": "1b711ebb-5992-4eb9-92e0-41563a2baa16"
   },
   "outputs": [
    {
     "name": "stdout",
     "output_type": "stream",
     "text": [
      "[[1 2]\n",
      " [3 4]]\n",
      "tensor([[1, 2],\n",
      "        [3, 4]], dtype=torch.int32)\n"
     ]
    }
   ],
   "source": [
    "# From numpy array\n",
    "\n",
    "np_array = np.array(data)\n",
    "nparray_in_tensor = torch.from_numpy(np_array)\n",
    "print(np_array)\n",
    "print(nparray_in_tensor)"
   ]
  },
  {
   "cell_type": "code",
   "execution_count": null,
   "metadata": {
    "id": "XwnK8uJKpYhF",
    "outputId": "404db883-518e-4d71-a71e-defd77232282"
   },
   "outputs": [
    {
     "name": "stdout",
     "output_type": "stream",
     "text": [
      "Ones Tensor: \n",
      " tensor([[1, 1],\n",
      "        [1, 1]]) \n",
      "\n",
      "Random Tensor: \n",
      " tensor([[0.9197, 0.2062],\n",
      "        [0.7578, 0.3463]]) \n",
      "\n"
     ]
    }
   ],
   "source": [
    "# From another tensor (retaining shape and datatype)\n",
    "\n",
    "# When using \"..._like\" you retain shape\n",
    "x_ones = torch.ones_like(data_in_tensor)\n",
    "print(f\"Ones Tensor: \\n {x_ones} \\n\")\n",
    "\n",
    "# When using \"..._like\" you retain shape. You can override the datatype by setting dtype\n",
    "x_rand = torch.rand_like(data_in_tensor, dtype=torch.float)\n",
    "print(f\"Random Tensor: \\n {x_rand} \\n\")\n"
   ]
  },
  {
   "cell_type": "code",
   "execution_count": null,
   "metadata": {
    "id": "fdwLKyaVpYhF",
    "outputId": "e53b1599-0f39-4702-8e28-277fc48bf3d9"
   },
   "outputs": [
    {
     "name": "stdout",
     "output_type": "stream",
     "text": [
      "Random Tensor: \n",
      " tensor([[0.9148, 0.6755, 0.7758],\n",
      "        [0.3699, 0.0501, 0.0677]]) \n",
      "\n",
      "Ones Tensor: \n",
      " tensor([[1., 1., 1.],\n",
      "        [1., 1., 1.]]) \n",
      "\n",
      "torch.float32\n",
      "Zeros Tensor: \n",
      " tensor([[0., 0., 0.],\n",
      "        [0., 0., 0.]])\n",
      "Ones Tensor: \n",
      " tensor([[1, 1, 1],\n",
      "        [1, 1, 1]]) \n",
      "\n",
      "torch.int64\n"
     ]
    }
   ],
   "source": [
    "# With random or constant values\n",
    "\n",
    "shape = (2,3,) # Used as a tuple of tensor dimensions\n",
    "# Float tensors by default\n",
    "rand_tensor = torch.rand(shape)\n",
    "ones_tensor = torch.ones(shape)\n",
    "zeros_tensor = torch.zeros(shape)\n",
    "\n",
    "print(f\"Random Tensor: \\n {rand_tensor} \\n\")\n",
    "print(f\"Ones Tensor: \\n {ones_tensor} \\n\")\n",
    "print(ones_tensor.dtype)\n",
    "print(f\"Zeros Tensor: \\n {zeros_tensor}\")\n",
    "\n",
    "ones_tensor = torch.ones(shape, dtype=torch.long)\n",
    "print(f\"Ones Tensor: \\n {ones_tensor} \\n\")\n",
    "print(ones_tensor.dtype)"
   ]
  },
  {
   "cell_type": "code",
   "execution_count": null,
   "metadata": {
    "id": "h43hmKnypYhF",
    "outputId": "872cea77-3e40-460e-ff5a-21a616db5385"
   },
   "outputs": [
    {
     "name": "stdout",
     "output_type": "stream",
     "text": [
      "Shape of tensor: torch.Size([3, 4])\n",
      "Datatype of tensor: torch.float32\n",
      "Device tensor is stored on: cpu\n",
      "Num elements in tensor: 12\n"
     ]
    }
   ],
   "source": [
    "## Attributes\n",
    "\n",
    "tensor = torch.rand(3,4)\n",
    "\n",
    "print(f\"Shape of tensor: {tensor.shape}\")\n",
    "print(f\"Datatype of tensor: {tensor.dtype}\")\n",
    "print(f\"Device tensor is stored on: {tensor.device}\")\n",
    "print(f\"Num elements in tensor: {tensor.numel()}\")"
   ]
  },
  {
   "cell_type": "code",
   "execution_count": null,
   "metadata": {
    "id": "l0IaJTOnpYhF",
    "outputId": "450c0969-54a3-4e80-b14c-bb2ef6bf0a3d"
   },
   "outputs": [
    {
     "name": "stdout",
     "output_type": "stream",
     "text": [
      "tensor([0., 0., 0., 0., 0., 0., 0., 0., 0., 0.])\n",
      "tensor([0., 1., 0., 0., 0., 0., 0., 0., 0., 0.])\n",
      "tensor(1.)\n",
      "tensor([0., 1., 0., 0., 0., 0., 0., 0., 0., 0.])\n"
     ]
    }
   ],
   "source": [
    "# Scatter lets you add a value in a specific position\n",
    "# Gather lets you get a value from a specific position\n",
    "\n",
    "tensor = torch.zeros(10, dtype=torch.float)\n",
    "print(tensor)\n",
    "#dim, position, value\n",
    "tensor.scatter_(0, torch.tensor(1), value=1)\n",
    "print(tensor)\n",
    "\n",
    "# tensor to gather, dim, position\n",
    "b = torch.gather(tensor, 0, torch.tensor(1))\n",
    "print(b)\n",
    "print(tensor)"
   ]
  },
  {
   "cell_type": "markdown",
   "metadata": {
    "id": "vZeBPENhpYhG"
   },
   "source": [
    "## Operations on tensors ##"
   ]
  },
  {
   "cell_type": "code",
   "execution_count": null,
   "metadata": {
    "id": "LlD-JxKjpYhG"
   },
   "outputs": [],
   "source": [
    "# We move our tensor to the GPU if available\n",
    "if torch.cuda.is_available():\n",
    "    tensor = tensor.to('cuda')"
   ]
  },
  {
   "cell_type": "code",
   "execution_count": null,
   "metadata": {
    "id": "lQgMLaGJpYhG",
    "outputId": "2443d854-7f2b-4978-968f-6f9dee1ca7db"
   },
   "outputs": [
    {
     "name": "stdout",
     "output_type": "stream",
     "text": [
      "First row:  tensor([1., 1., 1., 1.])\n",
      "First column:  tensor([1., 1., 1., 1.])\n",
      "Last column: tensor([1., 1., 1., 1.])\n",
      "tensor([[1., 0., 1., 1.],\n",
      "        [1., 0., 1., 1.],\n",
      "        [1., 0., 1., 1.],\n",
      "        [1., 0., 1., 1.]])\n"
     ]
    }
   ],
   "source": [
    "# Standard numpy-like indexing and slicing:\n",
    "\n",
    "tensor = torch.ones(4, 4)\n",
    "print('First row: ',tensor[0])\n",
    "print('First column: ', tensor[:, 0])\n",
    "print('Last column:', tensor[..., -1])\n",
    "\n",
    "tensor[:,1] = 0\n",
    "print(tensor)"
   ]
  },
  {
   "cell_type": "code",
   "execution_count": null,
   "metadata": {
    "id": "8qWa1T1_pYhG",
    "outputId": "ae4a8a2a-07c9-4ec7-ebbd-ea450e6c468f"
   },
   "outputs": [
    {
     "name": "stdout",
     "output_type": "stream",
     "text": [
      "basic tensor: \n",
      "tensor([[1., 0., 1., 1.],\n",
      "        [1., 0., 1., 1.],\n",
      "        [1., 0., 1., 1.],\n",
      "        [1., 0., 1., 1.]])\n",
      "torch.Size([4, 4])\n",
      "concat in rows: \n",
      "tensor([[1., 0., 1., 1.],\n",
      "        [1., 0., 1., 1.],\n",
      "        [1., 0., 1., 1.],\n",
      "        [1., 0., 1., 1.],\n",
      "        [1., 0., 1., 1.],\n",
      "        [1., 0., 1., 1.],\n",
      "        [1., 0., 1., 1.],\n",
      "        [1., 0., 1., 1.],\n",
      "        [1., 0., 1., 1.],\n",
      "        [1., 0., 1., 1.],\n",
      "        [1., 0., 1., 1.],\n",
      "        [1., 0., 1., 1.]])\n",
      "torch.Size([12, 4])\n",
      "concat in columns: \n",
      "tensor([[1., 0., 1., 1., 1., 0., 1., 1., 1., 0., 1., 1.],\n",
      "        [1., 0., 1., 1., 1., 0., 1., 1., 1., 0., 1., 1.],\n",
      "        [1., 0., 1., 1., 1., 0., 1., 1., 1., 0., 1., 1.],\n",
      "        [1., 0., 1., 1., 1., 0., 1., 1., 1., 0., 1., 1.]])\n",
      "torch.Size([4, 12])\n",
      "tensor([[[1., 0., 1., 1.],\n",
      "         [1., 0., 1., 1.],\n",
      "         [1., 0., 1., 1.],\n",
      "         [1., 0., 1., 1.]],\n",
      "\n",
      "        [[1., 0., 1., 1.],\n",
      "         [1., 0., 1., 1.],\n",
      "         [1., 0., 1., 1.],\n",
      "         [1., 0., 1., 1.]],\n",
      "\n",
      "        [[1., 0., 1., 1.],\n",
      "         [1., 0., 1., 1.],\n",
      "         [1., 0., 1., 1.],\n",
      "         [1., 0., 1., 1.]]])\n",
      "torch.Size([3, 4, 4])\n"
     ]
    }
   ],
   "source": [
    "#Joining tensors You can use torch.cat to concatenate a sequence of tensors\n",
    "#along a given dimension.\n",
    "\n",
    "print(\"basic tensor: \")\n",
    "print(tensor)\n",
    "print(tensor.shape)\n",
    "\n",
    "t1 = torch.cat([tensor, tensor, tensor], dim=0)\n",
    "print(\"concat in rows: \")\n",
    "print(t1)\n",
    "print(t1.shape)\n",
    "\n",
    "t1 = torch.cat([tensor, tensor, tensor], dim=1)\n",
    "print(\"concat in columns: \")\n",
    "print(t1)\n",
    "print(t1.shape)\n",
    "\n",
    "##Adds a new dim also\n",
    "t1 = torch.stack([tensor, tensor, tensor], dim = 0)\n",
    "print(t1)\n",
    "print(t1.shape)"
   ]
  },
  {
   "cell_type": "code",
   "execution_count": null,
   "metadata": {
    "id": "HRtCWGNPpYhG",
    "outputId": "c96c2d4c-8409-4cc0-a4f7-06518bf599d4"
   },
   "outputs": [
    {
     "name": "stdout",
     "output_type": "stream",
     "text": [
      "tensor([[1., 1., 1., 1.],\n",
      "        [0., 0., 0., 0.],\n",
      "        [1., 1., 1., 1.],\n",
      "        [1., 1., 1., 1.]])\n",
      "tensor([[1., 0., 1., 1.],\n",
      "        [1., 0., 1., 1.],\n",
      "        [1., 0., 1., 1.],\n",
      "        [1., 0., 1., 1.]])\n",
      "y1:\n",
      "tensor([[3., 3., 3., 3.],\n",
      "        [3., 3., 3., 3.],\n",
      "        [3., 3., 3., 3.],\n",
      "        [3., 3., 3., 3.]])\n",
      "y2:\n",
      "tensor([[3., 3., 3., 3.],\n",
      "        [3., 3., 3., 3.],\n",
      "        [3., 3., 3., 3.],\n",
      "        [3., 3., 3., 3.]])\n",
      "y3:\n",
      "tensor([[3., 3., 3., 3.],\n",
      "        [3., 3., 3., 3.],\n",
      "        [3., 3., 3., 3.],\n",
      "        [3., 3., 3., 3.]])\n",
      "tensor([[1., 0., 1., 1.],\n",
      "        [1., 0., 1., 1.],\n",
      "        [1., 0., 1., 1.],\n",
      "        [1., 0., 1., 1.]])\n",
      "tensor([[1., 0., 1., 1.],\n",
      "        [0., 0., 0., 0.],\n",
      "        [1., 0., 1., 1.],\n",
      "        [1., 0., 1., 1.]])\n"
     ]
    }
   ],
   "source": [
    "#Arithmetic operations\n",
    "\n",
    "# This computes the matrix multiplication between two tensors. y1, y2, y3 will have the same value\n",
    "# tensor.T = 0-D and 1-D tensors are returned as is.\n",
    "# When input is a 2-D tensor this is equivalent to transpose(input, 0, 1).\n",
    "print(tensor.T)\n",
    "print(tensor)\n",
    "y1 = tensor @ tensor.T\n",
    "print(\"y1:\")\n",
    "print(y1)\n",
    "\n",
    "y2 = tensor.matmul(tensor.T)\n",
    "print(\"y2:\")\n",
    "print(y2)\n",
    "\n",
    "y3 = torch.rand_like(tensor)\n",
    "torch.matmul(tensor, tensor.T, out=y3)\n",
    "print(\"y3:\")\n",
    "print(y3)\n",
    "\n",
    "\n",
    "# This computes the element-wise product. z1, z2, z3 will have the same value\n",
    "z1 = tensor * tensor\n",
    "z2 = tensor.mul(tensor)\n",
    "\n",
    "z3 = torch.rand_like(tensor)\n",
    "torch.mul(tensor, tensor, out=z3)\n",
    "print(z1)\n",
    "\n",
    "z1 = tensor * tensor.T\n",
    "print(z1)"
   ]
  },
  {
   "cell_type": "code",
   "execution_count": null,
   "metadata": {
    "id": "za4VUWjSpYhG",
    "outputId": "47b6add3-4215-491f-8a46-edeb35c09c59"
   },
   "outputs": [
    {
     "name": "stdout",
     "output_type": "stream",
     "text": [
      "tensor(12.)\n",
      "12.0 <class 'float'>\n"
     ]
    }
   ],
   "source": [
    "#Single-element tensors If you have a one-element tensor,\n",
    "#for example by aggregating all values of a tensor into one value,\n",
    "#you can convert it to a Python numerical value using item():\n",
    "\n",
    "# tensor.sum() sum all the values in tensor (reshaping the tensor as well)\n",
    "agg = tensor.sum()\n",
    "agg_item = agg.item()\n",
    "print(agg_item, type(agg_item))"
   ]
  },
  {
   "cell_type": "code",
   "execution_count": null,
   "metadata": {
    "id": "FaB2mbLJpYhG",
    "outputId": "94b73a50-2b62-4f18-a672-8e7d43b55ab7"
   },
   "outputs": [
    {
     "name": "stdout",
     "output_type": "stream",
     "text": [
      "tensor([[6., 5., 6., 6.],\n",
      "        [6., 5., 6., 6.],\n",
      "        [6., 5., 6., 6.],\n",
      "        [6., 5., 6., 6.]]) \n",
      "\n",
      "tensor([[11., 10., 11., 11.],\n",
      "        [11., 10., 11., 11.],\n",
      "        [11., 10., 11., 11.],\n",
      "        [11., 10., 11., 11.]])\n"
     ]
    }
   ],
   "source": [
    "#In-place operations Operations that store the result into the operand are\n",
    "#called in-place.\n",
    "#They are denoted by a _ suffix. For example: x.copy_(y), x.t_(), will change x.\n",
    "\n",
    "print(tensor, \"\\n\")\n",
    "tensor.add_(5)\n",
    "print(tensor)"
   ]
  },
  {
   "cell_type": "markdown",
   "metadata": {
    "id": "uKbrGgW7pYhG"
   },
   "source": [
    "## Bridge with Numpy ##"
   ]
  },
  {
   "cell_type": "code",
   "execution_count": null,
   "metadata": {
    "id": "iwwowErUpYhG",
    "outputId": "ad07fd51-b4ae-4a86-bc21-a5dd0efc7157"
   },
   "outputs": [
    {
     "name": "stdout",
     "output_type": "stream",
     "text": [
      "t: tensor([1., 1., 1., 1., 1.])\n",
      "n: [1. 1. 1. 1. 1.]\n"
     ]
    }
   ],
   "source": [
    "#Tensor to NumPy array\n",
    "\n",
    "t = torch.ones(5)\n",
    "print(f\"t: {t}\")\n",
    "n = t.numpy() #this is a reference\n",
    "print(f\"n: {n}\")"
   ]
  },
  {
   "cell_type": "code",
   "execution_count": null,
   "metadata": {
    "id": "us04DvVRpYhH",
    "outputId": "a4321852-6713-4245-caeb-0086e1822051"
   },
   "outputs": [
    {
     "name": "stdout",
     "output_type": "stream",
     "text": [
      "t: tensor([2., 2., 2., 2., 2.])\n",
      "n: [2. 2. 2. 2. 2.]\n"
     ]
    }
   ],
   "source": [
    "#A change in the tensor reflects in the NumPy array.\n",
    "\n",
    "t.add_(1)\n",
    "print(f\"t: {t}\")\n",
    "print(f\"n: {n}\")"
   ]
  },
  {
   "cell_type": "code",
   "execution_count": null,
   "metadata": {
    "id": "k_Z9LG2hpYhH"
   },
   "outputs": [],
   "source": [
    "#NumPy array to Tensor\n",
    "\n",
    "n = np.ones(5)\n",
    "t = torch.from_numpy(n) #This is a reference"
   ]
  },
  {
   "cell_type": "code",
   "execution_count": null,
   "metadata": {
    "id": "QBtSnrFZpYhH",
    "outputId": "2a04bf84-e27e-4c35-e709-e1c2a7076013"
   },
   "outputs": [
    {
     "name": "stdout",
     "output_type": "stream",
     "text": [
      "t: tensor([2., 2., 2., 2., 2.], dtype=torch.float64)\n",
      "n: [2. 2. 2. 2. 2.]\n"
     ]
    }
   ],
   "source": [
    "np.add(n, 1, out=n)\n",
    "print(f\"t: {t}\")\n",
    "print(f\"n: {n}\")"
   ]
  },
  {
   "cell_type": "markdown",
   "metadata": {
    "id": "NkgAjZuZpYhH"
   },
   "source": [
    "## Changing the shape of a tensor ##"
   ]
  },
  {
   "cell_type": "code",
   "execution_count": null,
   "metadata": {
    "id": "8-pwGgTApYhH",
    "outputId": "bfbb1b54-bfa1-4648-ba65-e76f46112449"
   },
   "outputs": [
    {
     "name": "stdout",
     "output_type": "stream",
     "text": [
      "tensor([[1, 0, 1, 1, 1],\n",
      "        [1, 0, 1, 1, 1],\n",
      "        [1, 0, 1, 1, 1],\n",
      "        [1, 0, 1, 1, 1]])\n",
      "torch.Size([4, 5])\n",
      "tensor([[1, 1, 1, 1],\n",
      "        [0, 0, 0, 0],\n",
      "        [1, 1, 1, 1],\n",
      "        [1, 1, 1, 1],\n",
      "        [1, 1, 1, 1]])\n",
      "torch.Size([5, 4])\n",
      "tensor([[1, 1, 1, 1],\n",
      "        [0, 0, 0, 0],\n",
      "        [1, 1, 1, 1],\n",
      "        [1, 1, 1, 1],\n",
      "        [1, 1, 1, 1]])\n",
      "torch.Size([5, 4])\n"
     ]
    }
   ],
   "source": [
    "tensor = torch.ones(4, 5, dtype=torch.long)\n",
    "tensor[:,1] = 0\n",
    "print(tensor)\n",
    "print(tensor.shape)\n",
    "\n",
    "# With permute we select the dimensions we want to exchange\n",
    "permuted_tensor = tensor.permute(1, 0)\n",
    "print(permuted_tensor)\n",
    "print(permuted_tensor.shape)\n",
    "\n",
    "# permute is equivalent to permute\n",
    "transposed_tensor = torch.transpose(tensor, 0, 1)\n",
    "print(transposed_tensor)\n",
    "print(transposed_tensor.shape)\n",
    "# output = torch.reshape(tensor, ((seq_length) * curr_batch_size, -1))\n",
    "# output = tensor.view(-1, trg_vocab_size)"
   ]
  },
  {
   "cell_type": "code",
   "execution_count": null,
   "metadata": {
    "id": "DovxoN0opYhH",
    "outputId": "61d2b88e-377e-47de-a951-02f9eadf50b1"
   },
   "outputs": [
    {
     "name": "stdout",
     "output_type": "stream",
     "text": [
      "tensor([[1, 0, 1, 1, 1],\n",
      "        [1, 0, 1, 1, 1],\n",
      "        [1, 0, 1, 1, 1],\n",
      "        [1, 0, 1, 1, 1]])\n",
      "torch.Size([4, 5])\n",
      "tensor([1, 0, 1, 1, 1, 1, 0, 1, 1, 1, 1, 0, 1, 1, 1, 1, 0, 1, 1, 1])\n",
      "torch.Size([20])\n",
      "tensor([[[1, 0, 1, 1, 1, 1, 0, 1, 1, 1]],\n",
      "\n",
      "        [[1, 0, 1, 1, 1, 1, 0, 1, 1, 1]]])\n",
      "torch.Size([2, 1, 10])\n",
      "tensor([1, 0, 1, 1, 1, 1, 0, 1, 1, 1, 1, 0, 1, 1, 1, 1, 0, 1, 1, 1])\n",
      "tensor([[1, 0, 0, 1, 1],\n",
      "        [1, 0, 0, 1, 1],\n",
      "        [1, 0, 0, 1, 1],\n",
      "        [1, 0, 0, 1, 1]])\n",
      "tensor([1, 0, 0, 1, 1, 1, 0, 0, 1, 1, 1, 0, 0, 1, 1, 1, 0, 0, 1, 1])\n",
      "tensor([1, 0, 0, 1, 1, 1, 0, 0, 1, 1, 1, 0, 0, 1, 1, 1, 0, 0, 1, 1])\n",
      "torch.Size([20])\n"
     ]
    }
   ],
   "source": [
    "tensor = torch.ones(4, 5, dtype=torch.long)\n",
    "tensor[:,1] = 0\n",
    "print(tensor)\n",
    "print(tensor.shape)\n",
    "\n",
    "# With view we reshape the tensor. We use -1 when we just want the dimension to have the \"rest\"\n",
    "# it is used to change the tensor to the specified dimensions\n",
    "# using view(-1) like this \"flatten\" the tensor\n",
    "view_applied_tensor = tensor.view(-1)\n",
    "print(view_applied_tensor)\n",
    "print(view_applied_tensor.shape)\n",
    "\n",
    "# Get another view of the tensor with 3 dims\n",
    "view_applied_tensor = tensor.view(2, 1, -1)\n",
    "print(view_applied_tensor)\n",
    "print(view_applied_tensor.shape)\n",
    "\n",
    "# Another peculiarity with view is that the data is shared with the original tensor\n",
    "view_applied_tensor = tensor.view(-1)\n",
    "print(view_applied_tensor)\n",
    "tensor[:,2] = 0\n",
    "print(tensor)\n",
    "print(view_applied_tensor)\n",
    "\n",
    "\n",
    "# Another approach is to use torch.reshape(tensor, set of dimensions)\n",
    "# It might return a tensor that does not share the data with the original tensor\n",
    "reshaped_tensor = torch.reshape(tensor, ([-1]))\n",
    "print(reshaped_tensor)\n",
    "print(reshaped_tensor.shape)\n"
   ]
  },
  {
   "cell_type": "code",
   "execution_count": null,
   "metadata": {
    "id": "YD71bTJIpYhH",
    "outputId": "c97a47ef-1d7e-4e77-e941-8d527efb7109"
   },
   "outputs": [
    {
     "name": "stdout",
     "output_type": "stream",
     "text": [
      "tensor([[1, 0, 1, 1, 1],\n",
      "        [1, 0, 1, 1, 1],\n",
      "        [1, 0, 1, 1, 1],\n",
      "        [1, 0, 1, 1, 1]])\n",
      "torch.Size([4, 5])\n",
      "tensor([[[1, 0, 1, 1, 1],\n",
      "         [1, 0, 1, 1, 1],\n",
      "         [1, 0, 1, 1, 1],\n",
      "         [1, 0, 1, 1, 1]]])\n",
      "torch.Size([1, 4, 5])\n",
      "tensor([[1, 0, 1, 1, 1],\n",
      "        [1, 0, 1, 1, 1],\n",
      "        [1, 0, 1, 1, 1],\n",
      "        [1, 0, 1, 1, 1]])\n",
      "torch.Size([4, 5])\n"
     ]
    }
   ],
   "source": [
    "tensor = torch.ones(4, 5, dtype=torch.long)\n",
    "tensor[:,1] = 0\n",
    "print(tensor)\n",
    "print(tensor.shape)\n",
    "\n",
    "# unsqueeze and squeeze are two other common operations\n",
    "# unsqueeze adds a dimension of size 1 at an specific dimension position (cannot be higher)\n",
    "# (tensor, dim)\n",
    "unsqueezed_tensor = torch.unsqueeze(tensor, 0)\n",
    "print(unsqueezed_tensor)\n",
    "print(unsqueezed_tensor.shape)\n",
    "\n",
    "# All dimensions of 1 are removed! (tensor, dim)\n",
    "squeezed_tensor = torch.squeeze(unsqueezed_tensor, 0)\n",
    "print(squeezed_tensor)\n",
    "print(squeezed_tensor.shape)"
   ]
  },
  {
   "cell_type": "markdown",
   "metadata": {
    "id": "BbeehurKpYhH"
   },
   "source": [
    "-------\n",
    "You should check this, and try/play with all the possible operations with tensors!! https://pytorch.org/docs/stable/index.html"
   ]
  }
 ],
 "metadata": {
  "colab": {
   "include_colab_link": true,
   "provenance": []
  },
  "kernelspec": {
   "display_name": "Python 3",
   "language": "python",
   "name": "python3"
  },
  "language_info": {
   "codemirror_mode": {
    "name": "ipython",
    "version": 3
   },
   "file_extension": ".py",
   "mimetype": "text/x-python",
   "name": "python",
   "nbconvert_exporter": "python",
   "pygments_lexer": "ipython3",
   "version": "3.8.2"
  }
 },
 "nbformat": 4,
 "nbformat_minor": 0
}

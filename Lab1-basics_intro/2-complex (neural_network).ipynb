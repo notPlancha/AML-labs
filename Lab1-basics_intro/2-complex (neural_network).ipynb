{
 "cells": [
  {
   "cell_type": "markdown",
   "metadata": {
    "colab_type": "text",
    "id": "view-in-github"
   },
   "source": [
    "<a href=\"https://colab.research.google.com/github/Azadshokrollahi/Advance-machine-learning/blob/develop/0-basics_intro/2-neural_network.ipynb\" target=\"_parent\"><img src=\"https://colab.research.google.com/assets/colab-badge.svg\" alt=\"Open In Colab\"/></a>"
   ]
  },
  {
   "cell_type": "markdown",
   "metadata": {
    "id": "kKf9qr1YqhhX"
   },
   "source": [
    "# Build a Neural Network #\n",
    "\n",
    "Neural networks comprise of layers/modules that perform operations on data. The torch.nn namespace provides all the building blocks you need to build your own neural network. Every module in PyTorch subclasses the nn.Module. A neural network is a module itself that consists of other modules (layers). This nested structure allows for building and managing complex architectures easily."
   ]
  },
  {
   "cell_type": "code",
   "execution_count": null,
   "metadata": {
    "id": "d7M_So7HqhhY"
   },
   "outputs": [],
   "source": [
    "import os\n",
    "import torch\n",
    "from torch import nn\n",
    "from torch.utils.data import DataLoader\n",
    "from torchvision import datasets, transforms"
   ]
  },
  {
   "cell_type": "code",
   "execution_count": null,
   "metadata": {
    "id": "7aShPdevqhhZ",
    "outputId": "b1fa50a4-d826-4ac8-b10b-1a8816a1f852"
   },
   "outputs": [
    {
     "name": "stdout",
     "output_type": "stream",
     "text": [
      "Using cuda device\n"
     ]
    }
   ],
   "source": [
    "device = 'cuda' if torch.cuda.is_available() else 'cpu'\n",
    "print('Using {} device'.format(device))"
   ]
  },
  {
   "cell_type": "code",
   "execution_count": null,
   "metadata": {
    "id": "ufPEI2x3qhhZ"
   },
   "outputs": [],
   "source": [
    "# We define our neural network by subclassing nn.Module, and initialize the neural network layers in __init__.\n",
    "# Every nn.Module subclass implements the operations on input data in the forward method.\n",
    "\n",
    "class NeuralNetwork(nn.Module):\n",
    "    def __init__(self, input_width, input_height, label_dim):\n",
    "        super(NeuralNetwork, self).__init__()\n",
    "        self.flatten = nn.Flatten() # Used to convert the 2D input into 1D (28x28 to 784)\n",
    "        self.linear_relu_stack = nn.Sequential(\n",
    "            nn.Linear(input_width*input_height, 512),\n",
    "            nn.ReLU(),\n",
    "            nn.Linear(512, 512),\n",
    "            nn.ReLU(),\n",
    "            nn.Linear(512, label_dim),\n",
    "            nn.ReLU()\n",
    "        )\n",
    "        self.softmax = nn.Softmax(dim=1) # y = [2.5, 0.9, 0.2] -> softmax(y) -> [0.768, 0.155, 0.077] (if you want to test https://keisan.casio.com/exec/system/15168444286206)\n",
    "        self.softmax_result = 0\n",
    "\n",
    "    def forward(self, x):\n",
    "        x = self.flatten(x) #[64, 28, 28] -> [64, 784] [batch size, width, height]\n",
    "        logits = self.linear_relu_stack(x)\n",
    "        self.softmax_result = self.softmax(logits)\n",
    "        return logits"
   ]
  },
  {
   "cell_type": "markdown",
   "metadata": {
    "id": "jmHCdUsZqhhZ"
   },
   "source": [
    "### One by one the modules ###\n"
   ]
  },
  {
   "cell_type": "code",
   "execution_count": null,
   "metadata": {
    "id": "z5bprn_NqhhZ",
    "outputId": "18be624f-802c-4475-f590-1d39872a3be7"
   },
   "outputs": [
    {
     "name": "stdout",
     "output_type": "stream",
     "text": [
      "torch.Size([3, 28, 28])\n"
     ]
    }
   ],
   "source": [
    "input_image = torch.rand(3,28,28) # 3 is used to exemplify a mini-batch\n",
    "print(input_image.size())"
   ]
  },
  {
   "cell_type": "code",
   "execution_count": null,
   "metadata": {
    "id": "nJkxlXZ9qhha",
    "outputId": "c4999396-680e-41a9-9193-3d182b62bad6"
   },
   "outputs": [
    {
     "name": "stdout",
     "output_type": "stream",
     "text": [
      "torch.Size([3, 784])\n"
     ]
    }
   ],
   "source": [
    "# We initialize the nn.Flatten layer to convert each 2D 28x28\n",
    "# image into a contiguous array of 784 pixel values ( the minibatch dimension (at dim=0) is maintained).\n",
    "\n",
    "flatten = nn.Flatten()\n",
    "flat_image = flatten(input_image)\n",
    "print(flat_image.size())"
   ]
  },
  {
   "cell_type": "code",
   "execution_count": null,
   "metadata": {
    "id": "yGbRw5mSqhha",
    "outputId": "18c8b4ee-2559-4774-b706-a82cb6c471ff"
   },
   "outputs": [
    {
     "name": "stdout",
     "output_type": "stream",
     "text": [
      "torch.Size([3, 20])\n"
     ]
    }
   ],
   "source": [
    "layer1 = nn.Linear(in_features=28*28, out_features=20) # Linear transformation\n",
    "hidden1 = layer1(flat_image)\n",
    "print(hidden1.size())"
   ]
  },
  {
   "cell_type": "markdown",
   "metadata": {
    "id": "zD3HnFLtqhha"
   },
   "source": [
    "Non-linear activations are what create the complex mappings between the model’s inputs and outputs. They are applied after linear transformations to introduce nonlinearity, helping neural networks learn a wide variety of phenomena.\n",
    "\n",
    "In this model, we use nn.ReLU between our linear layers, but there’s other activations to introduce non-linearity in your model such as LeakyReLU, Sigmoid, TANH, etc."
   ]
  },
  {
   "cell_type": "code",
   "execution_count": null,
   "metadata": {
    "id": "UPZkIleAqhha",
    "outputId": "9a9ed8b8-2b96-4aeb-e83d-f46336081161"
   },
   "outputs": [
    {
     "name": "stdout",
     "output_type": "stream",
     "text": [
      "Before ReLU: tensor([[-0.5521, -0.1763,  0.2181,  0.3600,  0.1885, -0.4228, -0.1503,  0.5199,\n",
      "          0.0754,  0.8847,  0.4356, -0.3666, -0.7521,  0.3163,  0.0755, -0.0263,\n",
      "          0.3717,  0.1715, -0.2635, -0.4260],\n",
      "        [-0.3759, -0.4892,  0.0807,  0.3759,  0.3675, -0.0627, -0.2016,  0.5176,\n",
      "         -0.1489,  0.7896,  0.5289,  0.1737, -0.4503, -0.1660, -0.0389, -0.2756,\n",
      "          0.2657, -0.1171,  0.1742, -0.6998],\n",
      "        [-0.3712, -0.4284, -0.0033,  0.4337,  0.5216, -0.0041, -0.1897,  0.4734,\n",
      "          0.0084,  0.5866,  0.5368, -0.1823, -0.0847, -0.2730, -0.1109, -0.1300,\n",
      "          0.1685,  0.2679, -0.2757, -0.6517]], grad_fn=<AddmmBackward>)\n",
      "\n",
      "\n",
      "After ReLU: tensor([[0.0000, 0.0000, 0.2181, 0.3600, 0.1885, 0.0000, 0.0000, 0.5199, 0.0754,\n",
      "         0.8847, 0.4356, 0.0000, 0.0000, 0.3163, 0.0755, 0.0000, 0.3717, 0.1715,\n",
      "         0.0000, 0.0000],\n",
      "        [0.0000, 0.0000, 0.0807, 0.3759, 0.3675, 0.0000, 0.0000, 0.5176, 0.0000,\n",
      "         0.7896, 0.5289, 0.1737, 0.0000, 0.0000, 0.0000, 0.0000, 0.2657, 0.0000,\n",
      "         0.1742, 0.0000],\n",
      "        [0.0000, 0.0000, 0.0000, 0.4337, 0.5216, 0.0000, 0.0000, 0.4734, 0.0084,\n",
      "         0.5866, 0.5368, 0.0000, 0.0000, 0.0000, 0.0000, 0.0000, 0.1685, 0.2679,\n",
      "         0.0000, 0.0000]], grad_fn=<ReluBackward0>)\n"
     ]
    }
   ],
   "source": [
    "print(f\"Before ReLU: {hidden1}\\n\\n\")\n",
    "hidden1 = nn.ReLU()(hidden1)\n",
    "print(f\"After ReLU: {hidden1}\")"
   ]
  },
  {
   "cell_type": "markdown",
   "metadata": {
    "id": "8h9PJ75iqhha"
   },
   "source": [
    "***\n",
    "nn.Sequential is an ordered container of modules. The data is passed through all the modules in the same order as defined. You can use sequential containers to put together a quick network like seq_modules."
   ]
  },
  {
   "cell_type": "code",
   "execution_count": null,
   "metadata": {
    "id": "WgaMJqr-qhha",
    "outputId": "4457a9db-a873-4880-a95a-cf773e078fdf"
   },
   "outputs": [
    {
     "name": "stdout",
     "output_type": "stream",
     "text": [
      "tensor([[ 0.2222,  0.0818,  0.4511,  0.2300, -0.2320, -0.0505, -0.2158,  0.0603,\n",
      "          0.3155,  0.2240],\n",
      "        [ 0.2312,  0.0899,  0.4114,  0.3050, -0.1691,  0.0097, -0.1962,  0.1820,\n",
      "          0.3438,  0.2535],\n",
      "        [ 0.0462,  0.2974,  0.2842,  0.1784, -0.2367,  0.0944, -0.1067,  0.0969,\n",
      "          0.2591,  0.2555]], grad_fn=<AddmmBackward>)\n"
     ]
    }
   ],
   "source": [
    "seq_modules = nn.Sequential(\n",
    "    flatten,\n",
    "    layer1,\n",
    "    nn.ReLU(),\n",
    "    nn.Linear(20, 10)\n",
    ")\n",
    "input_image = torch.rand(3,28,28)\n",
    "logits = seq_modules(input_image)\n",
    "print(logits)"
   ]
  },
  {
   "cell_type": "markdown",
   "metadata": {
    "id": "5Qii6QGWqhha"
   },
   "source": [
    "***\n",
    "Finally, we use the nn.softmax, which scale the logits values to [0, 1] from [-infty. infty], representing the models predicted probabilties.\n",
    "\n",
    "`dim` indicates which dimension should softmax be applied (dim=1 so we don't mess with the minibatch)"
   ]
  },
  {
   "cell_type": "code",
   "execution_count": null,
   "metadata": {
    "id": "8LqWexzIqhha",
    "outputId": "9fca0805-729b-487b-97c3-555d6faa823a"
   },
   "outputs": [
    {
     "name": "stdout",
     "output_type": "stream",
     "text": [
      "tensor([[0.1096, 0.0952, 0.1378, 0.1104, 0.0696, 0.0834, 0.0707, 0.0932, 0.1203,\n",
      "         0.1098],\n",
      "        [0.1068, 0.0928, 0.1279, 0.1150, 0.0716, 0.0856, 0.0697, 0.1017, 0.1196,\n",
      "         0.1093],\n",
      "        [0.0919, 0.1182, 0.1166, 0.1049, 0.0693, 0.0965, 0.0789, 0.0967, 0.1137,\n",
      "         0.1133]], grad_fn=<SoftmaxBackward>)\n"
     ]
    }
   ],
   "source": [
    "softmax = nn.Softmax(dim=1)\n",
    "pred_probab = softmax(logits)\n",
    "print(pred_probab)"
   ]
  },
  {
   "cell_type": "code",
   "execution_count": null,
   "metadata": {
    "id": "XnmHy4W2qhhb",
    "outputId": "d738444c-21da-4026-ff42-215e1ee3f517"
   },
   "outputs": [
    {
     "name": "stdout",
     "output_type": "stream",
     "text": [
      "NeuralNetwork(\n",
      "  (flatten): Flatten(start_dim=1, end_dim=-1)\n",
      "  (linear_relu_stack): Sequential(\n",
      "    (0): Linear(in_features=784, out_features=512, bias=True)\n",
      "    (1): ReLU()\n",
      "    (2): Linear(in_features=512, out_features=512, bias=True)\n",
      "    (3): ReLU()\n",
      "    (4): Linear(in_features=512, out_features=10, bias=True)\n",
      "    (5): ReLU()\n",
      "  )\n",
      "  (softmax): Softmax(dim=1)\n",
      ")\n"
     ]
    }
   ],
   "source": [
    "model = NeuralNetwork(28, 28, 10).to(device)\n",
    "print(model) # You can see the networks structure"
   ]
  },
  {
   "cell_type": "code",
   "execution_count": null,
   "metadata": {
    "id": "jVEwBPSnqhhb",
    "outputId": "b6839ded-b9d7-4d76-d115-9ac076167bc8"
   },
   "outputs": [
    {
     "name": "stdout",
     "output_type": "stream",
     "text": [
      "Model structure:  NeuralNetwork(\n",
      "  (flatten): Flatten(start_dim=1, end_dim=-1)\n",
      "  (linear_relu_stack): Sequential(\n",
      "    (0): Linear(in_features=784, out_features=512, bias=True)\n",
      "    (1): ReLU()\n",
      "    (2): Linear(in_features=512, out_features=512, bias=True)\n",
      "    (3): ReLU()\n",
      "    (4): Linear(in_features=512, out_features=10, bias=True)\n",
      "    (5): ReLU()\n",
      "  )\n",
      "  (softmax): Softmax(dim=1)\n",
      ") \n",
      "\n",
      "\n",
      "Layer: linear_relu_stack.0.weight | Size: torch.Size([512, 784]) | Values : tensor([[ 0.0354,  0.0149, -0.0158,  ...,  0.0004, -0.0142, -0.0113],\n",
      "        [-0.0212, -0.0163, -0.0003,  ...,  0.0180, -0.0115,  0.0136]],\n",
      "       device='cuda:0', grad_fn=<SliceBackward>) \n",
      "\n",
      "Layer: linear_relu_stack.0.bias | Size: torch.Size([512]) | Values : tensor([ 0.0305, -0.0159], device='cuda:0', grad_fn=<SliceBackward>) \n",
      "\n",
      "Layer: linear_relu_stack.2.weight | Size: torch.Size([512, 512]) | Values : tensor([[ 0.0145,  0.0071,  0.0184,  ...,  0.0432,  0.0077, -0.0437],\n",
      "        [-0.0084,  0.0142, -0.0265,  ...,  0.0267,  0.0361, -0.0277]],\n",
      "       device='cuda:0', grad_fn=<SliceBackward>) \n",
      "\n",
      "Layer: linear_relu_stack.2.bias | Size: torch.Size([512]) | Values : tensor([0.0058, 0.0068], device='cuda:0', grad_fn=<SliceBackward>) \n",
      "\n",
      "Layer: linear_relu_stack.4.weight | Size: torch.Size([10, 512]) | Values : tensor([[-0.0354, -0.0441, -0.0374,  ...,  0.0439,  0.0051, -0.0159],\n",
      "        [ 0.0369,  0.0187,  0.0205,  ..., -0.0376,  0.0237,  0.0148]],\n",
      "       device='cuda:0', grad_fn=<SliceBackward>) \n",
      "\n",
      "Layer: linear_relu_stack.4.bias | Size: torch.Size([10]) | Values : tensor([-0.0207, -0.0063], device='cuda:0', grad_fn=<SliceBackward>) \n",
      "\n"
     ]
    }
   ],
   "source": [
    "print(\"Model structure: \", model, \"\\n\\n\")\n",
    "\n",
    "for name, param in model.named_parameters():\n",
    "    print(f\"Layer: {name} | Size: {param.size()} | Values : {param[:2]} \\n\")"
   ]
  },
  {
   "cell_type": "markdown",
   "metadata": {
    "id": "Af-suspBqhhb"
   },
   "source": [
    "### Use the model ###"
   ]
  },
  {
   "cell_type": "code",
   "execution_count": null,
   "metadata": {
    "id": "RE8_kbmbqhhb",
    "outputId": "a9f974d4-52ca-4b9e-e34e-0445f35695c6"
   },
   "outputs": [
    {
     "name": "stdout",
     "output_type": "stream",
     "text": [
      "tensor([[0.0969, 0.1023, 0.0969, 0.1053, 0.1056, 0.1003, 0.0969, 0.1003, 0.0969,\n",
      "         0.0987]], device='cuda:0', grad_fn=<SoftmaxBackward>)\n",
      "Predicted class: tensor([4], device='cuda:0')\n",
      "tensor([[0.0969, 0.1023, 0.0969, 0.1053, 0.1056, 0.1003, 0.0969, 0.1003, 0.0969,\n",
      "         0.0987]], device='cuda:0', grad_fn=<SoftmaxBackward>)\n",
      "Predicted class: tensor([4], device='cuda:0')\n"
     ]
    }
   ],
   "source": [
    "X = torch.rand(1, 28, 28, device=device)\n",
    "logits = model(X)\n",
    "pred_probab = nn.Softmax(dim=1)(logits)\n",
    "print(pred_probab)\n",
    "y_pred = pred_probab.argmax(1)\n",
    "print(f\"Predicted class: {y_pred}\")\n",
    "\n",
    "print(model.softmax_result)\n",
    "pred_probab = model.softmax_result.argmax(1)  # Done directly in the network?\n",
    "print(f\"Predicted class: {y_pred}\")\n"
   ]
  },
  {
   "cell_type": "code",
   "execution_count": null,
   "metadata": {
    "id": "1gqh3Yofqhhb"
   },
   "outputs": [],
   "source": []
  }
 ],
 "metadata": {
  "colab": {
   "include_colab_link": true,
   "provenance": []
  },
  "kernelspec": {
   "display_name": "Python 3",
   "language": "python",
   "name": "python3"
  },
  "language_info": {
   "codemirror_mode": {
    "name": "ipython",
    "version": 3
   },
   "file_extension": ".py",
   "mimetype": "text/x-python",
   "name": "python",
   "nbconvert_exporter": "python",
   "pygments_lexer": "ipython3",
   "version": "3.8.2"
  }
 },
 "nbformat": 4,
 "nbformat_minor": 0
}

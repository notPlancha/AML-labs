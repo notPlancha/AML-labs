{
 "cells": [
  {
   "cell_type": "markdown",
   "metadata": {},
   "source": [
    "# Welcome to the Advanced Machine Learning Course #\n",
    "\n",
    "## Most of the times, we will be using Jupyter Notebook to run tutorials, experiments, and assignments ##\n",
    "\n",
    "### This Notebook's purpose is to verify that you were able to install everything correctly with Anaconda ###\n",
    "\n",
    "Simply run the cell below pressing Shift + Enter"
   ]
  },
  {
   "cell_type": "code",
   "execution_count": 6,
   "metadata": {},
   "outputs": [
    {
     "name": "stdout",
     "output_type": "stream",
     "text": [
      "tensor([[0.4511, 0.1932],\n",
      "        [0.4920, 0.1173],\n",
      "        [0.2930, 0.6444]])\n",
      "cuda\n"
     ]
    }
   ],
   "source": [
    "# Run by <shift> + <enter>\n",
    "\n",
    "import torch \n",
    "import torchvision\n",
    "import torchtext\n",
    "\n",
    "# Create a random tensor\n",
    "test_tensor = torch.rand(3, 2)\n",
    "print(test_tensor)\n",
    "\n",
    "# Get the current device (to run operations with tensors) - it will print \"cuda\" if you installed the correct cuda version and pytorch with CUDA.\n",
    "device = torch.device(\"cuda\" if torch.cuda.is_available() else \"cpu\")\n",
    "print(device)"
   ]
  },
  {
   "cell_type": "code",
   "execution_count": null,
   "metadata": {},
   "outputs": [],
   "source": []
  }
 ],
 "metadata": {
  "kernelspec": {
   "display_name": "Python [conda env:pDL] *",
   "language": "python",
   "name": "conda-env-pDL-py"
  },
  "language_info": {
   "codemirror_mode": {
    "name": "ipython",
    "version": 3
   },
   "file_extension": ".py",
   "mimetype": "text/x-python",
   "name": "python",
   "nbconvert_exporter": "python",
   "pygments_lexer": "ipython3",
   "version": "3.8.2"
  }
 },
 "nbformat": 4,
 "nbformat_minor": 4
}
